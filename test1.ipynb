{
 "cells": [
  {
   "cell_type": "code",
   "execution_count": 1,
   "metadata": {},
   "outputs": [],
   "source": [
    "# Import necessary libraries\n",
    "\n",
    "# Database tools\n",
    "\n",
    "import os\n",
    "import sqlite3\n",
    "%load_ext sql\n",
    "import sqlalchemy as sqla"
   ]
  },
  {
   "cell_type": "code",
   "execution_count": 2,
   "metadata": {},
   "outputs": [
    {
     "data": {
      "text/plain": [
       "'Connected: @/Users/luchano/miniconda3/envs/Pandas/CreditRisk.db'"
      ]
     },
     "execution_count": 2,
     "metadata": {},
     "output_type": "execute_result"
    }
   ],
   "source": [
    "# Load database that we want to work with\n",
    "sqla.create_engine('sqlite:////https://github.com/LuisFRoch/UBS_Sample/master/CreditRisk.db')\n",
    "%sql sqlite:////https://github.com/LuisFRoch/UBS_Sample/master/CreditRisk.db"
   ]
  },
  {
   "cell_type": "code",
   "execution_count": 3,
   "metadata": {
    "cell_style": "split"
   },
   "outputs": [
    {
     "name": "stdout",
     "output_type": "stream",
     "text": [
      " * sqlite:////Users/luchano/miniconda3/envs/Pandas/CreditRisk.db\n",
      "Done.\n"
     ]
    },
    {
     "data": {
      "text/html": [
       "<table>\n",
       "    <tr>\n",
       "        <th>LEI_code</th>\n",
       "        <th>NSA</th>\n",
       "        <th>Periods</th>\n",
       "        <th>Item</th>\n",
       "        <th>Portfolio</th>\n",
       "        <th>Country</th>\n",
       "        <th>Country_rank</th>\n",
       "        <th>Exposure</th>\n",
       "        <th>Status</th>\n",
       "        <th>Perf_Status</th>\n",
       "        <th>AMOUNT</th>\n",
       "        <th>key</th>\n",
       "    </tr>\n",
       "    <tr>\n",
       "        <td>PQOH26KWDF7CG10L6792</td>\n",
       "        <td>AT</td>\n",
       "        <td>201412</td>\n",
       "        <td>150501</td>\n",
       "        <td>1</td>\n",
       "        <td>0</td>\n",
       "        <td>0</td>\n",
       "        <td>0</td>\n",
       "        <td>0</td>\n",
       "        <td>0</td>\n",
       "        <td>71177.046165</td>\n",
       "        <td>1</td>\n",
       "    </tr>\n",
       "    <tr>\n",
       "        <td>PQOH26KWDF7CG10L6792</td>\n",
       "        <td>AT</td>\n",
       "        <td>201412</td>\n",
       "        <td>150502</td>\n",
       "        <td>1</td>\n",
       "        <td>0</td>\n",
       "        <td>0</td>\n",
       "        <td>103</td>\n",
       "        <td>0</td>\n",
       "        <td>0</td>\n",
       "        <td>34204.300706</td>\n",
       "        <td>2</td>\n",
       "    </tr>\n",
       "</table>"
      ],
      "text/plain": [
       "[('PQOH26KWDF7CG10L6792', 'AT', 201412, 150501, 1, 0, 0, 0, 0, 0, 71177.046165, 1),\n",
       " ('PQOH26KWDF7CG10L6792', 'AT', 201412, 150502, 1, 0, 0, 103, 0, 0, 34204.300706, 2)]"
      ]
     },
     "execution_count": 3,
     "metadata": {},
     "output_type": "execute_result"
    }
   ],
   "source": [
    "%%sql \n",
    "Select *\n",
    "From Credit_risk\n",
    "Limit 2"
   ]
  },
  {
   "cell_type": "code",
   "execution_count": 4,
   "metadata": {
    "cell_style": "split"
   },
   "outputs": [
    {
     "name": "stdout",
     "output_type": "stream",
     "text": [
      " * sqlite:////Users/luchano/miniconda3/envs/Pandas/CreditRisk.db\n",
      "Done.\n"
     ]
    },
    {
     "data": {
      "text/html": [
       "<table>\n",
       "    <tr>\n",
       "        <th>LEI_code</th>\n",
       "        <th>Name</th>\n",
       "        <th>Country</th>\n",
       "    </tr>\n",
       "    <tr>\n",
       "        <td>PQOH26KWDF7CG10L6792</td>\n",
       "        <td>Erste Group Bank AG</td>\n",
       "        <td>Austria</td>\n",
       "    </tr>\n",
       "    <tr>\n",
       "        <td>5299004SNO5GECIBWJ18</td>\n",
       "        <td>Promontoria Sacher Holding N.V.</td>\n",
       "        <td>Austria</td>\n",
       "    </tr>\n",
       "</table>"
      ],
      "text/plain": [
       "[('PQOH26KWDF7CG10L6792', 'Erste Group Bank AG', 'Austria'),\n",
       " ('5299004SNO5GECIBWJ18', 'Promontoria Sacher Holding N.V.', 'Austria')]"
      ]
     },
     "execution_count": 4,
     "metadata": {},
     "output_type": "execute_result"
    }
   ],
   "source": [
    "%%sql \n",
    "Select *\n",
    "From EBA_List\n",
    "Limit 2"
   ]
  },
  {
   "cell_type": "code",
   "execution_count": null,
   "metadata": {},
   "outputs": [],
   "source": []
  }
 ],
 "metadata": {
  "hide_input": false,
  "kernelspec": {
   "display_name": "Python 3",
   "language": "python",
   "name": "python3"
  },
  "language_info": {
   "codemirror_mode": {
    "name": "ipython",
    "version": 3
   },
   "file_extension": ".py",
   "mimetype": "text/x-python",
   "name": "python",
   "nbconvert_exporter": "python",
   "pygments_lexer": "ipython3",
   "version": "3.7.6"
  },
  "toc": {
   "base_numbering": 1,
   "nav_menu": {},
   "number_sections": false,
   "sideBar": false,
   "skip_h1_title": false,
   "title_cell": "Table of Contents",
   "title_sidebar": "Contents",
   "toc_cell": false,
   "toc_position": {},
   "toc_section_display": false,
   "toc_window_display": false
  }
 },
 "nbformat": 4,
 "nbformat_minor": 4
}
