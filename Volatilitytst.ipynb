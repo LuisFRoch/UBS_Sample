{
 "cells": [
  {
   "cell_type": "code",
   "execution_count": 1,
   "metadata": {
    "extensions": {
     "jupyter_dashboards": {
      "version": 1,
      "views": {
       "grid_default": {},
       "report_default": {}
      }
     }
    }
   },
   "outputs": [],
   "source": [
    "import plotly\n",
    "import plotly.graph_objs as go\n",
    "#import plotly.graph_objects as go\n",
    "import plotly.offline as py\n",
    "from plotly.offline import download_plotlyjs, init_notebook_mode, plot, iplot\n",
    "\n",
    "from beakerx import *\n",
    "#import ipypivot as pt\n",
    "import pandas as pd\n",
    "import numpy as np\n",
    "import pandas_datareader as pdr\n",
    "import ipywidgets as widgets\n",
    "from ipywidgets import interactive, HBox, VBox, HTML, ToggleButtons, interact, interact_manual\n",
    "from bqplot import pyplot as plt\n",
    "import bqplot\n",
    "\n",
    "from bqplot import DateScale, LinearScale, Axis, Lines, Scatter, Bars, Hist, Figure\n",
    "from bqplot.interacts import (\n",
    "    FastIntervalSelector, IndexSelector, BrushIntervalSelector,\n",
    "    BrushSelector, MultiSelector, LassoSelector, PanZoom, HandDraw\n",
    ")\n",
    "from traitlets import link"
   ]
  },
  {
   "cell_type": "code",
   "execution_count": 2,
   "metadata": {
    "extensions": {
     "jupyter_dashboards": {
      "version": 1,
      "views": {
       "grid_default": {},
       "report_default": {}
      }
     }
    }
   },
   "outputs": [],
   "source": [
    "df = pdr.get_data_yahoo(\"TSLA\", start = \"2018-07-01\", end=pd.Timestamp('today'))\n",
    "df2 = df"
   ]
  },
  {
   "cell_type": "code",
   "execution_count": 3,
   "metadata": {
    "extensions": {
     "jupyter_dashboards": {
      "version": 1,
      "views": {
       "grid_default": {},
       "report_default": {}
      }
     }
    }
   },
   "outputs": [],
   "source": [
    "df2['SMA'] = df['Adj Close'].rolling(window=3).mean()"
   ]
  },
  {
   "cell_type": "code",
   "execution_count": 4,
   "metadata": {
    "extensions": {
     "jupyter_dashboards": {
      "version": 1,
      "views": {
       "grid_default": {},
       "report_default": {}
      }
     }
    }
   },
   "outputs": [],
   "source": [
    "df2['Daily_Close'] = df2['Adj Close']"
   ]
  },
  {
   "cell_type": "code",
   "execution_count": 5,
   "metadata": {
    "extensions": {
     "jupyter_dashboards": {
      "version": 1,
      "views": {
       "grid_default": {},
       "report_default": {}
      }
     }
    }
   },
   "outputs": [],
   "source": [
    "df2['Daily_Returns'] = df2['Daily_Close'].pct_change().round(4)\n",
    "df2['Daily_LN_Returns'] = np.log(df2['Daily_Close'].pct_change()+1).round(4)\n",
    "df2['Cum_Daily_Return'] = (1 + df2['Daily_Returns']).cumprod().round(4)\n",
    "df2['Cum_Monthly_Return'] = df2['Daily_Close'].resample('BM').ffill().pct_change().round(4)"
   ]
  },
  {
   "cell_type": "code",
   "execution_count": 6,
   "metadata": {
    "extensions": {
     "jupyter_dashboards": {
      "version": 1,
      "views": {
       "grid_default": {},
       "report_default": {}
      }
     }
    }
   },
   "outputs": [],
   "source": [
    "df2['Daily_Returns'].fillna(0, inplace = True)\n",
    "df2['Daily_Close'].fillna(0, inplace = True)\n",
    "df2['SMA'].fillna(0, inplace = True)\n",
    "df2['Daily_LN_Returns'].fillna(0, inplace = True)\n",
    "df2['Cum_Daily_Return'].fillna(0, inplace = True)\n",
    "df2['Daily_Close'].fillna(0, inplace = True)"
   ]
  },
  {
   "cell_type": "code",
   "execution_count": 7,
   "metadata": {
    "extensions": {
     "jupyter_dashboards": {
      "version": 1,
      "views": {
       "grid_default": {},
       "report_default": {}
      }
     }
    }
   },
   "outputs": [
    {
     "data": {
      "application/vnd.jupyter.widget-view+json": {
       "model_id": "14bcb770111d4c918492c7d93a904e1e",
       "version_major": 2,
       "version_minor": 0
      },
      "text/plain": [
       "VBox(children=(HBox(), FigureWidget({\n",
       "    'data': [{'marker': {'color': '#007dcc',\n",
       "                         'l…"
      ]
     },
     "metadata": {},
     "output_type": "display_data"
    }
   ],
   "source": [
    "f = go.FigureWidget(\n",
    "    data = [go.Scattergl(x = df2.index,\n",
    "                         y = df2['Daily_Close'],\n",
    "                         marker=dict(\n",
    "                             color='#007dcc', size = 12,\n",
    "                             line=dict(color = 'rgb(231, 99, 250)',\n",
    "                                       width = 4)),\n",
    "                         name='Daily Close',\n",
    "                         yaxis='y1',\n",
    "                         mode = 'markers'),\n",
    "            go.Bar(x = df2.index,\n",
    "                         y = df2['Daily_LN_Returns'],\n",
    "                         name='Daily_Returns (log)',\n",
    "                         yaxis='y2'),\n",
    "            go.Scattergl(x = df2.index,\n",
    "                         y = df2['SMA'].drop(df2.index[:3]),\n",
    "                         marker=dict(\n",
    "                             color='#1e4aa6', size = 12,\n",
    "                             line=dict(color = 'rgb(231, 99, 250)',\n",
    "                                       width = 4)),\n",
    "                         name='3 Day Moving Average',\n",
    "                         yaxis='y1',\n",
    "                         mode = 'lines'),],\n",
    "    layout = go.Layout(title = 'Favorite pick: Tesla - Year to Date Trend',\n",
    "                       yaxis=dict(title='Closing Price in $.'),\n",
    "                       yaxis2=go.layout.YAxis(anchor='x',\n",
    "                                              overlaying='y',\n",
    "                                              side='right',\n",
    "                                              title=\"In Natural Logarithm\"),\n",
    "                       annotations=[go.layout.Annotation(\n",
    "                                   x=df2['Daily_Close'].idxmin(),\n",
    "                                   y=df2['Daily_Close'].min(),\n",
    "                                   xref=\"x\",\n",
    "                                   yref=\"y\",\n",
    "                                   text=\"Buy:<br>\"+str(df2['Daily_Close'].min().round(3)),\n",
    "                                   showarrow=True,\n",
    "                                   arrowhead=1,\n",
    "                                   arrowsize=1,\n",
    "                                   arrowcolor='black',\n",
    "                                   ax=0,\n",
    "                                   ay=-200)],\n",
    "                       xaxis={\"title\":\"Date\",\n",
    "                              'rangeselector': {'buttons': list([{'count': 1, 'label': '1M', 'step': 'month', 'stepmode': 'backward'},\n",
    "                                                                 {'count': 6, 'label': '6M', 'step': 'month', 'stepmode': 'backward'},\n",
    "                                                                 {'count': 12, 'label': '1Y', 'step': 'month', 'stepmode': 'backward'},\n",
    "                                                                 {'step': 'all'}])}}\n",
    "                      )\n",
    ")\n",
    "\n",
    "f.layout.update(\n",
    "    autosize=False,\n",
    "    width=900,\n",
    "    height=500,\n",
    "    margin=go.layout.Margin(\n",
    "        l=50,\n",
    "        r=50,\n",
    "        b=100,\n",
    "        t=100,\n",
    "        pad=4\n",
    "    ),\n",
    "    paper_bgcolor=\"LightSteelBlue\",\n",
    ")\n",
    "\n",
    "scatter = f.data[0]\n",
    "N = len(df2)\n",
    "scatter.x = df2.index\n",
    "scatter.y = df2['Daily_Close']\n",
    "scatter.marker.opacity = 0.5\n",
    "\n",
    "df2['Low'] = df2['Low'].round(4)\n",
    "df2['High'] = df2['High'].round(4)\n",
    "df2['Daily_Close'] = df2['Daily_Close'].round(4)\n",
    "\n",
    "\n",
    "def update_axes(xaxis, yaxis):\n",
    "    scatter = f.data[0]\n",
    "    scatter.x = df2[xaxis]\n",
    "    scatter.y = df2[yaxis]\n",
    "    with f.batch_update():\n",
    "        f.layout.xaxis.title = xaxis\n",
    "        f.layout.yaxis.title = yaxis\n",
    "\n",
    "t = go.FigureWidget([go.Table(\n",
    "    header=dict(values=['Low (In $)','High (In $)','Daily Close (In $)','Daily_Returns (Natural Log)'],\n",
    "                fill = dict(color='#386dea'),\n",
    "                font=dict(color='#fcfcfc'),\n",
    "                align = ['left'] * 5),\n",
    "    cells=dict(values=[df2[col] for col in ['Low','High','Daily_Close','Daily_LN_Returns']],\n",
    "                fill = dict(color='#F5F8FF'),\n",
    "               align = ['left'] * 5))])\n",
    "\n",
    "def selection_fn(trace, points, selector):\n",
    "    t.data[0].cells.values = [df2.iloc[points.point_inds][col] for col in ['Low', 'High','Daily_Close','Daily_LN_Returns']]\n",
    "\n",
    "scatter.on_selection(selection_fn)\n",
    "\n",
    "# Put everything together\n",
    "VBox((HBox(),f))"
   ]
  },
  {
   "cell_type": "code",
   "execution_count": 8,
   "metadata": {
    "extensions": {
     "jupyter_dashboards": {
      "version": 1,
      "views": {
       "grid_default": {},
       "report_default": {}
      }
     }
    }
   },
   "outputs": [
    {
     "data": {
      "application/vnd.jupyter.widget-view+json": {
       "model_id": "f13efa9049ba454895c7b6c1dbc379aa",
       "version_major": 2,
       "version_minor": 0
      },
      "text/plain": [
       "VBox(children=(HBox(), FigureWidget({\n",
       "    'data': [{'cells': {'align': [left, left, left, left, left],\n",
       "       …"
      ]
     },
     "metadata": {},
     "output_type": "display_data"
    }
   ],
   "source": [
    "t = go.FigureWidget([go.Table(\n",
    "    header=dict(values=['Low (In $)','High (In $)','Daily Close (In $)','Daily_Returns (Natural Log)'],\n",
    "                fill = dict(color='#386dea'),\n",
    "                font=dict(color='#fcfcfc'),\n",
    "                align = ['left'] * 5),\n",
    "    cells=dict(values=[df2[col] for col in ['Low','High','Daily_Close','Daily_LN_Returns']],\n",
    "                fill = dict(color='#F5F8FF'),\n",
    "               align = ['left'] * 5))])\n",
    "\n",
    "t.layout.update(\n",
    "    autosize=False,\n",
    "    width=700,\n",
    "    height=500,\n",
    "    margin=go.layout.Margin(\n",
    "        l=50,\n",
    "        r=50,\n",
    "        b=100,\n",
    "        t=100,\n",
    "        pad=4\n",
    "    ),\n",
    "    paper_bgcolor=\"LightSteelBlue\",\n",
    ")\n",
    "\n",
    "def selection_fn(trace, points, selector):\n",
    "    t.data[0].cells.values = [df2.iloc[points.point_inds][col] for col in ['Low', 'High','Daily_Close','Daily_LN_Returns']]\n",
    "\n",
    "scatter.on_selection(selection_fn)\n",
    "\n",
    "# Put everything together\n",
    "VBox((HBox(),t))"
   ]
  },
  {
   "cell_type": "code",
   "execution_count": 9,
   "metadata": {
    "extensions": {
     "jupyter_dashboards": {
      "version": 1,
      "views": {
       "grid_default": {},
       "report_default": {}
      }
     }
    }
   },
   "outputs": [
    {
     "data": {
      "application/vnd.jupyter.widget-view+json": {
       "model_id": "90378e3c8dc2451b90a8efee140765d0",
       "version_major": 2,
       "version_minor": 0
      },
      "text/plain": [
       "VBox(children=(HBox(), FigureWidget({\n",
       "    'data': [{'type': 'histogram',\n",
       "              'uid': '2ab46aa0-eecc-4…"
      ]
     },
     "metadata": {},
     "output_type": "display_data"
    }
   ],
   "source": [
    "h = go.FigureWidget(\n",
    "    [go.Histogram(x=df2['Daily_Close'])])\n",
    "    \n",
    "h.layout.update(\n",
    "    autosize=False,\n",
    "    width=500,\n",
    "    height=500,\n",
    "    margin=go.layout.Margin(\n",
    "        l=50,\n",
    "        r=50,\n",
    "        b=100,\n",
    "        t=100,\n",
    "        pad=4\n",
    "    ),\n",
    "    paper_bgcolor=\"LightSteelBlue\",\n",
    "    \n",
    ")\n",
    "\n",
    "VBox((HBox(),h))"
   ]
  },
  {
   "cell_type": "code",
   "execution_count": 10,
   "metadata": {
    "extensions": {
     "jupyter_dashboards": {
      "version": 1,
      "views": {
       "grid_default": {},
       "report_default": {}
      }
     }
    }
   },
   "outputs": [
    {
     "data": {
      "application/vnd.jupyter.widget-view+json": {
       "model_id": "5821579b776a4abf90ba73ff9be43b4a",
       "version_major": 2,
       "version_minor": 0
      },
      "text/plain": [
       "VBox(children=(Figure(axes=[Axis(orientation='vertical', scale=LinearScale()), Axis(scale=LinearScale())], fig…"
      ]
     },
     "metadata": {},
     "output_type": "display_data"
    }
   ],
   "source": [
    "y= df2['Daily_LN_Returns']\n",
    "plt.figure()\n",
    "plt.hist(y, colors=['OrangeRed'])\n",
    "plt.show()"
   ]
  },
  {
   "cell_type": "code",
   "execution_count": null,
   "metadata": {},
   "outputs": [],
   "source": []
  }
 ],
 "metadata": {
  "extensions": {
   "jupyter_dashboards": {
    "activeView": "grid_default",
    "version": 1,
    "views": {
     "grid_default": {
      "cellMargin": 10,
      "defaultCellHeight": 20,
      "maxColumns": 12,
      "name": "grid",
      "type": "grid"
     },
     "report_default": {
      "name": "report",
      "type": "report"
     }
    }
   }
  },
  "kernelspec": {
   "display_name": "Python 3",
   "language": "python",
   "name": "python3"
  },
  "language_info": {
   "codemirror_mode": {
    "name": "ipython",
    "version": 3
   },
   "file_extension": ".py",
   "mimetype": "text/x-python",
   "name": "python",
   "nbconvert_exporter": "python",
   "pygments_lexer": "ipython3",
   "version": "3.7.3"
  },
  "toc": {
   "base_numbering": 1,
   "nav_menu": {
    "height": "351px",
    "width": "645px"
   },
   "number_sections": false,
   "sideBar": false,
   "skip_h1_title": false,
   "title_cell": "Table of Contents",
   "title_sidebar": "Contents",
   "toc_cell": false,
   "toc_position": {},
   "toc_section_display": false,
   "toc_window_display": false
  },
  "toc-autonumbering": true,
  "toc-showcode": true,
  "toc-showmarkdowntxt": true,
  "toc-showtags": false,
  "widgets": {
   "application/vnd.jupyter.widget-state+json": {
    "state": {
     "06810fb04f5e4b9c89b2cffc27c83001": {
      "model_module": "bqplot",
      "model_module_version": "^0.5.0-alpha.2",
      "model_name": "LinearScaleModel",
      "state": {
       "stabilized": false
      }
     },
     "0be43e38d8a34685820cc382ac1fd662": {
      "model_module": "@jupyter-widgets/base",
      "model_module_version": "1.2.0",
      "model_name": "LayoutModel",
      "state": {}
     },
     "14a1046d0b3e432cbca487647facb591": {
      "model_module": "@jupyter-widgets/controls",
      "model_module_version": "1.5.0",
      "model_name": "VBoxModel",
      "state": {
       "children": [
        "IPY_MODEL_f2dfed3bab0e4208b5b8002f668eb728",
        "IPY_MODEL_505acf406e06468bbf2d9e4b7013b6db"
       ],
       "layout": "IPY_MODEL_ce9f0aae0a1a460c8edf28139bdf9432"
      }
     },
     "1db1afbda832499e866854a7196f3eb8": {
      "model_module": "@jupyter-widgets/base",
      "model_module_version": "1.2.0",
      "model_name": "LayoutModel",
      "state": {}
     },
     "1de533543ea849e193cce98bfa079761": {
      "model_module": "@jupyter-widgets/base",
      "model_module_version": "1.2.0",
      "model_name": "LayoutModel",
      "state": {}
     },
     "28cf9fdef9f44707aafead10b656414c": {
      "model_module": "@jupyter-widgets/controls",
      "model_module_version": "1.5.0",
      "model_name": "VBoxModel",
      "state": {
       "children": [
        "IPY_MODEL_bef0173d9883412caeaf9f770e3ff569",
        "IPY_MODEL_8ce7a8adb7e54894b146f2d0c3c1e867"
       ],
       "layout": "IPY_MODEL_a114012d027c4b918c545694c7bd1a0e"
      }
     },
     "3e65e7171d2e4e78b3b2a55d3d892b5f": {
      "model_module": "@jupyter-widgets/base",
      "model_module_version": "1.2.0",
      "model_name": "LayoutModel",
      "state": {}
     },
     "505acf406e06468bbf2d9e4b7013b6db": {
      "model_module": "bqplot",
      "model_module_version": "^0.5.0-alpha.2",
      "model_name": "ToolbarModel",
      "state": {
       "figure": "IPY_MODEL_f2dfed3bab0e4208b5b8002f668eb728",
       "layout": "IPY_MODEL_0be43e38d8a34685820cc382ac1fd662"
      }
     },
     "584813a73efd4883aa5669f1abcca41b": {
      "model_module": "bqplot",
      "model_module_version": "^0.5.0-alpha.2",
      "model_name": "AxisModel",
      "state": {
       "orientation": "vertical",
       "scale": "IPY_MODEL_5bb1bc89865042e5b7772f647e4540b2",
       "side": "left",
       "tick_values": null
      }
     },
     "5bb1bc89865042e5b7772f647e4540b2": {
      "model_module": "bqplot",
      "model_module_version": "^0.5.0-alpha.2",
      "model_name": "LinearScaleModel",
      "state": {
       "stabilized": false
      }
     },
     "7bce635bf37c4146926b59541b3d6cf3": {
      "model_module": "plotlywidget",
      "model_module_version": "^1.0.0",
      "model_name": "FigureModel",
      "state": {
       "_config": {
        "plotlyServerURL": "https://plot.ly"
       },
       "_data": [
        {
         "cells": {
          "align": [
           "left",
           "left",
           "left",
           "left",
           "left"
          ],
          "fill": {
           "color": "#F5F8FF"
          },
          "values": [
           [
            329.85,
            309.69,
            296.22,
            302,
            308,
            319.2,
            315.07,
            312.77,
            309.25,
            306.25,
            308.5,
            316.25,
            314.01,
            311.71,
            292.86,
            292.55,
            294.5,
            303.64,
            295.34,
            286.13,
            289.07,
            293,
            323.16,
            342.53,
            341.82,
            339.15,
            367.12,
            345.73,
            346,
            349.02,
            347.1,
            332.14,
            333.82,
            303.53,
            288.2,
            309,
            314.67,
            318.1,
            319.4,
            308.81,
            311.19,
            303.69,
            297.72,
            298.6,
            288,
            277.18,
            278.88,
            252.25,
            271,
            273.55,
            278.65,
            285.18,
            286.52,
            288.13,
            275.5,
            280.5,
            293.33,
            295.37,
            293.58,
            296.5,
            301.11,
            306.91,
            260.56,
            301.05,
            299.15,
            291.57,
            277.67,
            260,
            249,
            253.3,
            247.77,
            249.03,
            252.01,
            254.54,
            262.24,
            265.8,
            263,
            253.5,
            252.59,
            262.1,
            285.73,
            301.01,
            306.65,
            326.5,
            322.26,
            329.1,
            334.73,
            340.91,
            330.14,
            336.09,
            340.8,
            348.44,
            345.23,
            330.34,
            332.2,
            337.15,
            339.04,
            345.12,
            352.88,
            333.55,
            337.4,
            325.55,
            325,
            335.5,
            342.21,
            339.55,
            338.26,
            352,
            352,
            350.76,
            357.65,
            353.12,
            360.23,
            365.16,
            366.75,
            364.33,
            343.88,
            333.69,
            329.74,
            311.87,
            312.44,
            295.2,
            294.09,
            301.5,
            318.41,
            325.26,
            298.8,
            297.38,
            302.73,
            317.75,
            327.02,
            331.47,
            331.79,
            338.77,
            334,
            334.5,
            343.5,
            344.15,
            299.73,
            295.5,
            281.69,
            279.28,
            289.55,
            287.75,
            291.8,
            298.49,
            294,
            303.5,
            301.88,
            312.25,
            315.62,
            303,
            298.5,
            310.5,
            309.62,
            305.57,
            301,
            303.9,
            305.47,
            299,
            290.5,
            292.1,
            297,
            288.77,
            300.55,
            310.81,
            291.9,
            282.78,
            270.1,
            274.39,
            274.25,
            275.89,
            280.5,
            281.06,
            282.7,
            288.29,
            274.4,
            267.3,
            263.46,
            266.3,
            268.45,
            264,
            254.46,
            264.43,
            268.18,
            275.1,
            274.5,
            281.28,
            283.88,
            287.17,
            260.59,
            266.11,
            270.44,
            269.61,
            272.89,
            265.6,
            266.83,
            258.63,
            264.72,
            268.54,
            269.75,
            262.48,
            255.75,
            258,
            246.07,
            231.13,
            232.17,
            237,
            231.5,
            237.72,
            243.49,
            248.5,
            245.1,
            244.2,
            236.94,
            236.02,
            224.5,
            228,
            225.25,
            226.5,
            208.92,
            195.25,
            196.04,
            191.78,
            186.22,
            188.75,
            187.85,
            185.04,
            187.02,
            184.1,
            176.99,
            179.61,
            191.85,
            201.8,
            203.5,
            209.01,
            213.5,
            209,
            207.51,
            210.4,
            214.27,
            222.56,
            221.06,
            216.35,
            215.5,
            221.02,
            219.49,
            218.1,
            217.35,
            220.8,
            226.28,
            222.22,
            234.51,
            230.8,
            228.66,
            227.28,
            233.14,
            235.8,
            239.71,
            244.86,
            247.93,
            253.35,
            251.89,
            254.62,
            254.19,
            254.5,
            258.16,
            225.55,
            222.25,
            226.03,
            232.18,
            236.65,
            231.77
           ],
           [
            364.78,
            332.49,
            314.39,
            312.07,
            318.52,
            327.68,
            321.94,
            323.23,
            319.58,
            315.16,
            324.74,
            325.5,
            323.54,
            323.24,
            305.5,
            307.72,
            309.62,
            310.7,
            307.69,
            296.1,
            298.32,
            303,
            349.99,
            355,
            354.98,
            387.46,
            382.64,
            367.01,
            360,
            363.19,
            359.2,
            344.49,
            342.28,
            326.77,
            308.5,
            324.79,
            323.88,
            327.32,
            323.85,
            322.44,
            318.88,
            311.85,
            304.6,
            305.31,
            298.19,
            286.78,
            291.17,
            268.35,
            286.03,
            282,
            292.5,
            295,
            297.33,
            300.87,
            302.64,
            300,
            305.98,
            300.58,
            303,
            304.6,
            313.89,
            314.96,
            278,
            311.44,
            316.84,
            304.6,
            294,
            274.88,
            267.76,
            266.77,
            265.51,
            262.25,
            261.99,
            263.28,
            277.38,
            282.7,
            271,
            269.66,
            261.86,
            297.93,
            304.44,
            321,
            339.9,
            347.16,
            337.9,
            342,
            347.84,
            349.2,
            343.96,
            348.8,
            351.18,
            357.58,
            354,
            349.78,
            344.7,
            347.11,
            348.58,
            355.7,
            366.75,
            349.8,
            353.1,
            337.5,
            346.22,
            346.96,
            348.28,
            347.5,
            351.6,
            366,
            368.68,
            367.38,
            379.49,
            365.98,
            372.17,
            371.91,
            377.44,
            377.87,
            365.7,
            351.55,
            347.01,
            330.29,
            323.47,
            314.5,
            326.97,
            322.17,
            336.24,
            339.21,
            315.13,
            309.4,
            318,
            336.74,
            344.01,
            343.5,
            345.39,
            348.41,
            342.5,
            348.8,
            352,
            351.5,
            327.13,
            308,
            294.5,
            293.68,
            298.52,
            297.46,
            298.56,
            309,
            311.56,
            316.1,
            315.3,
            322.44,
            324.24,
            314.7,
            307.45,
            318.6,
            318.19,
            312.75,
            306.77,
            308,
            311.54,
            306.3,
            303.24,
            296.5,
            302.9,
            302.01,
            316.3,
            320,
            307.13,
            299,
            284,
            281.51,
            284.7,
            285.59,
            291.28,
            288.07,
            291.99,
            295.39,
            283.72,
            278.05,
            273.3,
            274.97,
            276.45,
            272.8,
            263.18,
            270.26,
            275.37,
            280.33,
            280.16,
            289.2,
            289.44,
            296.17,
            271.2,
            276.1,
            281.16,
            275,
            278.38,
            270.5,
            271.95,
            268.88,
            275,
            274.79,
            274.84,
            269.68,
            265.6,
            265.32,
            259,
            246.68,
            243.98,
            244.21,
            240,
            247.13,
            256.61,
            258.35,
            257.21,
            250.6,
            243.68,
            241.99,
            232.47,
            234.5,
            232.44,
            231,
            222.24,
            206,
            207.4,
            203.94,
            199.47,
            199.98,
            195,
            192.39,
            192.26,
            189.92,
            186.68,
            193.98,
            201.28,
            211,
            210.84,
            216.94,
            220.9,
            223.38,
            214.9,
            216.65,
            227,
            234.74,
            227.77,
            226.9,
            222.18,
            225.86,
            225.34,
            227.23,
            222.9,
            225.17,
            233.1,
            229.15,
            241.57,
            235.45,
            232.25,
            231,
            238.94,
            241.5,
            245.38,
            254.42,
            253.53,
            258.31,
            255.75,
            259.96,
            262.15,
            260.48,
            266.07,
            234.5,
            230.26,
            235.94,
            243.36,
            246.68,
            244.51
           ],
           [
            335.07,
            310.86,
            309.16,
            308.9,
            318.51,
            322.47,
            318.96,
            316.71,
            318.87,
            310.1,
            322.69,
            323.85,
            320.23,
            313.58,
            303.2,
            297.43,
            308.74,
            306.65,
            297.18,
            290.17,
            298.14,
            300.84,
            349.54,
            348.17,
            341.99,
            379.57,
            370.34,
            352.45,
            355.49,
            356.41,
            347.64,
            338.69,
            335.45,
            305.5,
            308.44,
            321.9,
            321.64,
            320.1,
            322.82,
            319.27,
            311.86,
            305.01,
            303.15,
            301.66,
            288.95,
            280.74,
            280.95,
            263.24,
            285.5,
            279.44,
            290.54,
            289.46,
            295.2,
            294.84,
            284.96,
            299.02,
            298.33,
            299.1,
            299.68,
            300.99,
            309.58,
            307.52,
            264.77,
            310.7,
            301.02,
            294.8,
            281.83,
            261.95,
            250.56,
            262.8,
            256.88,
            252.23,
            258.78,
            259.59,
            276.59,
            271.78,
            263.91,
            260,
            260.95,
            294.14,
            288.5,
            314.86,
            330.9,
            334.85,
            329.9,
            337.32,
            344.28,
            346.41,
            341.4,
            341.06,
            348.16,
            351.4,
            350.51,
            331.28,
            338.73,
            344,
            348.44,
            354.31,
            353.47,
            347.49,
            338.19,
            325.83,
            346,
            343.92,
            347.87,
            341.17,
            350.48,
            358.49,
            359.7,
            363.06,
            357.97,
            365.15,
            366.76,
            366.6,
            376.79,
            365.71,
            348.42,
            337.03,
            332.97,
            315.38,
            319.77,
            295.39,
            326.09,
            316.13,
            333.87,
            332.8,
            310.12,
            300.36,
            317.69,
            334.96,
            335.35,
            338.53,
            344.97,
            347.26,
            334.4,
            344.43,
            346.05,
            347.31,
            302.26,
            298.92,
            287.59,
            291.51,
            297.04,
            296.38,
            297.46,
            308.77,
            307.02,
            312.21,
            312.89,
            321.35,
            317.22,
            307.51,
            305.8,
            312.84,
            311.81,
            308.17,
            303.77,
            307.88,
            305.64,
            302.56,
            291.23,
            294.71,
            298.77,
            297.86,
            314.74,
            319.88,
            294.79,
            285.36,
            276.54,
            276.24,
            276.59,
            284.14,
            290.92,
            283.36,
            288.96,
            289.96,
            275.43,
            269.49,
            267.47,
            273.6,
            274.02,
            264.53,
            260.42,
            267.77,
            274.83,
            278.62,
            279.86,
            289.18,
            285.88,
            291.81,
            267.78,
            274.96,
            273.2,
            272.31,
            276.06,
            268.42,
            267.7,
            266.38,
            273.36,
            271.23,
            273.26,
            262.75,
            263.9,
            258.66,
            247.63,
            235.14,
            241.47,
            238.69,
            234.01,
            244.1,
            255.03,
            255.34,
            247.06,
            244.84,
            241.98,
            239.52,
            227.01,
            232.31,
            231.95,
            228.33,
            211.03,
            205.36,
            205.08,
            192.73,
            195.49,
            190.63,
            188.7,
            189.86,
            188.22,
            185.16,
            178.97,
            193.6,
            196.59,
            205.95,
            204.5,
            212.88,
            217.1,
            209.26,
            213.91,
            214.92,
            225.03,
            224.74,
            226.43,
            219.62,
            221.86,
            223.64,
            219.76,
            219.27,
            222.84,
            223.46,
            227.17,
            224.55,
            234.9,
            233.1,
            230.34,
            230.06,
            238.92,
            238.6,
            245.08,
            253.5,
            252.38,
            254.86,
            253.54,
            258.18,
            255.68,
            260.17,
            264.88,
            228.82,
            228.04,
            235.77,
            242.26,
            241.61,
            233.85
           ],
           [
            0,
            -0.075,
            -0.0055,
            -0.0008,
            0.0306,
            0.0124,
            -0.0109,
            -0.0071,
            0.0068,
            -0.0279,
            0.0398,
            0.0036,
            -0.0112,
            -0.021,
            -0.0337,
            -0.0192,
            0.0373,
            -0.0068,
            -0.0314,
            -0.0239,
            0.0271,
            0.009,
            0.15,
            -0.0039,
            -0.0179,
            0.1043,
            -0.0246,
            -0.0495,
            0.0086,
            0.0026,
            -0.0249,
            -0.0261,
            -0.0096,
            -0.0935,
            0.0096,
            0.0427,
            -0.0008,
            -0.0048,
            0.0085,
            -0.0111,
            -0.0235,
            -0.0222,
            -0.0061,
            -0.0049,
            -0.043,
            -0.0288,
            0.0007,
            -0.0651,
            0.0812,
            -0.0215,
            0.039,
            -0.0037,
            0.0196,
            -0.0012,
            -0.0341,
            0.0482,
            -0.0023,
            0.0026,
            0.0019,
            0.0044,
            0.0281,
            -0.0067,
            -0.1497,
            0.16,
            -0.0317,
            -0.0209,
            -0.045,
            -0.0732,
            -0.0445,
            0.0477,
            -0.0228,
            -0.0183,
            0.0256,
            0.0031,
            0.0634,
            -0.0175,
            -0.0294,
            -0.0149,
            0.0036,
            0.1197,
            -0.0194,
            0.0874,
            0.0497,
            0.0119,
            -0.0149,
            0.0222,
            0.0204,
            0.0062,
            -0.0146,
            -0.001,
            0.0206,
            0.0093,
            -0.0025,
            -0.0564,
            0.0222,
            0.0154,
            0.0128,
            0.0167,
            -0.0024,
            -0.0171,
            -0.0271,
            -0.0372,
            0.0601,
            -0.006,
            0.0114,
            -0.0194,
            0.0269,
            0.0226,
            0.0034,
            0.0093,
            -0.0141,
            0.0199,
            0.0044,
            -0.0004,
            0.0274,
            -0.0298,
            -0.0484,
            -0.0332,
            -0.0121,
            -0.0543,
            0.0138,
            -0.0793,
            0.0989,
            -0.031,
            0.0546,
            -0.0032,
            -0.0706,
            -0.032,
            0.0561,
            0.0529,
            0.0012,
            0.0094,
            0.0188,
            0.0066,
            -0.0377,
            0.0296,
            0.0047,
            0.0036,
            -0.1389,
            -0.0111,
            -0.0386,
            0.0135,
            0.0188,
            -0.0022,
            0.0036,
            0.0373,
            -0.0057,
            0.0168,
            0.0022,
            0.0267,
            -0.0129,
            -0.0311,
            -0.0056,
            0.0228,
            -0.0033,
            -0.0117,
            -0.0144,
            0.0134,
            -0.0073,
            -0.0101,
            -0.0382,
            0.0119,
            0.0137,
            -0.0031,
            0.0551,
            0.0162,
            -0.0817,
            -0.0325,
            -0.0314,
            -0.0011,
            0.0013,
            0.0269,
            0.0236,
            -0.0263,
            0.0196,
            0.0035,
            -0.0514,
            -0.0218,
            -0.0075,
            0.0227,
            0.0015,
            -0.0352,
            -0.0157,
            0.0278,
            0.026,
            0.0137,
            0.0044,
            0.0328,
            -0.0115,
            0.0205,
            -0.0859,
            0.0265,
            -0.0064,
            -0.0033,
            0.0137,
            -0.0281,
            -0.0027,
            -0.0049,
            0.0259,
            -0.0078,
            0.0075,
            -0.0392,
            0.0044,
            -0.0201,
            -0.0436,
            -0.0518,
            0.0266,
            -0.0116,
            -0.0198,
            0.0422,
            0.0438,
            0.0012,
            -0.033,
            -0.009,
            -0.0117,
            -0.0102,
            -0.0536,
            0.0231,
            -0.0016,
            -0.0157,
            -0.0788,
            -0.0272,
            -0.0014,
            -0.0621,
            0.0142,
            -0.0252,
            -0.0102,
            0.0061,
            -0.0087,
            -0.0164,
            -0.034,
            0.0786,
            0.0153,
            0.0465,
            -0.0071,
            0.0402,
            0.0196,
            -0.0368,
            0.022,
            0.0047,
            0.046,
            -0.0013,
            0.0075,
            -0.0305,
            0.0101,
            0.008,
            -0.0175,
            -0.0022,
            0.0162,
            0.0028,
            0.0165,
            -0.0116,
            0.0451,
            -0.0077,
            -0.0119,
            -0.0012,
            0.0378,
            -0.0013,
            0.0268,
            0.0338,
            -0.0044,
            0.0098,
            -0.0052,
            0.0181,
            -0.0097,
            0.0174,
            0.0179,
            -0.1463,
            -0.0034,
            0.0333,
            0.0272,
            -0.0027,
            -0.0326
           ]
          ]
         },
         "header": {
          "align": [
           "left",
           "left",
           "left",
           "left",
           "left"
          ],
          "fill": {
           "color": "#386dea"
          },
          "font": {
           "color": "#fcfcfc"
          },
          "values": [
           "Low (In $)",
           "High (In $)",
           "Daily Close (In $)",
           "Daily_Returns (Natural Log)"
          ]
         },
         "type": "table",
         "uid": "274dafab-6256-47cc-8ec7-dc13767621de"
        }
       ],
       "_js2py_pointsCallback": {},
       "_js2py_restyle": {},
       "_js2py_update": {},
       "_last_layout_edit_id": 1,
       "_layout": {
        "autosize": true,
        "template": {
         "data": {
          "bar": [
           {
            "error_x": {
             "color": "#2a3f5f"
            },
            "error_y": {
             "color": "#2a3f5f"
            },
            "marker": {
             "line": {
              "color": "#E5ECF6",
              "width": 0.5
             }
            },
            "type": "bar"
           }
          ],
          "barpolar": [
           {
            "marker": {
             "line": {
              "color": "#E5ECF6",
              "width": 0.5
             }
            },
            "type": "barpolar"
           }
          ],
          "carpet": [
           {
            "aaxis": {
             "endlinecolor": "#2a3f5f",
             "gridcolor": "white",
             "linecolor": "white",
             "minorgridcolor": "white",
             "startlinecolor": "#2a3f5f"
            },
            "baxis": {
             "endlinecolor": "#2a3f5f",
             "gridcolor": "white",
             "linecolor": "white",
             "minorgridcolor": "white",
             "startlinecolor": "#2a3f5f"
            },
            "type": "carpet"
           }
          ],
          "choropleth": [
           {
            "colorbar": {
             "outlinewidth": 0,
             "ticks": ""
            },
            "type": "choropleth"
           }
          ],
          "contour": [
           {
            "colorbar": {
             "outlinewidth": 0,
             "ticks": ""
            },
            "colorscale": [
             [
              0,
              "#0d0887"
             ],
             [
              0.1111111111111111,
              "#46039f"
             ],
             [
              0.2222222222222222,
              "#7201a8"
             ],
             [
              0.3333333333333333,
              "#9c179e"
             ],
             [
              0.4444444444444444,
              "#bd3786"
             ],
             [
              0.5555555555555556,
              "#d8576b"
             ],
             [
              0.6666666666666666,
              "#ed7953"
             ],
             [
              0.7777777777777778,
              "#fb9f3a"
             ],
             [
              0.8888888888888888,
              "#fdca26"
             ],
             [
              1,
              "#f0f921"
             ]
            ],
            "type": "contour"
           }
          ],
          "contourcarpet": [
           {
            "colorbar": {
             "outlinewidth": 0,
             "ticks": ""
            },
            "type": "contourcarpet"
           }
          ],
          "heatmap": [
           {
            "colorbar": {
             "outlinewidth": 0,
             "ticks": ""
            },
            "colorscale": [
             [
              0,
              "#0d0887"
             ],
             [
              0.1111111111111111,
              "#46039f"
             ],
             [
              0.2222222222222222,
              "#7201a8"
             ],
             [
              0.3333333333333333,
              "#9c179e"
             ],
             [
              0.4444444444444444,
              "#bd3786"
             ],
             [
              0.5555555555555556,
              "#d8576b"
             ],
             [
              0.6666666666666666,
              "#ed7953"
             ],
             [
              0.7777777777777778,
              "#fb9f3a"
             ],
             [
              0.8888888888888888,
              "#fdca26"
             ],
             [
              1,
              "#f0f921"
             ]
            ],
            "type": "heatmap"
           }
          ],
          "heatmapgl": [
           {
            "colorbar": {
             "outlinewidth": 0,
             "ticks": ""
            },
            "colorscale": [
             [
              0,
              "#0d0887"
             ],
             [
              0.1111111111111111,
              "#46039f"
             ],
             [
              0.2222222222222222,
              "#7201a8"
             ],
             [
              0.3333333333333333,
              "#9c179e"
             ],
             [
              0.4444444444444444,
              "#bd3786"
             ],
             [
              0.5555555555555556,
              "#d8576b"
             ],
             [
              0.6666666666666666,
              "#ed7953"
             ],
             [
              0.7777777777777778,
              "#fb9f3a"
             ],
             [
              0.8888888888888888,
              "#fdca26"
             ],
             [
              1,
              "#f0f921"
             ]
            ],
            "type": "heatmapgl"
           }
          ],
          "histogram": [
           {
            "marker": {
             "colorbar": {
              "outlinewidth": 0,
              "ticks": ""
             }
            },
            "type": "histogram"
           }
          ],
          "histogram2d": [
           {
            "colorbar": {
             "outlinewidth": 0,
             "ticks": ""
            },
            "colorscale": [
             [
              0,
              "#0d0887"
             ],
             [
              0.1111111111111111,
              "#46039f"
             ],
             [
              0.2222222222222222,
              "#7201a8"
             ],
             [
              0.3333333333333333,
              "#9c179e"
             ],
             [
              0.4444444444444444,
              "#bd3786"
             ],
             [
              0.5555555555555556,
              "#d8576b"
             ],
             [
              0.6666666666666666,
              "#ed7953"
             ],
             [
              0.7777777777777778,
              "#fb9f3a"
             ],
             [
              0.8888888888888888,
              "#fdca26"
             ],
             [
              1,
              "#f0f921"
             ]
            ],
            "type": "histogram2d"
           }
          ],
          "histogram2dcontour": [
           {
            "colorbar": {
             "outlinewidth": 0,
             "ticks": ""
            },
            "colorscale": [
             [
              0,
              "#0d0887"
             ],
             [
              0.1111111111111111,
              "#46039f"
             ],
             [
              0.2222222222222222,
              "#7201a8"
             ],
             [
              0.3333333333333333,
              "#9c179e"
             ],
             [
              0.4444444444444444,
              "#bd3786"
             ],
             [
              0.5555555555555556,
              "#d8576b"
             ],
             [
              0.6666666666666666,
              "#ed7953"
             ],
             [
              0.7777777777777778,
              "#fb9f3a"
             ],
             [
              0.8888888888888888,
              "#fdca26"
             ],
             [
              1,
              "#f0f921"
             ]
            ],
            "type": "histogram2dcontour"
           }
          ],
          "mesh3d": [
           {
            "colorbar": {
             "outlinewidth": 0,
             "ticks": ""
            },
            "type": "mesh3d"
           }
          ],
          "parcoords": [
           {
            "line": {
             "colorbar": {
              "outlinewidth": 0,
              "ticks": ""
             }
            },
            "type": "parcoords"
           }
          ],
          "scatter": [
           {
            "marker": {
             "colorbar": {
              "outlinewidth": 0,
              "ticks": ""
             }
            },
            "type": "scatter"
           }
          ],
          "scatter3d": [
           {
            "line": {
             "colorbar": {
              "outlinewidth": 0,
              "ticks": ""
             }
            },
            "marker": {
             "colorbar": {
              "outlinewidth": 0,
              "ticks": ""
             }
            },
            "type": "scatter3d"
           }
          ],
          "scattercarpet": [
           {
            "marker": {
             "colorbar": {
              "outlinewidth": 0,
              "ticks": ""
             }
            },
            "type": "scattercarpet"
           }
          ],
          "scattergeo": [
           {
            "marker": {
             "colorbar": {
              "outlinewidth": 0,
              "ticks": ""
             }
            },
            "type": "scattergeo"
           }
          ],
          "scattergl": [
           {
            "marker": {
             "colorbar": {
              "outlinewidth": 0,
              "ticks": ""
             }
            },
            "type": "scattergl"
           }
          ],
          "scattermapbox": [
           {
            "marker": {
             "colorbar": {
              "outlinewidth": 0,
              "ticks": ""
             }
            },
            "type": "scattermapbox"
           }
          ],
          "scatterpolar": [
           {
            "marker": {
             "colorbar": {
              "outlinewidth": 0,
              "ticks": ""
             }
            },
            "type": "scatterpolar"
           }
          ],
          "scatterpolargl": [
           {
            "marker": {
             "colorbar": {
              "outlinewidth": 0,
              "ticks": ""
             }
            },
            "type": "scatterpolargl"
           }
          ],
          "scatterternary": [
           {
            "marker": {
             "colorbar": {
              "outlinewidth": 0,
              "ticks": ""
             }
            },
            "type": "scatterternary"
           }
          ],
          "surface": [
           {
            "colorbar": {
             "outlinewidth": 0,
             "ticks": ""
            },
            "colorscale": [
             [
              0,
              "#0d0887"
             ],
             [
              0.1111111111111111,
              "#46039f"
             ],
             [
              0.2222222222222222,
              "#7201a8"
             ],
             [
              0.3333333333333333,
              "#9c179e"
             ],
             [
              0.4444444444444444,
              "#bd3786"
             ],
             [
              0.5555555555555556,
              "#d8576b"
             ],
             [
              0.6666666666666666,
              "#ed7953"
             ],
             [
              0.7777777777777778,
              "#fb9f3a"
             ],
             [
              0.8888888888888888,
              "#fdca26"
             ],
             [
              1,
              "#f0f921"
             ]
            ],
            "type": "surface"
           }
          ],
          "table": [
           {
            "cells": {
             "fill": {
              "color": "#EBF0F8"
             },
             "line": {
              "color": "white"
             }
            },
            "header": {
             "fill": {
              "color": "#C8D4E3"
             },
             "line": {
              "color": "white"
             }
            },
            "type": "table"
           }
          ]
         },
         "layout": {
          "annotationdefaults": {
           "arrowcolor": "#2a3f5f",
           "arrowhead": 0,
           "arrowwidth": 1
          },
          "colorscale": {
           "diverging": [
            [
             0,
             "#8e0152"
            ],
            [
             0.1,
             "#c51b7d"
            ],
            [
             0.2,
             "#de77ae"
            ],
            [
             0.3,
             "#f1b6da"
            ],
            [
             0.4,
             "#fde0ef"
            ],
            [
             0.5,
             "#f7f7f7"
            ],
            [
             0.6,
             "#e6f5d0"
            ],
            [
             0.7,
             "#b8e186"
            ],
            [
             0.8,
             "#7fbc41"
            ],
            [
             0.9,
             "#4d9221"
            ],
            [
             1,
             "#276419"
            ]
           ],
           "sequential": [
            [
             0,
             "#0d0887"
            ],
            [
             0.1111111111111111,
             "#46039f"
            ],
            [
             0.2222222222222222,
             "#7201a8"
            ],
            [
             0.3333333333333333,
             "#9c179e"
            ],
            [
             0.4444444444444444,
             "#bd3786"
            ],
            [
             0.5555555555555556,
             "#d8576b"
            ],
            [
             0.6666666666666666,
             "#ed7953"
            ],
            [
             0.7777777777777778,
             "#fb9f3a"
            ],
            [
             0.8888888888888888,
             "#fdca26"
            ],
            [
             1,
             "#f0f921"
            ]
           ],
           "sequentialminus": [
            [
             0,
             "#0d0887"
            ],
            [
             0.1111111111111111,
             "#46039f"
            ],
            [
             0.2222222222222222,
             "#7201a8"
            ],
            [
             0.3333333333333333,
             "#9c179e"
            ],
            [
             0.4444444444444444,
             "#bd3786"
            ],
            [
             0.5555555555555556,
             "#d8576b"
            ],
            [
             0.6666666666666666,
             "#ed7953"
            ],
            [
             0.7777777777777778,
             "#fb9f3a"
            ],
            [
             0.8888888888888888,
             "#fdca26"
            ],
            [
             1,
             "#f0f921"
            ]
           ]
          },
          "colorway": [
           "#636efa",
           "#EF553B",
           "#00cc96",
           "#ab63fa",
           "#FFA15A",
           "#19d3f3",
           "#FF6692",
           "#B6E880",
           "#FF97FF",
           "#FECB52"
          ],
          "font": {
           "color": "#2a3f5f"
          },
          "geo": {
           "bgcolor": "white",
           "lakecolor": "white",
           "landcolor": "#E5ECF6",
           "showlakes": true,
           "showland": true,
           "subunitcolor": "white"
          },
          "hoverlabel": {
           "align": "left"
          },
          "hovermode": "closest",
          "mapbox": {
           "style": "light"
          },
          "paper_bgcolor": "white",
          "plot_bgcolor": "#E5ECF6",
          "polar": {
           "angularaxis": {
            "gridcolor": "white",
            "linecolor": "white",
            "ticks": ""
           },
           "bgcolor": "#E5ECF6",
           "radialaxis": {
            "gridcolor": "white",
            "linecolor": "white",
            "ticks": ""
           }
          },
          "scene": {
           "xaxis": {
            "backgroundcolor": "#E5ECF6",
            "gridcolor": "white",
            "gridwidth": 2,
            "linecolor": "white",
            "showbackground": true,
            "ticks": "",
            "zerolinecolor": "white"
           },
           "yaxis": {
            "backgroundcolor": "#E5ECF6",
            "gridcolor": "white",
            "gridwidth": 2,
            "linecolor": "white",
            "showbackground": true,
            "ticks": "",
            "zerolinecolor": "white"
           },
           "zaxis": {
            "backgroundcolor": "#E5ECF6",
            "gridcolor": "white",
            "gridwidth": 2,
            "linecolor": "white",
            "showbackground": true,
            "ticks": "",
            "zerolinecolor": "white"
           }
          },
          "shapedefaults": {
           "line": {
            "color": "#2a3f5f"
           }
          },
          "ternary": {
           "aaxis": {
            "gridcolor": "white",
            "linecolor": "white",
            "ticks": ""
           },
           "baxis": {
            "gridcolor": "white",
            "linecolor": "white",
            "ticks": ""
           },
           "bgcolor": "#E5ECF6",
           "caxis": {
            "gridcolor": "white",
            "linecolor": "white",
            "ticks": ""
           }
          },
          "title": {
           "x": 0.05
          },
          "xaxis": {
           "automargin": true,
           "gridcolor": "white",
           "linecolor": "white",
           "ticks": "",
           "zerolinecolor": "white",
           "zerolinewidth": 2
          },
          "yaxis": {
           "automargin": true,
           "gridcolor": "white",
           "linecolor": "white",
           "ticks": "",
           "zerolinecolor": "white",
           "zerolinewidth": 2
          }
         }
        }
       },
       "_py2js_addTraces": {},
       "_py2js_animate": {},
       "_py2js_deleteTraces": {},
       "_py2js_moveTraces": {},
       "_py2js_removeLayoutProps": {},
       "_py2js_removeTraceProps": {},
       "_py2js_restyle": {},
       "_py2js_update": {},
       "_view_count": 1
      }
     },
     "84eb939f2faa4a409fc015f9a2966753": {
      "model_module": "@jupyter-widgets/base",
      "model_module_version": "1.2.0",
      "model_name": "LayoutModel",
      "state": {}
     },
     "8ce7a8adb7e54894b146f2d0c3c1e867": {
      "buffers": [
       {
        "data": "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",
        "encoding": "base64",
        "path": [
         "_data",
         0,
         "x",
         "value"
        ]
       }
      ],
      "model_module": "plotlywidget",
      "model_module_version": "^1.0.0",
      "model_name": "FigureModel",
      "state": {
       "_config": {
        "plotlyServerURL": "https://plot.ly"
       },
       "_data": [
        {
         "type": "histogram",
         "uid": "6ebf9c47-abf4-415e-ae2e-3e2bda0a6fd7",
         "x": {
          "dtype": "float64",
          "shape": [
           273
          ],
          "value": {}
         }
        }
       ],
       "_js2py_restyle": {},
       "_js2py_update": {},
       "_last_layout_edit_id": 1,
       "_layout": {
        "autosize": true,
        "template": {
         "data": {
          "bar": [
           {
            "error_x": {
             "color": "#2a3f5f"
            },
            "error_y": {
             "color": "#2a3f5f"
            },
            "marker": {
             "line": {
              "color": "#E5ECF6",
              "width": 0.5
             }
            },
            "type": "bar"
           }
          ],
          "barpolar": [
           {
            "marker": {
             "line": {
              "color": "#E5ECF6",
              "width": 0.5
             }
            },
            "type": "barpolar"
           }
          ],
          "carpet": [
           {
            "aaxis": {
             "endlinecolor": "#2a3f5f",
             "gridcolor": "white",
             "linecolor": "white",
             "minorgridcolor": "white",
             "startlinecolor": "#2a3f5f"
            },
            "baxis": {
             "endlinecolor": "#2a3f5f",
             "gridcolor": "white",
             "linecolor": "white",
             "minorgridcolor": "white",
             "startlinecolor": "#2a3f5f"
            },
            "type": "carpet"
           }
          ],
          "choropleth": [
           {
            "colorbar": {
             "outlinewidth": 0,
             "ticks": ""
            },
            "type": "choropleth"
           }
          ],
          "contour": [
           {
            "colorbar": {
             "outlinewidth": 0,
             "ticks": ""
            },
            "colorscale": [
             [
              0,
              "#0d0887"
             ],
             [
              0.1111111111111111,
              "#46039f"
             ],
             [
              0.2222222222222222,
              "#7201a8"
             ],
             [
              0.3333333333333333,
              "#9c179e"
             ],
             [
              0.4444444444444444,
              "#bd3786"
             ],
             [
              0.5555555555555556,
              "#d8576b"
             ],
             [
              0.6666666666666666,
              "#ed7953"
             ],
             [
              0.7777777777777778,
              "#fb9f3a"
             ],
             [
              0.8888888888888888,
              "#fdca26"
             ],
             [
              1,
              "#f0f921"
             ]
            ],
            "type": "contour"
           }
          ],
          "contourcarpet": [
           {
            "colorbar": {
             "outlinewidth": 0,
             "ticks": ""
            },
            "type": "contourcarpet"
           }
          ],
          "heatmap": [
           {
            "colorbar": {
             "outlinewidth": 0,
             "ticks": ""
            },
            "colorscale": [
             [
              0,
              "#0d0887"
             ],
             [
              0.1111111111111111,
              "#46039f"
             ],
             [
              0.2222222222222222,
              "#7201a8"
             ],
             [
              0.3333333333333333,
              "#9c179e"
             ],
             [
              0.4444444444444444,
              "#bd3786"
             ],
             [
              0.5555555555555556,
              "#d8576b"
             ],
             [
              0.6666666666666666,
              "#ed7953"
             ],
             [
              0.7777777777777778,
              "#fb9f3a"
             ],
             [
              0.8888888888888888,
              "#fdca26"
             ],
             [
              1,
              "#f0f921"
             ]
            ],
            "type": "heatmap"
           }
          ],
          "heatmapgl": [
           {
            "colorbar": {
             "outlinewidth": 0,
             "ticks": ""
            },
            "colorscale": [
             [
              0,
              "#0d0887"
             ],
             [
              0.1111111111111111,
              "#46039f"
             ],
             [
              0.2222222222222222,
              "#7201a8"
             ],
             [
              0.3333333333333333,
              "#9c179e"
             ],
             [
              0.4444444444444444,
              "#bd3786"
             ],
             [
              0.5555555555555556,
              "#d8576b"
             ],
             [
              0.6666666666666666,
              "#ed7953"
             ],
             [
              0.7777777777777778,
              "#fb9f3a"
             ],
             [
              0.8888888888888888,
              "#fdca26"
             ],
             [
              1,
              "#f0f921"
             ]
            ],
            "type": "heatmapgl"
           }
          ],
          "histogram": [
           {
            "marker": {
             "colorbar": {
              "outlinewidth": 0,
              "ticks": ""
             }
            },
            "type": "histogram"
           }
          ],
          "histogram2d": [
           {
            "colorbar": {
             "outlinewidth": 0,
             "ticks": ""
            },
            "colorscale": [
             [
              0,
              "#0d0887"
             ],
             [
              0.1111111111111111,
              "#46039f"
             ],
             [
              0.2222222222222222,
              "#7201a8"
             ],
             [
              0.3333333333333333,
              "#9c179e"
             ],
             [
              0.4444444444444444,
              "#bd3786"
             ],
             [
              0.5555555555555556,
              "#d8576b"
             ],
             [
              0.6666666666666666,
              "#ed7953"
             ],
             [
              0.7777777777777778,
              "#fb9f3a"
             ],
             [
              0.8888888888888888,
              "#fdca26"
             ],
             [
              1,
              "#f0f921"
             ]
            ],
            "type": "histogram2d"
           }
          ],
          "histogram2dcontour": [
           {
            "colorbar": {
             "outlinewidth": 0,
             "ticks": ""
            },
            "colorscale": [
             [
              0,
              "#0d0887"
             ],
             [
              0.1111111111111111,
              "#46039f"
             ],
             [
              0.2222222222222222,
              "#7201a8"
             ],
             [
              0.3333333333333333,
              "#9c179e"
             ],
             [
              0.4444444444444444,
              "#bd3786"
             ],
             [
              0.5555555555555556,
              "#d8576b"
             ],
             [
              0.6666666666666666,
              "#ed7953"
             ],
             [
              0.7777777777777778,
              "#fb9f3a"
             ],
             [
              0.8888888888888888,
              "#fdca26"
             ],
             [
              1,
              "#f0f921"
             ]
            ],
            "type": "histogram2dcontour"
           }
          ],
          "mesh3d": [
           {
            "colorbar": {
             "outlinewidth": 0,
             "ticks": ""
            },
            "type": "mesh3d"
           }
          ],
          "parcoords": [
           {
            "line": {
             "colorbar": {
              "outlinewidth": 0,
              "ticks": ""
             }
            },
            "type": "parcoords"
           }
          ],
          "scatter": [
           {
            "marker": {
             "colorbar": {
              "outlinewidth": 0,
              "ticks": ""
             }
            },
            "type": "scatter"
           }
          ],
          "scatter3d": [
           {
            "line": {
             "colorbar": {
              "outlinewidth": 0,
              "ticks": ""
             }
            },
            "marker": {
             "colorbar": {
              "outlinewidth": 0,
              "ticks": ""
             }
            },
            "type": "scatter3d"
           }
          ],
          "scattercarpet": [
           {
            "marker": {
             "colorbar": {
              "outlinewidth": 0,
              "ticks": ""
             }
            },
            "type": "scattercarpet"
           }
          ],
          "scattergeo": [
           {
            "marker": {
             "colorbar": {
              "outlinewidth": 0,
              "ticks": ""
             }
            },
            "type": "scattergeo"
           }
          ],
          "scattergl": [
           {
            "marker": {
             "colorbar": {
              "outlinewidth": 0,
              "ticks": ""
             }
            },
            "type": "scattergl"
           }
          ],
          "scattermapbox": [
           {
            "marker": {
             "colorbar": {
              "outlinewidth": 0,
              "ticks": ""
             }
            },
            "type": "scattermapbox"
           }
          ],
          "scatterpolar": [
           {
            "marker": {
             "colorbar": {
              "outlinewidth": 0,
              "ticks": ""
             }
            },
            "type": "scatterpolar"
           }
          ],
          "scatterpolargl": [
           {
            "marker": {
             "colorbar": {
              "outlinewidth": 0,
              "ticks": ""
             }
            },
            "type": "scatterpolargl"
           }
          ],
          "scatterternary": [
           {
            "marker": {
             "colorbar": {
              "outlinewidth": 0,
              "ticks": ""
             }
            },
            "type": "scatterternary"
           }
          ],
          "surface": [
           {
            "colorbar": {
             "outlinewidth": 0,
             "ticks": ""
            },
            "colorscale": [
             [
              0,
              "#0d0887"
             ],
             [
              0.1111111111111111,
              "#46039f"
             ],
             [
              0.2222222222222222,
              "#7201a8"
             ],
             [
              0.3333333333333333,
              "#9c179e"
             ],
             [
              0.4444444444444444,
              "#bd3786"
             ],
             [
              0.5555555555555556,
              "#d8576b"
             ],
             [
              0.6666666666666666,
              "#ed7953"
             ],
             [
              0.7777777777777778,
              "#fb9f3a"
             ],
             [
              0.8888888888888888,
              "#fdca26"
             ],
             [
              1,
              "#f0f921"
             ]
            ],
            "type": "surface"
           }
          ],
          "table": [
           {
            "cells": {
             "fill": {
              "color": "#EBF0F8"
             },
             "line": {
              "color": "white"
             }
            },
            "header": {
             "fill": {
              "color": "#C8D4E3"
             },
             "line": {
              "color": "white"
             }
            },
            "type": "table"
           }
          ]
         },
         "layout": {
          "annotationdefaults": {
           "arrowcolor": "#2a3f5f",
           "arrowhead": 0,
           "arrowwidth": 1
          },
          "colorscale": {
           "diverging": [
            [
             0,
             "#8e0152"
            ],
            [
             0.1,
             "#c51b7d"
            ],
            [
             0.2,
             "#de77ae"
            ],
            [
             0.3,
             "#f1b6da"
            ],
            [
             0.4,
             "#fde0ef"
            ],
            [
             0.5,
             "#f7f7f7"
            ],
            [
             0.6,
             "#e6f5d0"
            ],
            [
             0.7,
             "#b8e186"
            ],
            [
             0.8,
             "#7fbc41"
            ],
            [
             0.9,
             "#4d9221"
            ],
            [
             1,
             "#276419"
            ]
           ],
           "sequential": [
            [
             0,
             "#0d0887"
            ],
            [
             0.1111111111111111,
             "#46039f"
            ],
            [
             0.2222222222222222,
             "#7201a8"
            ],
            [
             0.3333333333333333,
             "#9c179e"
            ],
            [
             0.4444444444444444,
             "#bd3786"
            ],
            [
             0.5555555555555556,
             "#d8576b"
            ],
            [
             0.6666666666666666,
             "#ed7953"
            ],
            [
             0.7777777777777778,
             "#fb9f3a"
            ],
            [
             0.8888888888888888,
             "#fdca26"
            ],
            [
             1,
             "#f0f921"
            ]
           ],
           "sequentialminus": [
            [
             0,
             "#0d0887"
            ],
            [
             0.1111111111111111,
             "#46039f"
            ],
            [
             0.2222222222222222,
             "#7201a8"
            ],
            [
             0.3333333333333333,
             "#9c179e"
            ],
            [
             0.4444444444444444,
             "#bd3786"
            ],
            [
             0.5555555555555556,
             "#d8576b"
            ],
            [
             0.6666666666666666,
             "#ed7953"
            ],
            [
             0.7777777777777778,
             "#fb9f3a"
            ],
            [
             0.8888888888888888,
             "#fdca26"
            ],
            [
             1,
             "#f0f921"
            ]
           ]
          },
          "colorway": [
           "#636efa",
           "#EF553B",
           "#00cc96",
           "#ab63fa",
           "#FFA15A",
           "#19d3f3",
           "#FF6692",
           "#B6E880",
           "#FF97FF",
           "#FECB52"
          ],
          "font": {
           "color": "#2a3f5f"
          },
          "geo": {
           "bgcolor": "white",
           "lakecolor": "white",
           "landcolor": "#E5ECF6",
           "showlakes": true,
           "showland": true,
           "subunitcolor": "white"
          },
          "hoverlabel": {
           "align": "left"
          },
          "hovermode": "closest",
          "mapbox": {
           "style": "light"
          },
          "paper_bgcolor": "white",
          "plot_bgcolor": "#E5ECF6",
          "polar": {
           "angularaxis": {
            "gridcolor": "white",
            "linecolor": "white",
            "ticks": ""
           },
           "bgcolor": "#E5ECF6",
           "radialaxis": {
            "gridcolor": "white",
            "linecolor": "white",
            "ticks": ""
           }
          },
          "scene": {
           "xaxis": {
            "backgroundcolor": "#E5ECF6",
            "gridcolor": "white",
            "gridwidth": 2,
            "linecolor": "white",
            "showbackground": true,
            "ticks": "",
            "zerolinecolor": "white"
           },
           "yaxis": {
            "backgroundcolor": "#E5ECF6",
            "gridcolor": "white",
            "gridwidth": 2,
            "linecolor": "white",
            "showbackground": true,
            "ticks": "",
            "zerolinecolor": "white"
           },
           "zaxis": {
            "backgroundcolor": "#E5ECF6",
            "gridcolor": "white",
            "gridwidth": 2,
            "linecolor": "white",
            "showbackground": true,
            "ticks": "",
            "zerolinecolor": "white"
           }
          },
          "shapedefaults": {
           "line": {
            "color": "#2a3f5f"
           }
          },
          "ternary": {
           "aaxis": {
            "gridcolor": "white",
            "linecolor": "white",
            "ticks": ""
           },
           "baxis": {
            "gridcolor": "white",
            "linecolor": "white",
            "ticks": ""
           },
           "bgcolor": "#E5ECF6",
           "caxis": {
            "gridcolor": "white",
            "linecolor": "white",
            "ticks": ""
           }
          },
          "title": {
           "x": 0.05
          },
          "xaxis": {
           "automargin": true,
           "gridcolor": "white",
           "linecolor": "white",
           "ticks": "",
           "zerolinecolor": "white",
           "zerolinewidth": 2
          },
          "yaxis": {
           "automargin": true,
           "gridcolor": "white",
           "linecolor": "white",
           "ticks": "",
           "zerolinecolor": "white",
           "zerolinewidth": 2
          }
         }
        }
       },
       "_py2js_addTraces": {},
       "_py2js_animate": {},
       "_py2js_deleteTraces": {},
       "_py2js_moveTraces": {},
       "_py2js_removeLayoutProps": {},
       "_py2js_removeTraceProps": {},
       "_py2js_restyle": {},
       "_py2js_update": {},
       "_view_count": 1
      }
     },
     "96e0f4084a984c99bfd1f7ef93b8c7f9": {
      "buffers": [
       {
        "data": "AAAAwB7xdEAAAACAwm1zQAAAAGCPUnNAAAAAYGZOc0AAAAAAKehzQAAAACCFJ3RAAAAAIFzvc0AAAAAgXMtzQAAAAIDr7XNAAAAAoJlhc0AAAABACit0QAAAAKCZPXRAAAAAIK4DdEAAAACgR5lzQAAAAEAz83JAAAAAQOGWckAAAAAA10tzQAAAAGBmKnNAAAAAQOGSckAAAABguCJyQAAAAIA9onJAAAAAoHDNckAAAADgo9h1QAAAAGC4wnVAAAAAANdfdUAAAADAHrl3QAAAAKBwJXdAAAAAQDMHdkAAAAAA1zd2QAAAAGCPRnZAAAAAgD26dUAAAABACit1QAAAAEAz93RAAAAAAAAYc0AAAABACkdzQAAAAGBmHnRAAAAAgD0adEAAAACgmQF0QAAAAMAeLXRAAAAA4FH0c0AAAACAwn1zQAAAAAApEHNAAAAAYGbyckAAAABgj9pyQAAAAEAzD3JAAAAAANeLcUAAAABAM49xQAAAAADXc3BAAAAAAADYcUAAAABACndxQAAAAOCjKHJAAAAAIFwXckAAAABAM3NyQAAAAKBwbXJAAAAAIFzPcUAAAADgUbByQAAAAKBHpXJAAAAAoJmxckAAAABA4bpyQAAAAADXz3JAAAAAoEdZc0AAAADgUThzQAAAAOBRjHBAAAAAQDNrc0AAAADgUdByQAAAAMDMbHJAAAAAoEedcUAAAABAM19wQAAAAIDrUW9AAAAAwMxscEAAAACAFA5wQAAAACBch29AAAAA4HoscEAAAACgcDlwQAAAAKBwSXFAAAAA4Hr8cEAAAABgj35wQAAAAAAAQHBAAAAAQDNPcEAAAACAPWJyQAAAAAAACHJAAAAAgMKtc0AAAABgZq50QAAAAKCZ7XRAAAAAYGaedEAAAADAHhV1QAAAAOB6hHVAAAAAYI+mdUAAAABgZlZ1QAAAAMD1UHVAAAAAYI/CdUAAAABgZvZ1QAAAAAAp6HVAAAAA4Hq0dEAAAAAgrit1QAAAAAAAgHVAAAAAQArHdUAAAADA9SR2QAAAACCFF3ZAAAAAANe3dUAAAABACiN1QAAAAKBHXXRAAAAAAACgdUAAAABguH51QAAAAIDrvXVAAAAAYLhSdUAAAAAgrud1QAAAAADXZ3ZAAAAAQDN7dkAAAADA9bB2QAAAACCFX3ZAAAAAYGbSdkAAAAAAKex2QAAAAKCZ6XZAAAAA4KOMd0AAAAAgXNt2QAAAAGC4xnVAAAAA4HoQdUAAAAAghc90QAAAAIAUtnNAAAAA4FH8c0AAAACAPXZyQAAAAKBwYXRAAAAAgBTCc0AAAACA6910QAAAAMDMzHRAAAAAgOthc0AAAACAwsVyQAAAAEAK23NAAAAAIFzvdEAAAACgmfV0QAAAAOB6KHVAAAAAIIWPdUAAAAAAKbR1QAAAAGBm5nRAAAAAQOGGdUAAAADAzKB1QAAAAMD1tHVAAAAAACnkckAAAABguK5yQAAAAKBw+XFAAAAAACk4ckAAAADgo5ByQAAAAIAUhnJAAAAAIFyXckAAAADgUUxzQAAAAOBRMHNAAAAAIFyDc0AAAACAPY5zQAAAAKCZFXRAAAAAIIXTc0AAAAAAKThzQAAAAMDMHHNAAAAAoHCNc0AAAADA9XxzQAAAAGC4QnNAAAAA4FH8ckAAAACAFD5zQAAAAIA9GnNAAAAAwPXockAAAAAgrjNyQAAAACBca3JAAAAA4FGsckAAAACAwp1yQAAAAADXq3NAAAAAgBT+c0AAAADgo2xyQAAAAIDC1XFAAAAA4KNIcUAAAAAA10NxQAAAAKBwSXFAAAAAgD3CcUAAAABguC5yQAAAAIDCtXFAAAAAIFwPckAAAAAgXB9yQAAAAEDhNnFAAAAAANfXcEAAAAAghbdwQAAAAKCZGXFAAAAA4FEgcUAAAADgeohwQAAAAGC4RnBAAAAA4FG8cEAAAACgRy1xQAAAAIDraXFAAAAAgMJ9cUAAAABA4RJyQAAAAIAU3nFAAAAAwPU8ckAAAADgerxwQAAAACBcL3FAAAAAQDMTcUAAAADA9QRxQAAAAMD1QHFAAAAAYLjGcEAAAABAM7twQAAAAIAUpnBAAAAAgMIVcUAAAAAgrvNwQAAAAAApFHFAAAAAAABscEAAAABgZn5wQAAAAGCPKnBAAAAAACn0bkAAAADgemRtQAAAAEAKL25AAAAAgBTWbUAAAADgUUBtQAAAAEAzg25AAAAAwPXgb0AAAABA4epvQAAAAIDr4W5AAAAAQOGabkAAAAAgXD9uQAAAAOCj8G1AAAAA4FFgbEAAAACA6wltQAAAAGBm/mxAAAAAYI+KbEAAAADA9WBqQAAAACCFq2lAAAAAYI+iaUAAAAAgXBdoQAAAACCub2hAAAAAACnUZ0AAAABgZpZnQAAAACCFu2dAAAAAQAqHZ0AAAADAHiVnQAAAAEAKX2ZAAAAAQDMzaEAAAABA4ZJoQAAAAGBmvmlAAAAAAACQaUAAAAAAKZxqQAAAAEAzI2tAAAAA4FEoakAAAADAHr1qQAAAAKBw3WpAAAAAwPUgbEAAAAAgrhdsQAAAAIDCTWxAAAAAANdza0AAAAAghbtrQAAAAOB69GtAAAAA4FF4a0AAAADgo2hrQAAAAEDh2mtAAAAAYLjua0AAAACgcGVsQAAAAKCZEWxAAAAAwMxcbUAAAABAMyNtQAAAAEDhymxAAAAAgOvBbEAAAACgcN1tQAAAAEAz021AAAAAYI+ibkAAAAAAALBvQAAAAAApjG9AAAAAIIXbb0AAAACgR7FvQAAAAEDhInBAAAAAgML1b0AAAABguEJwQAAAAIAUjnBAAAAAgD2abEAAAACgR4FsQAAAAOCjeG1AAAAA4FFIbkAAAAAghTNuQAAAAEAzO21A",
        "encoding": "base64",
        "path": [
         "_data",
         0,
         "y",
         "value"
        ]
       },
       {
        "data": "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",
        "encoding": "base64",
        "path": [
         "_data",
         1,
         "y",
         "value"
        ]
       },
       {
        "data": "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",
        "encoding": "base64",
        "path": [
         "_data",
         2,
         "y",
         "value"
        ]
       }
      ],
      "model_module": "plotlywidget",
      "model_module_version": "^1.0.0",
      "model_name": "FigureModel",
      "state": {
       "_config": {
        "plotlyServerURL": "https://plot.ly"
       },
       "_data": [
        {
         "marker": {
          "color": "#007dcc",
          "line": {
           "color": "rgb(231, 99, 250)",
           "width": 4
          },
          "opacity": 0.5,
          "size": 12
         },
         "mode": "markers",
         "name": "Daily Close",
         "type": "scattergl",
         "uid": "1d4b69ef-ee36-4c82-913c-53b8f6471676",
         "x": [
          "2018-07-02T00:00:00.000000",
          "2018-07-03T00:00:00.000000",
          "2018-07-05T00:00:00.000000",
          "2018-07-06T00:00:00.000000",
          "2018-07-09T00:00:00.000000",
          "2018-07-10T00:00:00.000000",
          "2018-07-11T00:00:00.000000",
          "2018-07-12T00:00:00.000000",
          "2018-07-13T00:00:00.000000",
          "2018-07-16T00:00:00.000000",
          "2018-07-17T00:00:00.000000",
          "2018-07-18T00:00:00.000000",
          "2018-07-19T00:00:00.000000",
          "2018-07-20T00:00:00.000000",
          "2018-07-23T00:00:00.000000",
          "2018-07-24T00:00:00.000000",
          "2018-07-25T00:00:00.000000",
          "2018-07-26T00:00:00.000000",
          "2018-07-27T00:00:00.000000",
          "2018-07-30T00:00:00.000000",
          "2018-07-31T00:00:00.000000",
          "2018-08-01T00:00:00.000000",
          "2018-08-02T00:00:00.000000",
          "2018-08-03T00:00:00.000000",
          "2018-08-06T00:00:00.000000",
          "2018-08-07T00:00:00.000000",
          "2018-08-08T00:00:00.000000",
          "2018-08-09T00:00:00.000000",
          "2018-08-10T00:00:00.000000",
          "2018-08-13T00:00:00.000000",
          "2018-08-14T00:00:00.000000",
          "2018-08-15T00:00:00.000000",
          "2018-08-16T00:00:00.000000",
          "2018-08-17T00:00:00.000000",
          "2018-08-20T00:00:00.000000",
          "2018-08-21T00:00:00.000000",
          "2018-08-22T00:00:00.000000",
          "2018-08-23T00:00:00.000000",
          "2018-08-24T00:00:00.000000",
          "2018-08-27T00:00:00.000000",
          "2018-08-28T00:00:00.000000",
          "2018-08-29T00:00:00.000000",
          "2018-08-30T00:00:00.000000",
          "2018-08-31T00:00:00.000000",
          "2018-09-04T00:00:00.000000",
          "2018-09-05T00:00:00.000000",
          "2018-09-06T00:00:00.000000",
          "2018-09-07T00:00:00.000000",
          "2018-09-10T00:00:00.000000",
          "2018-09-11T00:00:00.000000",
          "2018-09-12T00:00:00.000000",
          "2018-09-13T00:00:00.000000",
          "2018-09-14T00:00:00.000000",
          "2018-09-17T00:00:00.000000",
          "2018-09-18T00:00:00.000000",
          "2018-09-19T00:00:00.000000",
          "2018-09-20T00:00:00.000000",
          "2018-09-21T00:00:00.000000",
          "2018-09-24T00:00:00.000000",
          "2018-09-25T00:00:00.000000",
          "2018-09-26T00:00:00.000000",
          "2018-09-27T00:00:00.000000",
          "2018-09-28T00:00:00.000000",
          "2018-10-01T00:00:00.000000",
          "2018-10-02T00:00:00.000000",
          "2018-10-03T00:00:00.000000",
          "2018-10-04T00:00:00.000000",
          "2018-10-05T00:00:00.000000",
          "2018-10-08T00:00:00.000000",
          "2018-10-09T00:00:00.000000",
          "2018-10-10T00:00:00.000000",
          "2018-10-11T00:00:00.000000",
          "2018-10-12T00:00:00.000000",
          "2018-10-15T00:00:00.000000",
          "2018-10-16T00:00:00.000000",
          "2018-10-17T00:00:00.000000",
          "2018-10-18T00:00:00.000000",
          "2018-10-19T00:00:00.000000",
          "2018-10-22T00:00:00.000000",
          "2018-10-23T00:00:00.000000",
          "2018-10-24T00:00:00.000000",
          "2018-10-25T00:00:00.000000",
          "2018-10-26T00:00:00.000000",
          "2018-10-29T00:00:00.000000",
          "2018-10-30T00:00:00.000000",
          "2018-10-31T00:00:00.000000",
          "2018-11-01T00:00:00.000000",
          "2018-11-02T00:00:00.000000",
          "2018-11-05T00:00:00.000000",
          "2018-11-06T00:00:00.000000",
          "2018-11-07T00:00:00.000000",
          "2018-11-08T00:00:00.000000",
          "2018-11-09T00:00:00.000000",
          "2018-11-12T00:00:00.000000",
          "2018-11-13T00:00:00.000000",
          "2018-11-14T00:00:00.000000",
          "2018-11-15T00:00:00.000000",
          "2018-11-16T00:00:00.000000",
          "2018-11-19T00:00:00.000000",
          "2018-11-20T00:00:00.000000",
          "2018-11-21T00:00:00.000000",
          "2018-11-23T00:00:00.000000",
          "2018-11-26T00:00:00.000000",
          "2018-11-27T00:00:00.000000",
          "2018-11-28T00:00:00.000000",
          "2018-11-29T00:00:00.000000",
          "2018-11-30T00:00:00.000000",
          "2018-12-03T00:00:00.000000",
          "2018-12-04T00:00:00.000000",
          "2018-12-06T00:00:00.000000",
          "2018-12-07T00:00:00.000000",
          "2018-12-10T00:00:00.000000",
          "2018-12-11T00:00:00.000000",
          "2018-12-12T00:00:00.000000",
          "2018-12-13T00:00:00.000000",
          "2018-12-14T00:00:00.000000",
          "2018-12-17T00:00:00.000000",
          "2018-12-18T00:00:00.000000",
          "2018-12-19T00:00:00.000000",
          "2018-12-20T00:00:00.000000",
          "2018-12-21T00:00:00.000000",
          "2018-12-24T00:00:00.000000",
          "2018-12-26T00:00:00.000000",
          "2018-12-27T00:00:00.000000",
          "2018-12-28T00:00:00.000000",
          "2018-12-31T00:00:00.000000",
          "2019-01-02T00:00:00.000000",
          "2019-01-03T00:00:00.000000",
          "2019-01-04T00:00:00.000000",
          "2019-01-07T00:00:00.000000",
          "2019-01-08T00:00:00.000000",
          "2019-01-09T00:00:00.000000",
          "2019-01-10T00:00:00.000000",
          "2019-01-11T00:00:00.000000",
          "2019-01-14T00:00:00.000000",
          "2019-01-15T00:00:00.000000",
          "2019-01-16T00:00:00.000000",
          "2019-01-17T00:00:00.000000",
          "2019-01-18T00:00:00.000000",
          "2019-01-22T00:00:00.000000",
          "2019-01-23T00:00:00.000000",
          "2019-01-24T00:00:00.000000",
          "2019-01-25T00:00:00.000000",
          "2019-01-28T00:00:00.000000",
          "2019-01-29T00:00:00.000000",
          "2019-01-30T00:00:00.000000",
          "2019-01-31T00:00:00.000000",
          "2019-02-01T00:00:00.000000",
          "2019-02-04T00:00:00.000000",
          "2019-02-05T00:00:00.000000",
          "2019-02-06T00:00:00.000000",
          "2019-02-07T00:00:00.000000",
          "2019-02-08T00:00:00.000000",
          "2019-02-11T00:00:00.000000",
          "2019-02-12T00:00:00.000000",
          "2019-02-13T00:00:00.000000",
          "2019-02-14T00:00:00.000000",
          "2019-02-15T00:00:00.000000",
          "2019-02-19T00:00:00.000000",
          "2019-02-20T00:00:00.000000",
          "2019-02-21T00:00:00.000000",
          "2019-02-22T00:00:00.000000",
          "2019-02-25T00:00:00.000000",
          "2019-02-26T00:00:00.000000",
          "2019-02-27T00:00:00.000000",
          "2019-02-28T00:00:00.000000",
          "2019-03-01T00:00:00.000000",
          "2019-03-04T00:00:00.000000",
          "2019-03-05T00:00:00.000000",
          "2019-03-06T00:00:00.000000",
          "2019-03-07T00:00:00.000000",
          "2019-03-08T00:00:00.000000",
          "2019-03-11T00:00:00.000000",
          "2019-03-12T00:00:00.000000",
          "2019-03-13T00:00:00.000000",
          "2019-03-14T00:00:00.000000",
          "2019-03-15T00:00:00.000000",
          "2019-03-18T00:00:00.000000",
          "2019-03-19T00:00:00.000000",
          "2019-03-20T00:00:00.000000",
          "2019-03-21T00:00:00.000000",
          "2019-03-22T00:00:00.000000",
          "2019-03-25T00:00:00.000000",
          "2019-03-26T00:00:00.000000",
          "2019-03-27T00:00:00.000000",
          "2019-03-28T00:00:00.000000",
          "2019-03-29T00:00:00.000000",
          "2019-04-01T00:00:00.000000",
          "2019-04-02T00:00:00.000000",
          "2019-04-03T00:00:00.000000",
          "2019-04-04T00:00:00.000000",
          "2019-04-05T00:00:00.000000",
          "2019-04-08T00:00:00.000000",
          "2019-04-09T00:00:00.000000",
          "2019-04-10T00:00:00.000000",
          "2019-04-11T00:00:00.000000",
          "2019-04-12T00:00:00.000000",
          "2019-04-15T00:00:00.000000",
          "2019-04-16T00:00:00.000000",
          "2019-04-17T00:00:00.000000",
          "2019-04-18T00:00:00.000000",
          "2019-04-22T00:00:00.000000",
          "2019-04-23T00:00:00.000000",
          "2019-04-24T00:00:00.000000",
          "2019-04-25T00:00:00.000000",
          "2019-04-26T00:00:00.000000",
          "2019-04-29T00:00:00.000000",
          "2019-04-30T00:00:00.000000",
          "2019-05-01T00:00:00.000000",
          "2019-05-02T00:00:00.000000",
          "2019-05-03T00:00:00.000000",
          "2019-05-06T00:00:00.000000",
          "2019-05-07T00:00:00.000000",
          "2019-05-08T00:00:00.000000",
          "2019-05-09T00:00:00.000000",
          "2019-05-10T00:00:00.000000",
          "2019-05-13T00:00:00.000000",
          "2019-05-14T00:00:00.000000",
          "2019-05-15T00:00:00.000000",
          "2019-05-16T00:00:00.000000",
          "2019-05-17T00:00:00.000000",
          "2019-05-20T00:00:00.000000",
          "2019-05-21T00:00:00.000000",
          "2019-05-22T00:00:00.000000",
          "2019-05-23T00:00:00.000000",
          "2019-05-24T00:00:00.000000",
          "2019-05-28T00:00:00.000000",
          "2019-05-29T00:00:00.000000",
          "2019-05-30T00:00:00.000000",
          "2019-05-31T00:00:00.000000",
          "2019-06-03T00:00:00.000000",
          "2019-06-04T00:00:00.000000",
          "2019-06-05T00:00:00.000000",
          "2019-06-06T00:00:00.000000",
          "2019-06-07T00:00:00.000000",
          "2019-06-10T00:00:00.000000",
          "2019-06-11T00:00:00.000000",
          "2019-06-12T00:00:00.000000",
          "2019-06-13T00:00:00.000000",
          "2019-06-14T00:00:00.000000",
          "2019-06-17T00:00:00.000000",
          "2019-06-18T00:00:00.000000",
          "2019-06-19T00:00:00.000000",
          "2019-06-20T00:00:00.000000",
          "2019-06-21T00:00:00.000000",
          "2019-06-24T00:00:00.000000",
          "2019-06-25T00:00:00.000000",
          "2019-06-26T00:00:00.000000",
          "2019-06-27T00:00:00.000000",
          "2019-06-28T00:00:00.000000",
          "2019-07-01T00:00:00.000000",
          "2019-07-02T00:00:00.000000",
          "2019-07-03T00:00:00.000000",
          "2019-07-05T00:00:00.000000",
          "2019-07-08T00:00:00.000000",
          "2019-07-09T00:00:00.000000",
          "2019-07-10T00:00:00.000000",
          "2019-07-11T00:00:00.000000",
          "2019-07-12T00:00:00.000000",
          "2019-07-15T00:00:00.000000",
          "2019-07-16T00:00:00.000000",
          "2019-07-17T00:00:00.000000",
          "2019-07-18T00:00:00.000000",
          "2019-07-19T00:00:00.000000",
          "2019-07-22T00:00:00.000000",
          "2019-07-23T00:00:00.000000",
          "2019-07-24T00:00:00.000000",
          "2019-07-25T00:00:00.000000",
          "2019-07-26T00:00:00.000000",
          "2019-07-29T00:00:00.000000",
          "2019-07-30T00:00:00.000000",
          "2019-07-31T00:00:00.000000",
          "2019-08-01T00:00:00.000000"
         ],
         "y": {
          "dtype": "float64",
          "shape": [
           273
          ],
          "value": {}
         },
         "yaxis": "y"
        },
        {
         "name": "Daily_Returns (log)",
         "type": "bar",
         "uid": "b819402c-d906-4325-8fb9-37e84e998132",
         "x": [
          "2018-07-02T00:00:00.000000",
          "2018-07-03T00:00:00.000000",
          "2018-07-05T00:00:00.000000",
          "2018-07-06T00:00:00.000000",
          "2018-07-09T00:00:00.000000",
          "2018-07-10T00:00:00.000000",
          "2018-07-11T00:00:00.000000",
          "2018-07-12T00:00:00.000000",
          "2018-07-13T00:00:00.000000",
          "2018-07-16T00:00:00.000000",
          "2018-07-17T00:00:00.000000",
          "2018-07-18T00:00:00.000000",
          "2018-07-19T00:00:00.000000",
          "2018-07-20T00:00:00.000000",
          "2018-07-23T00:00:00.000000",
          "2018-07-24T00:00:00.000000",
          "2018-07-25T00:00:00.000000",
          "2018-07-26T00:00:00.000000",
          "2018-07-27T00:00:00.000000",
          "2018-07-30T00:00:00.000000",
          "2018-07-31T00:00:00.000000",
          "2018-08-01T00:00:00.000000",
          "2018-08-02T00:00:00.000000",
          "2018-08-03T00:00:00.000000",
          "2018-08-06T00:00:00.000000",
          "2018-08-07T00:00:00.000000",
          "2018-08-08T00:00:00.000000",
          "2018-08-09T00:00:00.000000",
          "2018-08-10T00:00:00.000000",
          "2018-08-13T00:00:00.000000",
          "2018-08-14T00:00:00.000000",
          "2018-08-15T00:00:00.000000",
          "2018-08-16T00:00:00.000000",
          "2018-08-17T00:00:00.000000",
          "2018-08-20T00:00:00.000000",
          "2018-08-21T00:00:00.000000",
          "2018-08-22T00:00:00.000000",
          "2018-08-23T00:00:00.000000",
          "2018-08-24T00:00:00.000000",
          "2018-08-27T00:00:00.000000",
          "2018-08-28T00:00:00.000000",
          "2018-08-29T00:00:00.000000",
          "2018-08-30T00:00:00.000000",
          "2018-08-31T00:00:00.000000",
          "2018-09-04T00:00:00.000000",
          "2018-09-05T00:00:00.000000",
          "2018-09-06T00:00:00.000000",
          "2018-09-07T00:00:00.000000",
          "2018-09-10T00:00:00.000000",
          "2018-09-11T00:00:00.000000",
          "2018-09-12T00:00:00.000000",
          "2018-09-13T00:00:00.000000",
          "2018-09-14T00:00:00.000000",
          "2018-09-17T00:00:00.000000",
          "2018-09-18T00:00:00.000000",
          "2018-09-19T00:00:00.000000",
          "2018-09-20T00:00:00.000000",
          "2018-09-21T00:00:00.000000",
          "2018-09-24T00:00:00.000000",
          "2018-09-25T00:00:00.000000",
          "2018-09-26T00:00:00.000000",
          "2018-09-27T00:00:00.000000",
          "2018-09-28T00:00:00.000000",
          "2018-10-01T00:00:00.000000",
          "2018-10-02T00:00:00.000000",
          "2018-10-03T00:00:00.000000",
          "2018-10-04T00:00:00.000000",
          "2018-10-05T00:00:00.000000",
          "2018-10-08T00:00:00.000000",
          "2018-10-09T00:00:00.000000",
          "2018-10-10T00:00:00.000000",
          "2018-10-11T00:00:00.000000",
          "2018-10-12T00:00:00.000000",
          "2018-10-15T00:00:00.000000",
          "2018-10-16T00:00:00.000000",
          "2018-10-17T00:00:00.000000",
          "2018-10-18T00:00:00.000000",
          "2018-10-19T00:00:00.000000",
          "2018-10-22T00:00:00.000000",
          "2018-10-23T00:00:00.000000",
          "2018-10-24T00:00:00.000000",
          "2018-10-25T00:00:00.000000",
          "2018-10-26T00:00:00.000000",
          "2018-10-29T00:00:00.000000",
          "2018-10-30T00:00:00.000000",
          "2018-10-31T00:00:00.000000",
          "2018-11-01T00:00:00.000000",
          "2018-11-02T00:00:00.000000",
          "2018-11-05T00:00:00.000000",
          "2018-11-06T00:00:00.000000",
          "2018-11-07T00:00:00.000000",
          "2018-11-08T00:00:00.000000",
          "2018-11-09T00:00:00.000000",
          "2018-11-12T00:00:00.000000",
          "2018-11-13T00:00:00.000000",
          "2018-11-14T00:00:00.000000",
          "2018-11-15T00:00:00.000000",
          "2018-11-16T00:00:00.000000",
          "2018-11-19T00:00:00.000000",
          "2018-11-20T00:00:00.000000",
          "2018-11-21T00:00:00.000000",
          "2018-11-23T00:00:00.000000",
          "2018-11-26T00:00:00.000000",
          "2018-11-27T00:00:00.000000",
          "2018-11-28T00:00:00.000000",
          "2018-11-29T00:00:00.000000",
          "2018-11-30T00:00:00.000000",
          "2018-12-03T00:00:00.000000",
          "2018-12-04T00:00:00.000000",
          "2018-12-06T00:00:00.000000",
          "2018-12-07T00:00:00.000000",
          "2018-12-10T00:00:00.000000",
          "2018-12-11T00:00:00.000000",
          "2018-12-12T00:00:00.000000",
          "2018-12-13T00:00:00.000000",
          "2018-12-14T00:00:00.000000",
          "2018-12-17T00:00:00.000000",
          "2018-12-18T00:00:00.000000",
          "2018-12-19T00:00:00.000000",
          "2018-12-20T00:00:00.000000",
          "2018-12-21T00:00:00.000000",
          "2018-12-24T00:00:00.000000",
          "2018-12-26T00:00:00.000000",
          "2018-12-27T00:00:00.000000",
          "2018-12-28T00:00:00.000000",
          "2018-12-31T00:00:00.000000",
          "2019-01-02T00:00:00.000000",
          "2019-01-03T00:00:00.000000",
          "2019-01-04T00:00:00.000000",
          "2019-01-07T00:00:00.000000",
          "2019-01-08T00:00:00.000000",
          "2019-01-09T00:00:00.000000",
          "2019-01-10T00:00:00.000000",
          "2019-01-11T00:00:00.000000",
          "2019-01-14T00:00:00.000000",
          "2019-01-15T00:00:00.000000",
          "2019-01-16T00:00:00.000000",
          "2019-01-17T00:00:00.000000",
          "2019-01-18T00:00:00.000000",
          "2019-01-22T00:00:00.000000",
          "2019-01-23T00:00:00.000000",
          "2019-01-24T00:00:00.000000",
          "2019-01-25T00:00:00.000000",
          "2019-01-28T00:00:00.000000",
          "2019-01-29T00:00:00.000000",
          "2019-01-30T00:00:00.000000",
          "2019-01-31T00:00:00.000000",
          "2019-02-01T00:00:00.000000",
          "2019-02-04T00:00:00.000000",
          "2019-02-05T00:00:00.000000",
          "2019-02-06T00:00:00.000000",
          "2019-02-07T00:00:00.000000",
          "2019-02-08T00:00:00.000000",
          "2019-02-11T00:00:00.000000",
          "2019-02-12T00:00:00.000000",
          "2019-02-13T00:00:00.000000",
          "2019-02-14T00:00:00.000000",
          "2019-02-15T00:00:00.000000",
          "2019-02-19T00:00:00.000000",
          "2019-02-20T00:00:00.000000",
          "2019-02-21T00:00:00.000000",
          "2019-02-22T00:00:00.000000",
          "2019-02-25T00:00:00.000000",
          "2019-02-26T00:00:00.000000",
          "2019-02-27T00:00:00.000000",
          "2019-02-28T00:00:00.000000",
          "2019-03-01T00:00:00.000000",
          "2019-03-04T00:00:00.000000",
          "2019-03-05T00:00:00.000000",
          "2019-03-06T00:00:00.000000",
          "2019-03-07T00:00:00.000000",
          "2019-03-08T00:00:00.000000",
          "2019-03-11T00:00:00.000000",
          "2019-03-12T00:00:00.000000",
          "2019-03-13T00:00:00.000000",
          "2019-03-14T00:00:00.000000",
          "2019-03-15T00:00:00.000000",
          "2019-03-18T00:00:00.000000",
          "2019-03-19T00:00:00.000000",
          "2019-03-20T00:00:00.000000",
          "2019-03-21T00:00:00.000000",
          "2019-03-22T00:00:00.000000",
          "2019-03-25T00:00:00.000000",
          "2019-03-26T00:00:00.000000",
          "2019-03-27T00:00:00.000000",
          "2019-03-28T00:00:00.000000",
          "2019-03-29T00:00:00.000000",
          "2019-04-01T00:00:00.000000",
          "2019-04-02T00:00:00.000000",
          "2019-04-03T00:00:00.000000",
          "2019-04-04T00:00:00.000000",
          "2019-04-05T00:00:00.000000",
          "2019-04-08T00:00:00.000000",
          "2019-04-09T00:00:00.000000",
          "2019-04-10T00:00:00.000000",
          "2019-04-11T00:00:00.000000",
          "2019-04-12T00:00:00.000000",
          "2019-04-15T00:00:00.000000",
          "2019-04-16T00:00:00.000000",
          "2019-04-17T00:00:00.000000",
          "2019-04-18T00:00:00.000000",
          "2019-04-22T00:00:00.000000",
          "2019-04-23T00:00:00.000000",
          "2019-04-24T00:00:00.000000",
          "2019-04-25T00:00:00.000000",
          "2019-04-26T00:00:00.000000",
          "2019-04-29T00:00:00.000000",
          "2019-04-30T00:00:00.000000",
          "2019-05-01T00:00:00.000000",
          "2019-05-02T00:00:00.000000",
          "2019-05-03T00:00:00.000000",
          "2019-05-06T00:00:00.000000",
          "2019-05-07T00:00:00.000000",
          "2019-05-08T00:00:00.000000",
          "2019-05-09T00:00:00.000000",
          "2019-05-10T00:00:00.000000",
          "2019-05-13T00:00:00.000000",
          "2019-05-14T00:00:00.000000",
          "2019-05-15T00:00:00.000000",
          "2019-05-16T00:00:00.000000",
          "2019-05-17T00:00:00.000000",
          "2019-05-20T00:00:00.000000",
          "2019-05-21T00:00:00.000000",
          "2019-05-22T00:00:00.000000",
          "2019-05-23T00:00:00.000000",
          "2019-05-24T00:00:00.000000",
          "2019-05-28T00:00:00.000000",
          "2019-05-29T00:00:00.000000",
          "2019-05-30T00:00:00.000000",
          "2019-05-31T00:00:00.000000",
          "2019-06-03T00:00:00.000000",
          "2019-06-04T00:00:00.000000",
          "2019-06-05T00:00:00.000000",
          "2019-06-06T00:00:00.000000",
          "2019-06-07T00:00:00.000000",
          "2019-06-10T00:00:00.000000",
          "2019-06-11T00:00:00.000000",
          "2019-06-12T00:00:00.000000",
          "2019-06-13T00:00:00.000000",
          "2019-06-14T00:00:00.000000",
          "2019-06-17T00:00:00.000000",
          "2019-06-18T00:00:00.000000",
          "2019-06-19T00:00:00.000000",
          "2019-06-20T00:00:00.000000",
          "2019-06-21T00:00:00.000000",
          "2019-06-24T00:00:00.000000",
          "2019-06-25T00:00:00.000000",
          "2019-06-26T00:00:00.000000",
          "2019-06-27T00:00:00.000000",
          "2019-06-28T00:00:00.000000",
          "2019-07-01T00:00:00.000000",
          "2019-07-02T00:00:00.000000",
          "2019-07-03T00:00:00.000000",
          "2019-07-05T00:00:00.000000",
          "2019-07-08T00:00:00.000000",
          "2019-07-09T00:00:00.000000",
          "2019-07-10T00:00:00.000000",
          "2019-07-11T00:00:00.000000",
          "2019-07-12T00:00:00.000000",
          "2019-07-15T00:00:00.000000",
          "2019-07-16T00:00:00.000000",
          "2019-07-17T00:00:00.000000",
          "2019-07-18T00:00:00.000000",
          "2019-07-19T00:00:00.000000",
          "2019-07-22T00:00:00.000000",
          "2019-07-23T00:00:00.000000",
          "2019-07-24T00:00:00.000000",
          "2019-07-25T00:00:00.000000",
          "2019-07-26T00:00:00.000000",
          "2019-07-29T00:00:00.000000",
          "2019-07-30T00:00:00.000000",
          "2019-07-31T00:00:00.000000",
          "2019-08-01T00:00:00.000000"
         ],
         "y": {
          "dtype": "float64",
          "shape": [
           273
          ],
          "value": {}
         },
         "yaxis": "y2"
        },
        {
         "marker": {
          "color": "#1e4aa6",
          "line": {
           "color": "rgb(231, 99, 250)",
           "width": 4
          },
          "size": 12
         },
         "mode": "lines",
         "name": "3 Day Moving Average",
         "type": "scattergl",
         "uid": "eee7dbf5-9272-4cd0-b070-a3bf3d34ce04",
         "x": [
          "2018-07-02T00:00:00.000000",
          "2018-07-03T00:00:00.000000",
          "2018-07-05T00:00:00.000000",
          "2018-07-06T00:00:00.000000",
          "2018-07-09T00:00:00.000000",
          "2018-07-10T00:00:00.000000",
          "2018-07-11T00:00:00.000000",
          "2018-07-12T00:00:00.000000",
          "2018-07-13T00:00:00.000000",
          "2018-07-16T00:00:00.000000",
          "2018-07-17T00:00:00.000000",
          "2018-07-18T00:00:00.000000",
          "2018-07-19T00:00:00.000000",
          "2018-07-20T00:00:00.000000",
          "2018-07-23T00:00:00.000000",
          "2018-07-24T00:00:00.000000",
          "2018-07-25T00:00:00.000000",
          "2018-07-26T00:00:00.000000",
          "2018-07-27T00:00:00.000000",
          "2018-07-30T00:00:00.000000",
          "2018-07-31T00:00:00.000000",
          "2018-08-01T00:00:00.000000",
          "2018-08-02T00:00:00.000000",
          "2018-08-03T00:00:00.000000",
          "2018-08-06T00:00:00.000000",
          "2018-08-07T00:00:00.000000",
          "2018-08-08T00:00:00.000000",
          "2018-08-09T00:00:00.000000",
          "2018-08-10T00:00:00.000000",
          "2018-08-13T00:00:00.000000",
          "2018-08-14T00:00:00.000000",
          "2018-08-15T00:00:00.000000",
          "2018-08-16T00:00:00.000000",
          "2018-08-17T00:00:00.000000",
          "2018-08-20T00:00:00.000000",
          "2018-08-21T00:00:00.000000",
          "2018-08-22T00:00:00.000000",
          "2018-08-23T00:00:00.000000",
          "2018-08-24T00:00:00.000000",
          "2018-08-27T00:00:00.000000",
          "2018-08-28T00:00:00.000000",
          "2018-08-29T00:00:00.000000",
          "2018-08-30T00:00:00.000000",
          "2018-08-31T00:00:00.000000",
          "2018-09-04T00:00:00.000000",
          "2018-09-05T00:00:00.000000",
          "2018-09-06T00:00:00.000000",
          "2018-09-07T00:00:00.000000",
          "2018-09-10T00:00:00.000000",
          "2018-09-11T00:00:00.000000",
          "2018-09-12T00:00:00.000000",
          "2018-09-13T00:00:00.000000",
          "2018-09-14T00:00:00.000000",
          "2018-09-17T00:00:00.000000",
          "2018-09-18T00:00:00.000000",
          "2018-09-19T00:00:00.000000",
          "2018-09-20T00:00:00.000000",
          "2018-09-21T00:00:00.000000",
          "2018-09-24T00:00:00.000000",
          "2018-09-25T00:00:00.000000",
          "2018-09-26T00:00:00.000000",
          "2018-09-27T00:00:00.000000",
          "2018-09-28T00:00:00.000000",
          "2018-10-01T00:00:00.000000",
          "2018-10-02T00:00:00.000000",
          "2018-10-03T00:00:00.000000",
          "2018-10-04T00:00:00.000000",
          "2018-10-05T00:00:00.000000",
          "2018-10-08T00:00:00.000000",
          "2018-10-09T00:00:00.000000",
          "2018-10-10T00:00:00.000000",
          "2018-10-11T00:00:00.000000",
          "2018-10-12T00:00:00.000000",
          "2018-10-15T00:00:00.000000",
          "2018-10-16T00:00:00.000000",
          "2018-10-17T00:00:00.000000",
          "2018-10-18T00:00:00.000000",
          "2018-10-19T00:00:00.000000",
          "2018-10-22T00:00:00.000000",
          "2018-10-23T00:00:00.000000",
          "2018-10-24T00:00:00.000000",
          "2018-10-25T00:00:00.000000",
          "2018-10-26T00:00:00.000000",
          "2018-10-29T00:00:00.000000",
          "2018-10-30T00:00:00.000000",
          "2018-10-31T00:00:00.000000",
          "2018-11-01T00:00:00.000000",
          "2018-11-02T00:00:00.000000",
          "2018-11-05T00:00:00.000000",
          "2018-11-06T00:00:00.000000",
          "2018-11-07T00:00:00.000000",
          "2018-11-08T00:00:00.000000",
          "2018-11-09T00:00:00.000000",
          "2018-11-12T00:00:00.000000",
          "2018-11-13T00:00:00.000000",
          "2018-11-14T00:00:00.000000",
          "2018-11-15T00:00:00.000000",
          "2018-11-16T00:00:00.000000",
          "2018-11-19T00:00:00.000000",
          "2018-11-20T00:00:00.000000",
          "2018-11-21T00:00:00.000000",
          "2018-11-23T00:00:00.000000",
          "2018-11-26T00:00:00.000000",
          "2018-11-27T00:00:00.000000",
          "2018-11-28T00:00:00.000000",
          "2018-11-29T00:00:00.000000",
          "2018-11-30T00:00:00.000000",
          "2018-12-03T00:00:00.000000",
          "2018-12-04T00:00:00.000000",
          "2018-12-06T00:00:00.000000",
          "2018-12-07T00:00:00.000000",
          "2018-12-10T00:00:00.000000",
          "2018-12-11T00:00:00.000000",
          "2018-12-12T00:00:00.000000",
          "2018-12-13T00:00:00.000000",
          "2018-12-14T00:00:00.000000",
          "2018-12-17T00:00:00.000000",
          "2018-12-18T00:00:00.000000",
          "2018-12-19T00:00:00.000000",
          "2018-12-20T00:00:00.000000",
          "2018-12-21T00:00:00.000000",
          "2018-12-24T00:00:00.000000",
          "2018-12-26T00:00:00.000000",
          "2018-12-27T00:00:00.000000",
          "2018-12-28T00:00:00.000000",
          "2018-12-31T00:00:00.000000",
          "2019-01-02T00:00:00.000000",
          "2019-01-03T00:00:00.000000",
          "2019-01-04T00:00:00.000000",
          "2019-01-07T00:00:00.000000",
          "2019-01-08T00:00:00.000000",
          "2019-01-09T00:00:00.000000",
          "2019-01-10T00:00:00.000000",
          "2019-01-11T00:00:00.000000",
          "2019-01-14T00:00:00.000000",
          "2019-01-15T00:00:00.000000",
          "2019-01-16T00:00:00.000000",
          "2019-01-17T00:00:00.000000",
          "2019-01-18T00:00:00.000000",
          "2019-01-22T00:00:00.000000",
          "2019-01-23T00:00:00.000000",
          "2019-01-24T00:00:00.000000",
          "2019-01-25T00:00:00.000000",
          "2019-01-28T00:00:00.000000",
          "2019-01-29T00:00:00.000000",
          "2019-01-30T00:00:00.000000",
          "2019-01-31T00:00:00.000000",
          "2019-02-01T00:00:00.000000",
          "2019-02-04T00:00:00.000000",
          "2019-02-05T00:00:00.000000",
          "2019-02-06T00:00:00.000000",
          "2019-02-07T00:00:00.000000",
          "2019-02-08T00:00:00.000000",
          "2019-02-11T00:00:00.000000",
          "2019-02-12T00:00:00.000000",
          "2019-02-13T00:00:00.000000",
          "2019-02-14T00:00:00.000000",
          "2019-02-15T00:00:00.000000",
          "2019-02-19T00:00:00.000000",
          "2019-02-20T00:00:00.000000",
          "2019-02-21T00:00:00.000000",
          "2019-02-22T00:00:00.000000",
          "2019-02-25T00:00:00.000000",
          "2019-02-26T00:00:00.000000",
          "2019-02-27T00:00:00.000000",
          "2019-02-28T00:00:00.000000",
          "2019-03-01T00:00:00.000000",
          "2019-03-04T00:00:00.000000",
          "2019-03-05T00:00:00.000000",
          "2019-03-06T00:00:00.000000",
          "2019-03-07T00:00:00.000000",
          "2019-03-08T00:00:00.000000",
          "2019-03-11T00:00:00.000000",
          "2019-03-12T00:00:00.000000",
          "2019-03-13T00:00:00.000000",
          "2019-03-14T00:00:00.000000",
          "2019-03-15T00:00:00.000000",
          "2019-03-18T00:00:00.000000",
          "2019-03-19T00:00:00.000000",
          "2019-03-20T00:00:00.000000",
          "2019-03-21T00:00:00.000000",
          "2019-03-22T00:00:00.000000",
          "2019-03-25T00:00:00.000000",
          "2019-03-26T00:00:00.000000",
          "2019-03-27T00:00:00.000000",
          "2019-03-28T00:00:00.000000",
          "2019-03-29T00:00:00.000000",
          "2019-04-01T00:00:00.000000",
          "2019-04-02T00:00:00.000000",
          "2019-04-03T00:00:00.000000",
          "2019-04-04T00:00:00.000000",
          "2019-04-05T00:00:00.000000",
          "2019-04-08T00:00:00.000000",
          "2019-04-09T00:00:00.000000",
          "2019-04-10T00:00:00.000000",
          "2019-04-11T00:00:00.000000",
          "2019-04-12T00:00:00.000000",
          "2019-04-15T00:00:00.000000",
          "2019-04-16T00:00:00.000000",
          "2019-04-17T00:00:00.000000",
          "2019-04-18T00:00:00.000000",
          "2019-04-22T00:00:00.000000",
          "2019-04-23T00:00:00.000000",
          "2019-04-24T00:00:00.000000",
          "2019-04-25T00:00:00.000000",
          "2019-04-26T00:00:00.000000",
          "2019-04-29T00:00:00.000000",
          "2019-04-30T00:00:00.000000",
          "2019-05-01T00:00:00.000000",
          "2019-05-02T00:00:00.000000",
          "2019-05-03T00:00:00.000000",
          "2019-05-06T00:00:00.000000",
          "2019-05-07T00:00:00.000000",
          "2019-05-08T00:00:00.000000",
          "2019-05-09T00:00:00.000000",
          "2019-05-10T00:00:00.000000",
          "2019-05-13T00:00:00.000000",
          "2019-05-14T00:00:00.000000",
          "2019-05-15T00:00:00.000000",
          "2019-05-16T00:00:00.000000",
          "2019-05-17T00:00:00.000000",
          "2019-05-20T00:00:00.000000",
          "2019-05-21T00:00:00.000000",
          "2019-05-22T00:00:00.000000",
          "2019-05-23T00:00:00.000000",
          "2019-05-24T00:00:00.000000",
          "2019-05-28T00:00:00.000000",
          "2019-05-29T00:00:00.000000",
          "2019-05-30T00:00:00.000000",
          "2019-05-31T00:00:00.000000",
          "2019-06-03T00:00:00.000000",
          "2019-06-04T00:00:00.000000",
          "2019-06-05T00:00:00.000000",
          "2019-06-06T00:00:00.000000",
          "2019-06-07T00:00:00.000000",
          "2019-06-10T00:00:00.000000",
          "2019-06-11T00:00:00.000000",
          "2019-06-12T00:00:00.000000",
          "2019-06-13T00:00:00.000000",
          "2019-06-14T00:00:00.000000",
          "2019-06-17T00:00:00.000000",
          "2019-06-18T00:00:00.000000",
          "2019-06-19T00:00:00.000000",
          "2019-06-20T00:00:00.000000",
          "2019-06-21T00:00:00.000000",
          "2019-06-24T00:00:00.000000",
          "2019-06-25T00:00:00.000000",
          "2019-06-26T00:00:00.000000",
          "2019-06-27T00:00:00.000000",
          "2019-06-28T00:00:00.000000",
          "2019-07-01T00:00:00.000000",
          "2019-07-02T00:00:00.000000",
          "2019-07-03T00:00:00.000000",
          "2019-07-05T00:00:00.000000",
          "2019-07-08T00:00:00.000000",
          "2019-07-09T00:00:00.000000",
          "2019-07-10T00:00:00.000000",
          "2019-07-11T00:00:00.000000",
          "2019-07-12T00:00:00.000000",
          "2019-07-15T00:00:00.000000",
          "2019-07-16T00:00:00.000000",
          "2019-07-17T00:00:00.000000",
          "2019-07-18T00:00:00.000000",
          "2019-07-19T00:00:00.000000",
          "2019-07-22T00:00:00.000000",
          "2019-07-23T00:00:00.000000",
          "2019-07-24T00:00:00.000000",
          "2019-07-25T00:00:00.000000",
          "2019-07-26T00:00:00.000000",
          "2019-07-29T00:00:00.000000",
          "2019-07-30T00:00:00.000000",
          "2019-07-31T00:00:00.000000",
          "2019-08-01T00:00:00.000000"
         ],
         "y": {
          "dtype": "float64",
          "shape": [
           270
          ],
          "value": {}
         },
         "yaxis": "y"
        }
       ],
       "_js2py_pointsCallback": {},
       "_js2py_restyle": {},
       "_js2py_update": {},
       "_last_layout_edit_id": 2,
       "_last_trace_edit_id": 1,
       "_layout": {
        "annotations": [
         {
          "arrowcolor": "black",
          "arrowhead": 1,
          "arrowsize": 1,
          "ax": 0,
          "ay": -200,
          "showarrow": true,
          "text": "Buy:<br>178.97",
          "x": "2019-06-03T00:00:00.000000",
          "xref": "x",
          "y": 178.97000122070312,
          "yref": "y"
         }
        ],
        "autosize": true,
        "template": {
         "data": {
          "bar": [
           {
            "error_x": {
             "color": "#2a3f5f"
            },
            "error_y": {
             "color": "#2a3f5f"
            },
            "marker": {
             "line": {
              "color": "#E5ECF6",
              "width": 0.5
             }
            },
            "type": "bar"
           }
          ],
          "barpolar": [
           {
            "marker": {
             "line": {
              "color": "#E5ECF6",
              "width": 0.5
             }
            },
            "type": "barpolar"
           }
          ],
          "carpet": [
           {
            "aaxis": {
             "endlinecolor": "#2a3f5f",
             "gridcolor": "white",
             "linecolor": "white",
             "minorgridcolor": "white",
             "startlinecolor": "#2a3f5f"
            },
            "baxis": {
             "endlinecolor": "#2a3f5f",
             "gridcolor": "white",
             "linecolor": "white",
             "minorgridcolor": "white",
             "startlinecolor": "#2a3f5f"
            },
            "type": "carpet"
           }
          ],
          "choropleth": [
           {
            "colorbar": {
             "outlinewidth": 0,
             "ticks": ""
            },
            "type": "choropleth"
           }
          ],
          "contour": [
           {
            "colorbar": {
             "outlinewidth": 0,
             "ticks": ""
            },
            "colorscale": [
             [
              0,
              "#0d0887"
             ],
             [
              0.1111111111111111,
              "#46039f"
             ],
             [
              0.2222222222222222,
              "#7201a8"
             ],
             [
              0.3333333333333333,
              "#9c179e"
             ],
             [
              0.4444444444444444,
              "#bd3786"
             ],
             [
              0.5555555555555556,
              "#d8576b"
             ],
             [
              0.6666666666666666,
              "#ed7953"
             ],
             [
              0.7777777777777778,
              "#fb9f3a"
             ],
             [
              0.8888888888888888,
              "#fdca26"
             ],
             [
              1,
              "#f0f921"
             ]
            ],
            "type": "contour"
           }
          ],
          "contourcarpet": [
           {
            "colorbar": {
             "outlinewidth": 0,
             "ticks": ""
            },
            "type": "contourcarpet"
           }
          ],
          "heatmap": [
           {
            "colorbar": {
             "outlinewidth": 0,
             "ticks": ""
            },
            "colorscale": [
             [
              0,
              "#0d0887"
             ],
             [
              0.1111111111111111,
              "#46039f"
             ],
             [
              0.2222222222222222,
              "#7201a8"
             ],
             [
              0.3333333333333333,
              "#9c179e"
             ],
             [
              0.4444444444444444,
              "#bd3786"
             ],
             [
              0.5555555555555556,
              "#d8576b"
             ],
             [
              0.6666666666666666,
              "#ed7953"
             ],
             [
              0.7777777777777778,
              "#fb9f3a"
             ],
             [
              0.8888888888888888,
              "#fdca26"
             ],
             [
              1,
              "#f0f921"
             ]
            ],
            "type": "heatmap"
           }
          ],
          "heatmapgl": [
           {
            "colorbar": {
             "outlinewidth": 0,
             "ticks": ""
            },
            "colorscale": [
             [
              0,
              "#0d0887"
             ],
             [
              0.1111111111111111,
              "#46039f"
             ],
             [
              0.2222222222222222,
              "#7201a8"
             ],
             [
              0.3333333333333333,
              "#9c179e"
             ],
             [
              0.4444444444444444,
              "#bd3786"
             ],
             [
              0.5555555555555556,
              "#d8576b"
             ],
             [
              0.6666666666666666,
              "#ed7953"
             ],
             [
              0.7777777777777778,
              "#fb9f3a"
             ],
             [
              0.8888888888888888,
              "#fdca26"
             ],
             [
              1,
              "#f0f921"
             ]
            ],
            "type": "heatmapgl"
           }
          ],
          "histogram": [
           {
            "marker": {
             "colorbar": {
              "outlinewidth": 0,
              "ticks": ""
             }
            },
            "type": "histogram"
           }
          ],
          "histogram2d": [
           {
            "colorbar": {
             "outlinewidth": 0,
             "ticks": ""
            },
            "colorscale": [
             [
              0,
              "#0d0887"
             ],
             [
              0.1111111111111111,
              "#46039f"
             ],
             [
              0.2222222222222222,
              "#7201a8"
             ],
             [
              0.3333333333333333,
              "#9c179e"
             ],
             [
              0.4444444444444444,
              "#bd3786"
             ],
             [
              0.5555555555555556,
              "#d8576b"
             ],
             [
              0.6666666666666666,
              "#ed7953"
             ],
             [
              0.7777777777777778,
              "#fb9f3a"
             ],
             [
              0.8888888888888888,
              "#fdca26"
             ],
             [
              1,
              "#f0f921"
             ]
            ],
            "type": "histogram2d"
           }
          ],
          "histogram2dcontour": [
           {
            "colorbar": {
             "outlinewidth": 0,
             "ticks": ""
            },
            "colorscale": [
             [
              0,
              "#0d0887"
             ],
             [
              0.1111111111111111,
              "#46039f"
             ],
             [
              0.2222222222222222,
              "#7201a8"
             ],
             [
              0.3333333333333333,
              "#9c179e"
             ],
             [
              0.4444444444444444,
              "#bd3786"
             ],
             [
              0.5555555555555556,
              "#d8576b"
             ],
             [
              0.6666666666666666,
              "#ed7953"
             ],
             [
              0.7777777777777778,
              "#fb9f3a"
             ],
             [
              0.8888888888888888,
              "#fdca26"
             ],
             [
              1,
              "#f0f921"
             ]
            ],
            "type": "histogram2dcontour"
           }
          ],
          "mesh3d": [
           {
            "colorbar": {
             "outlinewidth": 0,
             "ticks": ""
            },
            "type": "mesh3d"
           }
          ],
          "parcoords": [
           {
            "line": {
             "colorbar": {
              "outlinewidth": 0,
              "ticks": ""
             }
            },
            "type": "parcoords"
           }
          ],
          "scatter": [
           {
            "marker": {
             "colorbar": {
              "outlinewidth": 0,
              "ticks": ""
             }
            },
            "type": "scatter"
           }
          ],
          "scatter3d": [
           {
            "line": {
             "colorbar": {
              "outlinewidth": 0,
              "ticks": ""
             }
            },
            "marker": {
             "colorbar": {
              "outlinewidth": 0,
              "ticks": ""
             }
            },
            "type": "scatter3d"
           }
          ],
          "scattercarpet": [
           {
            "marker": {
             "colorbar": {
              "outlinewidth": 0,
              "ticks": ""
             }
            },
            "type": "scattercarpet"
           }
          ],
          "scattergeo": [
           {
            "marker": {
             "colorbar": {
              "outlinewidth": 0,
              "ticks": ""
             }
            },
            "type": "scattergeo"
           }
          ],
          "scattergl": [
           {
            "marker": {
             "colorbar": {
              "outlinewidth": 0,
              "ticks": ""
             }
            },
            "type": "scattergl"
           }
          ],
          "scattermapbox": [
           {
            "marker": {
             "colorbar": {
              "outlinewidth": 0,
              "ticks": ""
             }
            },
            "type": "scattermapbox"
           }
          ],
          "scatterpolar": [
           {
            "marker": {
             "colorbar": {
              "outlinewidth": 0,
              "ticks": ""
             }
            },
            "type": "scatterpolar"
           }
          ],
          "scatterpolargl": [
           {
            "marker": {
             "colorbar": {
              "outlinewidth": 0,
              "ticks": ""
             }
            },
            "type": "scatterpolargl"
           }
          ],
          "scatterternary": [
           {
            "marker": {
             "colorbar": {
              "outlinewidth": 0,
              "ticks": ""
             }
            },
            "type": "scatterternary"
           }
          ],
          "surface": [
           {
            "colorbar": {
             "outlinewidth": 0,
             "ticks": ""
            },
            "colorscale": [
             [
              0,
              "#0d0887"
             ],
             [
              0.1111111111111111,
              "#46039f"
             ],
             [
              0.2222222222222222,
              "#7201a8"
             ],
             [
              0.3333333333333333,
              "#9c179e"
             ],
             [
              0.4444444444444444,
              "#bd3786"
             ],
             [
              0.5555555555555556,
              "#d8576b"
             ],
             [
              0.6666666666666666,
              "#ed7953"
             ],
             [
              0.7777777777777778,
              "#fb9f3a"
             ],
             [
              0.8888888888888888,
              "#fdca26"
             ],
             [
              1,
              "#f0f921"
             ]
            ],
            "type": "surface"
           }
          ],
          "table": [
           {
            "cells": {
             "fill": {
              "color": "#EBF0F8"
             },
             "line": {
              "color": "white"
             }
            },
            "header": {
             "fill": {
              "color": "#C8D4E3"
             },
             "line": {
              "color": "white"
             }
            },
            "type": "table"
           }
          ]
         },
         "layout": {
          "annotationdefaults": {
           "arrowcolor": "#2a3f5f",
           "arrowhead": 0,
           "arrowwidth": 1
          },
          "colorscale": {
           "diverging": [
            [
             0,
             "#8e0152"
            ],
            [
             0.1,
             "#c51b7d"
            ],
            [
             0.2,
             "#de77ae"
            ],
            [
             0.3,
             "#f1b6da"
            ],
            [
             0.4,
             "#fde0ef"
            ],
            [
             0.5,
             "#f7f7f7"
            ],
            [
             0.6,
             "#e6f5d0"
            ],
            [
             0.7,
             "#b8e186"
            ],
            [
             0.8,
             "#7fbc41"
            ],
            [
             0.9,
             "#4d9221"
            ],
            [
             1,
             "#276419"
            ]
           ],
           "sequential": [
            [
             0,
             "#0d0887"
            ],
            [
             0.1111111111111111,
             "#46039f"
            ],
            [
             0.2222222222222222,
             "#7201a8"
            ],
            [
             0.3333333333333333,
             "#9c179e"
            ],
            [
             0.4444444444444444,
             "#bd3786"
            ],
            [
             0.5555555555555556,
             "#d8576b"
            ],
            [
             0.6666666666666666,
             "#ed7953"
            ],
            [
             0.7777777777777778,
             "#fb9f3a"
            ],
            [
             0.8888888888888888,
             "#fdca26"
            ],
            [
             1,
             "#f0f921"
            ]
           ],
           "sequentialminus": [
            [
             0,
             "#0d0887"
            ],
            [
             0.1111111111111111,
             "#46039f"
            ],
            [
             0.2222222222222222,
             "#7201a8"
            ],
            [
             0.3333333333333333,
             "#9c179e"
            ],
            [
             0.4444444444444444,
             "#bd3786"
            ],
            [
             0.5555555555555556,
             "#d8576b"
            ],
            [
             0.6666666666666666,
             "#ed7953"
            ],
            [
             0.7777777777777778,
             "#fb9f3a"
            ],
            [
             0.8888888888888888,
             "#fdca26"
            ],
            [
             1,
             "#f0f921"
            ]
           ]
          },
          "colorway": [
           "#636efa",
           "#EF553B",
           "#00cc96",
           "#ab63fa",
           "#FFA15A",
           "#19d3f3",
           "#FF6692",
           "#B6E880",
           "#FF97FF",
           "#FECB52"
          ],
          "font": {
           "color": "#2a3f5f"
          },
          "geo": {
           "bgcolor": "white",
           "lakecolor": "white",
           "landcolor": "#E5ECF6",
           "showlakes": true,
           "showland": true,
           "subunitcolor": "white"
          },
          "hoverlabel": {
           "align": "left"
          },
          "hovermode": "closest",
          "mapbox": {
           "style": "light"
          },
          "paper_bgcolor": "white",
          "plot_bgcolor": "#E5ECF6",
          "polar": {
           "angularaxis": {
            "gridcolor": "white",
            "linecolor": "white",
            "ticks": ""
           },
           "bgcolor": "#E5ECF6",
           "radialaxis": {
            "gridcolor": "white",
            "linecolor": "white",
            "ticks": ""
           }
          },
          "scene": {
           "xaxis": {
            "backgroundcolor": "#E5ECF6",
            "gridcolor": "white",
            "gridwidth": 2,
            "linecolor": "white",
            "showbackground": true,
            "ticks": "",
            "zerolinecolor": "white"
           },
           "yaxis": {
            "backgroundcolor": "#E5ECF6",
            "gridcolor": "white",
            "gridwidth": 2,
            "linecolor": "white",
            "showbackground": true,
            "ticks": "",
            "zerolinecolor": "white"
           },
           "zaxis": {
            "backgroundcolor": "#E5ECF6",
            "gridcolor": "white",
            "gridwidth": 2,
            "linecolor": "white",
            "showbackground": true,
            "ticks": "",
            "zerolinecolor": "white"
           }
          },
          "shapedefaults": {
           "line": {
            "color": "#2a3f5f"
           }
          },
          "ternary": {
           "aaxis": {
            "gridcolor": "white",
            "linecolor": "white",
            "ticks": ""
           },
           "baxis": {
            "gridcolor": "white",
            "linecolor": "white",
            "ticks": ""
           },
           "bgcolor": "#E5ECF6",
           "caxis": {
            "gridcolor": "white",
            "linecolor": "white",
            "ticks": ""
           }
          },
          "title": {
           "x": 0.05
          },
          "xaxis": {
           "automargin": true,
           "gridcolor": "white",
           "linecolor": "white",
           "ticks": "",
           "zerolinecolor": "white",
           "zerolinewidth": 2
          },
          "yaxis": {
           "automargin": true,
           "gridcolor": "white",
           "linecolor": "white",
           "ticks": "",
           "zerolinecolor": "white",
           "zerolinewidth": 2
          }
         }
        },
        "title": {
         "text": "Favorite pick: Tesla - Year to Date Trend"
        },
        "xaxis": {
         "rangeselector": {
          "buttons": [
           {
            "count": 1,
            "label": "1M",
            "step": "month",
            "stepmode": "backward"
           },
           {
            "count": 6,
            "label": "6M",
            "step": "month",
            "stepmode": "backward"
           },
           {
            "count": 12,
            "label": "1Y",
            "step": "month",
            "stepmode": "backward"
           },
           {
            "step": "all"
           }
          ]
         },
         "title": {
          "text": "Date"
         }
        },
        "yaxis": {
         "title": {
          "text": "Closing Price in $."
         }
        },
        "yaxis2": {
         "anchor": "x",
         "overlaying": "y",
         "side": "right",
         "title": {
          "text": "In Natural Logarithm"
         }
        }
       },
       "_py2js_addTraces": {},
       "_py2js_animate": {},
       "_py2js_deleteTraces": {},
       "_py2js_moveTraces": {},
       "_py2js_removeLayoutProps": {},
       "_py2js_removeTraceProps": {},
       "_py2js_update": {},
       "_view_count": 1
      }
     },
     "9755612b5bca43eeb79bbc79d87a81f5": {
      "model_module": "@jupyter-widgets/controls",
      "model_module_version": "1.5.0",
      "model_name": "VBoxModel",
      "state": {
       "children": [
        "IPY_MODEL_e970a71d7a164b2db7cc92b83cdcdca4",
        "IPY_MODEL_96e0f4084a984c99bfd1f7ef93b8c7f9"
       ],
       "layout": "IPY_MODEL_1db1afbda832499e866854a7196f3eb8"
      }
     },
     "97e6d2195f054228bcde7a2ca047c9c9": {
      "model_module": "plotlywidget",
      "model_module_version": "^1.0.0",
      "model_name": "FigureModel",
      "state": {
       "_config": {
        "plotlyServerURL": "https://plot.ly"
       },
       "_data": [
        {
         "cells": {
          "align": [
           "left",
           "left",
           "left",
           "left",
           "left"
          ],
          "fill": {
           "color": "#F5F8FF"
          },
          "values": [
           [
            329.85,
            309.69,
            296.22,
            302,
            308,
            319.2,
            315.07,
            312.77,
            309.25,
            306.25,
            308.5,
            316.25,
            314.01,
            311.71,
            292.86,
            292.55,
            294.5,
            303.64,
            295.34,
            286.13,
            289.07,
            293,
            323.16,
            342.53,
            341.82,
            339.15,
            367.12,
            345.73,
            346,
            349.02,
            347.1,
            332.14,
            333.82,
            303.53,
            288.2,
            309,
            314.67,
            318.1,
            319.4,
            308.81,
            311.19,
            303.69,
            297.72,
            298.6,
            288,
            277.18,
            278.88,
            252.25,
            271,
            273.55,
            278.65,
            285.18,
            286.52,
            288.13,
            275.5,
            280.5,
            293.33,
            295.37,
            293.58,
            296.5,
            301.11,
            306.91,
            260.56,
            301.05,
            299.15,
            291.57,
            277.67,
            260,
            249,
            253.3,
            247.77,
            249.03,
            252.01,
            254.54,
            262.24,
            265.8,
            263,
            253.5,
            252.59,
            262.1,
            285.73,
            301.01,
            306.65,
            326.5,
            322.26,
            329.1,
            334.73,
            340.91,
            330.14,
            336.09,
            340.8,
            348.44,
            345.23,
            330.34,
            332.2,
            337.15,
            339.04,
            345.12,
            352.88,
            333.55,
            337.4,
            325.55,
            325,
            335.5,
            342.21,
            339.55,
            338.26,
            352,
            352,
            350.76,
            357.65,
            353.12,
            360.23,
            365.16,
            366.75,
            364.33,
            343.88,
            333.69,
            329.74,
            311.87,
            312.44,
            295.2,
            294.09,
            301.5,
            318.41,
            325.26,
            298.8,
            297.38,
            302.73,
            317.75,
            327.02,
            331.47,
            331.79,
            338.77,
            334,
            334.5,
            343.5,
            344.15,
            299.73,
            295.5,
            281.69,
            279.28,
            289.55,
            287.75,
            291.8,
            298.49,
            294,
            303.5,
            301.88,
            312.25,
            315.62,
            303,
            298.5,
            310.5,
            309.62,
            305.57,
            301,
            303.9,
            305.47,
            299,
            290.5,
            292.1,
            297,
            288.77,
            300.55,
            310.81,
            291.9,
            282.78,
            270.1,
            274.39,
            274.25,
            275.89,
            280.5,
            281.06,
            282.7,
            288.29,
            274.4,
            267.3,
            263.46,
            266.3,
            268.45,
            264,
            254.46,
            264.43,
            268.18,
            275.1,
            274.5,
            281.28,
            283.88,
            287.17,
            260.59,
            266.11,
            270.44,
            269.61,
            272.89,
            265.6,
            266.83,
            258.63,
            264.72,
            268.54,
            269.75,
            262.48,
            255.75,
            258,
            246.07,
            231.13,
            232.17,
            237,
            231.5,
            237.72,
            243.49,
            248.5,
            245.1,
            244.2,
            236.94,
            236.02,
            224.5,
            228,
            225.25,
            226.5,
            208.92,
            195.25,
            196.04,
            191.78,
            186.22,
            188.75,
            187.85,
            185.04,
            187.02,
            184.1,
            176.99,
            179.61,
            191.85,
            201.8,
            203.5,
            209.01,
            213.5,
            209,
            207.51,
            210.4,
            214.27,
            222.56,
            221.06,
            216.35,
            215.5,
            221.02,
            219.49,
            218.1,
            217.35,
            220.8,
            226.28,
            222.22,
            234.51,
            230.8,
            228.66,
            227.28,
            233.14,
            235.8,
            239.71,
            244.86,
            247.93,
            253.35,
            251.89,
            254.62,
            254.19,
            254.5,
            258.16,
            225.55,
            222.25,
            226.03,
            232.18,
            236.65,
            231.77
           ],
           [
            364.78,
            332.49,
            314.39,
            312.07,
            318.52,
            327.68,
            321.94,
            323.23,
            319.58,
            315.16,
            324.74,
            325.5,
            323.54,
            323.24,
            305.5,
            307.72,
            309.62,
            310.7,
            307.69,
            296.1,
            298.32,
            303,
            349.99,
            355,
            354.98,
            387.46,
            382.64,
            367.01,
            360,
            363.19,
            359.2,
            344.49,
            342.28,
            326.77,
            308.5,
            324.79,
            323.88,
            327.32,
            323.85,
            322.44,
            318.88,
            311.85,
            304.6,
            305.31,
            298.19,
            286.78,
            291.17,
            268.35,
            286.03,
            282,
            292.5,
            295,
            297.33,
            300.87,
            302.64,
            300,
            305.98,
            300.58,
            303,
            304.6,
            313.89,
            314.96,
            278,
            311.44,
            316.84,
            304.6,
            294,
            274.88,
            267.76,
            266.77,
            265.51,
            262.25,
            261.99,
            263.28,
            277.38,
            282.7,
            271,
            269.66,
            261.86,
            297.93,
            304.44,
            321,
            339.9,
            347.16,
            337.9,
            342,
            347.84,
            349.2,
            343.96,
            348.8,
            351.18,
            357.58,
            354,
            349.78,
            344.7,
            347.11,
            348.58,
            355.7,
            366.75,
            349.8,
            353.1,
            337.5,
            346.22,
            346.96,
            348.28,
            347.5,
            351.6,
            366,
            368.68,
            367.38,
            379.49,
            365.98,
            372.17,
            371.91,
            377.44,
            377.87,
            365.7,
            351.55,
            347.01,
            330.29,
            323.47,
            314.5,
            326.97,
            322.17,
            336.24,
            339.21,
            315.13,
            309.4,
            318,
            336.74,
            344.01,
            343.5,
            345.39,
            348.41,
            342.5,
            348.8,
            352,
            351.5,
            327.13,
            308,
            294.5,
            293.68,
            298.52,
            297.46,
            298.56,
            309,
            311.56,
            316.1,
            315.3,
            322.44,
            324.24,
            314.7,
            307.45,
            318.6,
            318.19,
            312.75,
            306.77,
            308,
            311.54,
            306.3,
            303.24,
            296.5,
            302.9,
            302.01,
            316.3,
            320,
            307.13,
            299,
            284,
            281.51,
            284.7,
            285.59,
            291.28,
            288.07,
            291.99,
            295.39,
            283.72,
            278.05,
            273.3,
            274.97,
            276.45,
            272.8,
            263.18,
            270.26,
            275.37,
            280.33,
            280.16,
            289.2,
            289.44,
            296.17,
            271.2,
            276.1,
            281.16,
            275,
            278.38,
            270.5,
            271.95,
            268.88,
            275,
            274.79,
            274.84,
            269.68,
            265.6,
            265.32,
            259,
            246.68,
            243.98,
            244.21,
            240,
            247.13,
            256.61,
            258.35,
            257.21,
            250.6,
            243.68,
            241.99,
            232.47,
            234.5,
            232.44,
            231,
            222.24,
            206,
            207.4,
            203.94,
            199.47,
            199.98,
            195,
            192.39,
            192.26,
            189.92,
            186.68,
            193.98,
            201.28,
            211,
            210.84,
            216.94,
            220.9,
            223.38,
            214.9,
            216.65,
            227,
            234.74,
            227.77,
            226.9,
            222.18,
            225.86,
            225.34,
            227.23,
            222.9,
            225.17,
            233.1,
            229.15,
            241.57,
            235.45,
            232.25,
            231,
            238.94,
            241.5,
            245.38,
            254.42,
            253.53,
            258.31,
            255.75,
            259.96,
            262.15,
            260.48,
            266.07,
            234.5,
            230.26,
            235.94,
            243.36,
            246.68,
            244.51
           ],
           [
            335.07,
            310.86,
            309.16,
            308.9,
            318.51,
            322.47,
            318.96,
            316.71,
            318.87,
            310.1,
            322.69,
            323.85,
            320.23,
            313.58,
            303.2,
            297.43,
            308.74,
            306.65,
            297.18,
            290.17,
            298.14,
            300.84,
            349.54,
            348.17,
            341.99,
            379.57,
            370.34,
            352.45,
            355.49,
            356.41,
            347.64,
            338.69,
            335.45,
            305.5,
            308.44,
            321.9,
            321.64,
            320.1,
            322.82,
            319.27,
            311.86,
            305.01,
            303.15,
            301.66,
            288.95,
            280.74,
            280.95,
            263.24,
            285.5,
            279.44,
            290.54,
            289.46,
            295.2,
            294.84,
            284.96,
            299.02,
            298.33,
            299.1,
            299.68,
            300.99,
            309.58,
            307.52,
            264.77,
            310.7,
            301.02,
            294.8,
            281.83,
            261.95,
            250.56,
            262.8,
            256.88,
            252.23,
            258.78,
            259.59,
            276.59,
            271.78,
            263.91,
            260,
            260.95,
            294.14,
            288.5,
            314.86,
            330.9,
            334.85,
            329.9,
            337.32,
            344.28,
            346.41,
            341.4,
            341.06,
            348.16,
            351.4,
            350.51,
            331.28,
            338.73,
            344,
            348.44,
            354.31,
            353.47,
            347.49,
            338.19,
            325.83,
            346,
            343.92,
            347.87,
            341.17,
            350.48,
            358.49,
            359.7,
            363.06,
            357.97,
            365.15,
            366.76,
            366.6,
            376.79,
            365.71,
            348.42,
            337.03,
            332.97,
            315.38,
            319.77,
            295.39,
            326.09,
            316.13,
            333.87,
            332.8,
            310.12,
            300.36,
            317.69,
            334.96,
            335.35,
            338.53,
            344.97,
            347.26,
            334.4,
            344.43,
            346.05,
            347.31,
            302.26,
            298.92,
            287.59,
            291.51,
            297.04,
            296.38,
            297.46,
            308.77,
            307.02,
            312.21,
            312.89,
            321.35,
            317.22,
            307.51,
            305.8,
            312.84,
            311.81,
            308.17,
            303.77,
            307.88,
            305.64,
            302.56,
            291.23,
            294.71,
            298.77,
            297.86,
            314.74,
            319.88,
            294.79,
            285.36,
            276.54,
            276.24,
            276.59,
            284.14,
            290.92,
            283.36,
            288.96,
            289.96,
            275.43,
            269.49,
            267.47,
            273.6,
            274.02,
            264.53,
            260.42,
            267.77,
            274.83,
            278.62,
            279.86,
            289.18,
            285.88,
            291.81,
            267.78,
            274.96,
            273.2,
            272.31,
            276.06,
            268.42,
            267.7,
            266.38,
            273.36,
            271.23,
            273.26,
            262.75,
            263.9,
            258.66,
            247.63,
            235.14,
            241.47,
            238.69,
            234.01,
            244.1,
            255.03,
            255.34,
            247.06,
            244.84,
            241.98,
            239.52,
            227.01,
            232.31,
            231.95,
            228.33,
            211.03,
            205.36,
            205.08,
            192.73,
            195.49,
            190.63,
            188.7,
            189.86,
            188.22,
            185.16,
            178.97,
            193.6,
            196.59,
            205.95,
            204.5,
            212.88,
            217.1,
            209.26,
            213.91,
            214.92,
            225.03,
            224.74,
            226.43,
            219.62,
            221.86,
            223.64,
            219.76,
            219.27,
            222.84,
            223.46,
            227.17,
            224.55,
            234.9,
            233.1,
            230.34,
            230.06,
            238.92,
            238.6,
            245.08,
            253.5,
            252.38,
            254.86,
            253.54,
            258.18,
            255.68,
            260.17,
            264.88,
            228.82,
            228.04,
            235.77,
            242.26,
            241.61,
            233.85
           ],
           [
            0,
            -0.075,
            -0.0055,
            -0.0008,
            0.0306,
            0.0124,
            -0.0109,
            -0.0071,
            0.0068,
            -0.0279,
            0.0398,
            0.0036,
            -0.0112,
            -0.021,
            -0.0337,
            -0.0192,
            0.0373,
            -0.0068,
            -0.0314,
            -0.0239,
            0.0271,
            0.009,
            0.15,
            -0.0039,
            -0.0179,
            0.1043,
            -0.0246,
            -0.0495,
            0.0086,
            0.0026,
            -0.0249,
            -0.0261,
            -0.0096,
            -0.0935,
            0.0096,
            0.0427,
            -0.0008,
            -0.0048,
            0.0085,
            -0.0111,
            -0.0235,
            -0.0222,
            -0.0061,
            -0.0049,
            -0.043,
            -0.0288,
            0.0007,
            -0.0651,
            0.0812,
            -0.0215,
            0.039,
            -0.0037,
            0.0196,
            -0.0012,
            -0.0341,
            0.0482,
            -0.0023,
            0.0026,
            0.0019,
            0.0044,
            0.0281,
            -0.0067,
            -0.1497,
            0.16,
            -0.0317,
            -0.0209,
            -0.045,
            -0.0732,
            -0.0445,
            0.0477,
            -0.0228,
            -0.0183,
            0.0256,
            0.0031,
            0.0634,
            -0.0175,
            -0.0294,
            -0.0149,
            0.0036,
            0.1197,
            -0.0194,
            0.0874,
            0.0497,
            0.0119,
            -0.0149,
            0.0222,
            0.0204,
            0.0062,
            -0.0146,
            -0.001,
            0.0206,
            0.0093,
            -0.0025,
            -0.0564,
            0.0222,
            0.0154,
            0.0128,
            0.0167,
            -0.0024,
            -0.0171,
            -0.0271,
            -0.0372,
            0.0601,
            -0.006,
            0.0114,
            -0.0194,
            0.0269,
            0.0226,
            0.0034,
            0.0093,
            -0.0141,
            0.0199,
            0.0044,
            -0.0004,
            0.0274,
            -0.0298,
            -0.0484,
            -0.0332,
            -0.0121,
            -0.0543,
            0.0138,
            -0.0793,
            0.0989,
            -0.031,
            0.0546,
            -0.0032,
            -0.0706,
            -0.032,
            0.0561,
            0.0529,
            0.0012,
            0.0094,
            0.0188,
            0.0066,
            -0.0377,
            0.0296,
            0.0047,
            0.0036,
            -0.1389,
            -0.0111,
            -0.0386,
            0.0135,
            0.0188,
            -0.0022,
            0.0036,
            0.0373,
            -0.0057,
            0.0168,
            0.0022,
            0.0267,
            -0.0129,
            -0.0311,
            -0.0056,
            0.0228,
            -0.0033,
            -0.0117,
            -0.0144,
            0.0134,
            -0.0073,
            -0.0101,
            -0.0382,
            0.0119,
            0.0137,
            -0.0031,
            0.0551,
            0.0162,
            -0.0817,
            -0.0325,
            -0.0314,
            -0.0011,
            0.0013,
            0.0269,
            0.0236,
            -0.0263,
            0.0196,
            0.0035,
            -0.0514,
            -0.0218,
            -0.0075,
            0.0227,
            0.0015,
            -0.0352,
            -0.0157,
            0.0278,
            0.026,
            0.0137,
            0.0044,
            0.0328,
            -0.0115,
            0.0205,
            -0.0859,
            0.0265,
            -0.0064,
            -0.0033,
            0.0137,
            -0.0281,
            -0.0027,
            -0.0049,
            0.0259,
            -0.0078,
            0.0075,
            -0.0392,
            0.0044,
            -0.0201,
            -0.0436,
            -0.0518,
            0.0266,
            -0.0116,
            -0.0198,
            0.0422,
            0.0438,
            0.0012,
            -0.033,
            -0.009,
            -0.0117,
            -0.0102,
            -0.0536,
            0.0231,
            -0.0016,
            -0.0157,
            -0.0788,
            -0.0272,
            -0.0014,
            -0.0621,
            0.0142,
            -0.0252,
            -0.0102,
            0.0061,
            -0.0087,
            -0.0164,
            -0.034,
            0.0786,
            0.0153,
            0.0465,
            -0.0071,
            0.0402,
            0.0196,
            -0.0368,
            0.022,
            0.0047,
            0.046,
            -0.0013,
            0.0075,
            -0.0305,
            0.0101,
            0.008,
            -0.0175,
            -0.0022,
            0.0162,
            0.0028,
            0.0165,
            -0.0116,
            0.0451,
            -0.0077,
            -0.0119,
            -0.0012,
            0.0378,
            -0.0013,
            0.0268,
            0.0338,
            -0.0044,
            0.0098,
            -0.0052,
            0.0181,
            -0.0097,
            0.0174,
            0.0179,
            -0.1463,
            -0.0034,
            0.0333,
            0.0272,
            -0.0027,
            -0.0326
           ]
          ]
         },
         "header": {
          "align": [
           "left",
           "left",
           "left",
           "left",
           "left"
          ],
          "fill": {
           "color": "#386dea"
          },
          "font": {
           "color": "#fcfcfc"
          },
          "values": [
           "Low (In $)",
           "High (In $)",
           "Daily Close (In $)",
           "Daily_Returns (Natural Log)"
          ]
         },
         "type": "table",
         "uid": "eb5d4301-fb14-44b1-9662-f0a597062a3d"
        }
       ],
       "_js2py_layoutDelta": {},
       "_js2py_pointsCallback": {},
       "_js2py_relayout": {},
       "_js2py_restyle": {},
       "_js2py_traceDeltas": {},
       "_js2py_update": {},
       "_layout": {
        "template": {
         "data": {
          "bar": [
           {
            "error_x": {
             "color": "#2a3f5f"
            },
            "error_y": {
             "color": "#2a3f5f"
            },
            "marker": {
             "line": {
              "color": "#E5ECF6",
              "width": 0.5
             }
            },
            "type": "bar"
           }
          ],
          "barpolar": [
           {
            "marker": {
             "line": {
              "color": "#E5ECF6",
              "width": 0.5
             }
            },
            "type": "barpolar"
           }
          ],
          "carpet": [
           {
            "aaxis": {
             "endlinecolor": "#2a3f5f",
             "gridcolor": "white",
             "linecolor": "white",
             "minorgridcolor": "white",
             "startlinecolor": "#2a3f5f"
            },
            "baxis": {
             "endlinecolor": "#2a3f5f",
             "gridcolor": "white",
             "linecolor": "white",
             "minorgridcolor": "white",
             "startlinecolor": "#2a3f5f"
            },
            "type": "carpet"
           }
          ],
          "choropleth": [
           {
            "colorbar": {
             "outlinewidth": 0,
             "ticks": ""
            },
            "type": "choropleth"
           }
          ],
          "contour": [
           {
            "colorbar": {
             "outlinewidth": 0,
             "ticks": ""
            },
            "colorscale": [
             [
              0,
              "#0d0887"
             ],
             [
              0.1111111111111111,
              "#46039f"
             ],
             [
              0.2222222222222222,
              "#7201a8"
             ],
             [
              0.3333333333333333,
              "#9c179e"
             ],
             [
              0.4444444444444444,
              "#bd3786"
             ],
             [
              0.5555555555555556,
              "#d8576b"
             ],
             [
              0.6666666666666666,
              "#ed7953"
             ],
             [
              0.7777777777777778,
              "#fb9f3a"
             ],
             [
              0.8888888888888888,
              "#fdca26"
             ],
             [
              1,
              "#f0f921"
             ]
            ],
            "type": "contour"
           }
          ],
          "contourcarpet": [
           {
            "colorbar": {
             "outlinewidth": 0,
             "ticks": ""
            },
            "type": "contourcarpet"
           }
          ],
          "heatmap": [
           {
            "colorbar": {
             "outlinewidth": 0,
             "ticks": ""
            },
            "colorscale": [
             [
              0,
              "#0d0887"
             ],
             [
              0.1111111111111111,
              "#46039f"
             ],
             [
              0.2222222222222222,
              "#7201a8"
             ],
             [
              0.3333333333333333,
              "#9c179e"
             ],
             [
              0.4444444444444444,
              "#bd3786"
             ],
             [
              0.5555555555555556,
              "#d8576b"
             ],
             [
              0.6666666666666666,
              "#ed7953"
             ],
             [
              0.7777777777777778,
              "#fb9f3a"
             ],
             [
              0.8888888888888888,
              "#fdca26"
             ],
             [
              1,
              "#f0f921"
             ]
            ],
            "type": "heatmap"
           }
          ],
          "heatmapgl": [
           {
            "colorbar": {
             "outlinewidth": 0,
             "ticks": ""
            },
            "colorscale": [
             [
              0,
              "#0d0887"
             ],
             [
              0.1111111111111111,
              "#46039f"
             ],
             [
              0.2222222222222222,
              "#7201a8"
             ],
             [
              0.3333333333333333,
              "#9c179e"
             ],
             [
              0.4444444444444444,
              "#bd3786"
             ],
             [
              0.5555555555555556,
              "#d8576b"
             ],
             [
              0.6666666666666666,
              "#ed7953"
             ],
             [
              0.7777777777777778,
              "#fb9f3a"
             ],
             [
              0.8888888888888888,
              "#fdca26"
             ],
             [
              1,
              "#f0f921"
             ]
            ],
            "type": "heatmapgl"
           }
          ],
          "histogram": [
           {
            "marker": {
             "colorbar": {
              "outlinewidth": 0,
              "ticks": ""
             }
            },
            "type": "histogram"
           }
          ],
          "histogram2d": [
           {
            "colorbar": {
             "outlinewidth": 0,
             "ticks": ""
            },
            "colorscale": [
             [
              0,
              "#0d0887"
             ],
             [
              0.1111111111111111,
              "#46039f"
             ],
             [
              0.2222222222222222,
              "#7201a8"
             ],
             [
              0.3333333333333333,
              "#9c179e"
             ],
             [
              0.4444444444444444,
              "#bd3786"
             ],
             [
              0.5555555555555556,
              "#d8576b"
             ],
             [
              0.6666666666666666,
              "#ed7953"
             ],
             [
              0.7777777777777778,
              "#fb9f3a"
             ],
             [
              0.8888888888888888,
              "#fdca26"
             ],
             [
              1,
              "#f0f921"
             ]
            ],
            "type": "histogram2d"
           }
          ],
          "histogram2dcontour": [
           {
            "colorbar": {
             "outlinewidth": 0,
             "ticks": ""
            },
            "colorscale": [
             [
              0,
              "#0d0887"
             ],
             [
              0.1111111111111111,
              "#46039f"
             ],
             [
              0.2222222222222222,
              "#7201a8"
             ],
             [
              0.3333333333333333,
              "#9c179e"
             ],
             [
              0.4444444444444444,
              "#bd3786"
             ],
             [
              0.5555555555555556,
              "#d8576b"
             ],
             [
              0.6666666666666666,
              "#ed7953"
             ],
             [
              0.7777777777777778,
              "#fb9f3a"
             ],
             [
              0.8888888888888888,
              "#fdca26"
             ],
             [
              1,
              "#f0f921"
             ]
            ],
            "type": "histogram2dcontour"
           }
          ],
          "mesh3d": [
           {
            "colorbar": {
             "outlinewidth": 0,
             "ticks": ""
            },
            "type": "mesh3d"
           }
          ],
          "parcoords": [
           {
            "line": {
             "colorbar": {
              "outlinewidth": 0,
              "ticks": ""
             }
            },
            "type": "parcoords"
           }
          ],
          "scatter": [
           {
            "marker": {
             "colorbar": {
              "outlinewidth": 0,
              "ticks": ""
             }
            },
            "type": "scatter"
           }
          ],
          "scatter3d": [
           {
            "line": {
             "colorbar": {
              "outlinewidth": 0,
              "ticks": ""
             }
            },
            "marker": {
             "colorbar": {
              "outlinewidth": 0,
              "ticks": ""
             }
            },
            "type": "scatter3d"
           }
          ],
          "scattercarpet": [
           {
            "marker": {
             "colorbar": {
              "outlinewidth": 0,
              "ticks": ""
             }
            },
            "type": "scattercarpet"
           }
          ],
          "scattergeo": [
           {
            "marker": {
             "colorbar": {
              "outlinewidth": 0,
              "ticks": ""
             }
            },
            "type": "scattergeo"
           }
          ],
          "scattergl": [
           {
            "marker": {
             "colorbar": {
              "outlinewidth": 0,
              "ticks": ""
             }
            },
            "type": "scattergl"
           }
          ],
          "scattermapbox": [
           {
            "marker": {
             "colorbar": {
              "outlinewidth": 0,
              "ticks": ""
             }
            },
            "type": "scattermapbox"
           }
          ],
          "scatterpolar": [
           {
            "marker": {
             "colorbar": {
              "outlinewidth": 0,
              "ticks": ""
             }
            },
            "type": "scatterpolar"
           }
          ],
          "scatterpolargl": [
           {
            "marker": {
             "colorbar": {
              "outlinewidth": 0,
              "ticks": ""
             }
            },
            "type": "scatterpolargl"
           }
          ],
          "scatterternary": [
           {
            "marker": {
             "colorbar": {
              "outlinewidth": 0,
              "ticks": ""
             }
            },
            "type": "scatterternary"
           }
          ],
          "surface": [
           {
            "colorbar": {
             "outlinewidth": 0,
             "ticks": ""
            },
            "colorscale": [
             [
              0,
              "#0d0887"
             ],
             [
              0.1111111111111111,
              "#46039f"
             ],
             [
              0.2222222222222222,
              "#7201a8"
             ],
             [
              0.3333333333333333,
              "#9c179e"
             ],
             [
              0.4444444444444444,
              "#bd3786"
             ],
             [
              0.5555555555555556,
              "#d8576b"
             ],
             [
              0.6666666666666666,
              "#ed7953"
             ],
             [
              0.7777777777777778,
              "#fb9f3a"
             ],
             [
              0.8888888888888888,
              "#fdca26"
             ],
             [
              1,
              "#f0f921"
             ]
            ],
            "type": "surface"
           }
          ],
          "table": [
           {
            "cells": {
             "fill": {
              "color": "#EBF0F8"
             },
             "line": {
              "color": "white"
             }
            },
            "header": {
             "fill": {
              "color": "#C8D4E3"
             },
             "line": {
              "color": "white"
             }
            },
            "type": "table"
           }
          ]
         },
         "layout": {
          "annotationdefaults": {
           "arrowcolor": "#2a3f5f",
           "arrowhead": 0,
           "arrowwidth": 1
          },
          "colorscale": {
           "diverging": [
            [
             0,
             "#8e0152"
            ],
            [
             0.1,
             "#c51b7d"
            ],
            [
             0.2,
             "#de77ae"
            ],
            [
             0.3,
             "#f1b6da"
            ],
            [
             0.4,
             "#fde0ef"
            ],
            [
             0.5,
             "#f7f7f7"
            ],
            [
             0.6,
             "#e6f5d0"
            ],
            [
             0.7,
             "#b8e186"
            ],
            [
             0.8,
             "#7fbc41"
            ],
            [
             0.9,
             "#4d9221"
            ],
            [
             1,
             "#276419"
            ]
           ],
           "sequential": [
            [
             0,
             "#0d0887"
            ],
            [
             0.1111111111111111,
             "#46039f"
            ],
            [
             0.2222222222222222,
             "#7201a8"
            ],
            [
             0.3333333333333333,
             "#9c179e"
            ],
            [
             0.4444444444444444,
             "#bd3786"
            ],
            [
             0.5555555555555556,
             "#d8576b"
            ],
            [
             0.6666666666666666,
             "#ed7953"
            ],
            [
             0.7777777777777778,
             "#fb9f3a"
            ],
            [
             0.8888888888888888,
             "#fdca26"
            ],
            [
             1,
             "#f0f921"
            ]
           ],
           "sequentialminus": [
            [
             0,
             "#0d0887"
            ],
            [
             0.1111111111111111,
             "#46039f"
            ],
            [
             0.2222222222222222,
             "#7201a8"
            ],
            [
             0.3333333333333333,
             "#9c179e"
            ],
            [
             0.4444444444444444,
             "#bd3786"
            ],
            [
             0.5555555555555556,
             "#d8576b"
            ],
            [
             0.6666666666666666,
             "#ed7953"
            ],
            [
             0.7777777777777778,
             "#fb9f3a"
            ],
            [
             0.8888888888888888,
             "#fdca26"
            ],
            [
             1,
             "#f0f921"
            ]
           ]
          },
          "colorway": [
           "#636efa",
           "#EF553B",
           "#00cc96",
           "#ab63fa",
           "#FFA15A",
           "#19d3f3",
           "#FF6692",
           "#B6E880",
           "#FF97FF",
           "#FECB52"
          ],
          "font": {
           "color": "#2a3f5f"
          },
          "geo": {
           "bgcolor": "white",
           "lakecolor": "white",
           "landcolor": "#E5ECF6",
           "showlakes": true,
           "showland": true,
           "subunitcolor": "white"
          },
          "hoverlabel": {
           "align": "left"
          },
          "hovermode": "closest",
          "mapbox": {
           "style": "light"
          },
          "paper_bgcolor": "white",
          "plot_bgcolor": "#E5ECF6",
          "polar": {
           "angularaxis": {
            "gridcolor": "white",
            "linecolor": "white",
            "ticks": ""
           },
           "bgcolor": "#E5ECF6",
           "radialaxis": {
            "gridcolor": "white",
            "linecolor": "white",
            "ticks": ""
           }
          },
          "scene": {
           "xaxis": {
            "backgroundcolor": "#E5ECF6",
            "gridcolor": "white",
            "gridwidth": 2,
            "linecolor": "white",
            "showbackground": true,
            "ticks": "",
            "zerolinecolor": "white"
           },
           "yaxis": {
            "backgroundcolor": "#E5ECF6",
            "gridcolor": "white",
            "gridwidth": 2,
            "linecolor": "white",
            "showbackground": true,
            "ticks": "",
            "zerolinecolor": "white"
           },
           "zaxis": {
            "backgroundcolor": "#E5ECF6",
            "gridcolor": "white",
            "gridwidth": 2,
            "linecolor": "white",
            "showbackground": true,
            "ticks": "",
            "zerolinecolor": "white"
           }
          },
          "shapedefaults": {
           "line": {
            "color": "#2a3f5f"
           }
          },
          "ternary": {
           "aaxis": {
            "gridcolor": "white",
            "linecolor": "white",
            "ticks": ""
           },
           "baxis": {
            "gridcolor": "white",
            "linecolor": "white",
            "ticks": ""
           },
           "bgcolor": "#E5ECF6",
           "caxis": {
            "gridcolor": "white",
            "linecolor": "white",
            "ticks": ""
           }
          },
          "title": {
           "x": 0.05
          },
          "xaxis": {
           "automargin": true,
           "gridcolor": "white",
           "linecolor": "white",
           "ticks": "",
           "zerolinecolor": "white",
           "zerolinewidth": 2
          },
          "yaxis": {
           "automargin": true,
           "gridcolor": "white",
           "linecolor": "white",
           "ticks": "",
           "zerolinecolor": "white",
           "zerolinewidth": 2
          }
         }
        }
       },
       "_py2js_addTraces": {},
       "_py2js_animate": {},
       "_py2js_deleteTraces": {},
       "_py2js_moveTraces": {},
       "_py2js_removeLayoutProps": {},
       "_py2js_removeTraceProps": {},
       "_py2js_restyle": {},
       "_py2js_update": {},
       "_view_count": 0
      }
     },
     "a114012d027c4b918c545694c7bd1a0e": {
      "model_module": "@jupyter-widgets/base",
      "model_module_version": "1.2.0",
      "model_name": "LayoutModel",
      "state": {}
     },
     "b853fcf55f0a44e7882b1d2b60f9e19e": {
      "model_module": "@jupyter-widgets/base",
      "model_module_version": "1.2.0",
      "model_name": "LayoutModel",
      "state": {}
     },
     "b86ef7098d55449995b15a9f4d79243d": {
      "buffers": [
       {
        "data": "AAAAAAAACEAAAAAAAADwPwAAAAAAACJAAAAAAACAREAAAAAAAABdQAAAAAAAgFJAAAAAAAAANUAAAAAAAAAIQAAAAAAAAAhAAAAAAAAA8D8AAAAAAADwPw==",
        "encoding": "base64",
        "path": [
         "count",
         "value"
        ]
       },
       {
        "data": "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",
        "encoding": "base64",
        "path": [
         "sample",
         "value"
        ]
       }
      ],
      "model_module": "bqplot",
      "model_module_version": "^0.5.0-alpha.2",
      "model_name": "HistModel",
      "state": {
       "colors": [
        "OrangeRed"
       ],
       "count": {
        "dtype": "float64",
        "shape": [
         11
        ],
        "type": null,
        "value": {}
       },
       "display_legend": false,
       "midpoints": [
        -0.134215,
        -0.103245,
        -0.072275,
        -0.04130500000000001,
        -0.01033500000000001,
        0.020634999999999987,
        0.051604999999999984,
        0.08257499999999998,
        0.11354499999999998,
        0.144515
       ],
       "sample": {
        "dtype": "float64",
        "shape": [
         273
        ],
        "type": null,
        "value": {}
       },
       "scales": {
        "count": "IPY_MODEL_5bb1bc89865042e5b7772f647e4540b2",
        "sample": "IPY_MODEL_06810fb04f5e4b9c89b2cffc27c83001"
       }
      }
     },
     "bef0173d9883412caeaf9f770e3ff569": {
      "model_module": "@jupyter-widgets/controls",
      "model_module_version": "1.5.0",
      "model_name": "HBoxModel",
      "state": {
       "layout": "IPY_MODEL_1de533543ea849e193cce98bfa079761"
      }
     },
     "c3bdc19d5fcb4678b52d9b9ea6d2c0c0": {
      "model_module": "bqplot",
      "model_module_version": "^0.5.0-alpha.2",
      "model_name": "LinearScaleModel",
      "state": {
       "allow_padding": false,
       "max": 1,
       "min": 0,
       "stabilized": false
      }
     },
     "cbb32268bfd64dd4b80cc6545373fe63": {
      "model_module": "bqplot",
      "model_module_version": "^0.5.0-alpha.2",
      "model_name": "AxisModel",
      "state": {
       "scale": "IPY_MODEL_06810fb04f5e4b9c89b2cffc27c83001",
       "side": "bottom",
       "tick_values": null
      }
     },
     "ce9f0aae0a1a460c8edf28139bdf9432": {
      "model_module": "@jupyter-widgets/base",
      "model_module_version": "1.2.0",
      "model_name": "LayoutModel",
      "state": {}
     },
     "cec373f79d2c4af8a3ed590f663179c8": {
      "model_module": "@jupyter-widgets/controls",
      "model_module_version": "1.5.0",
      "model_name": "HBoxModel",
      "state": {
       "layout": "IPY_MODEL_3e65e7171d2e4e78b3b2a55d3d892b5f"
      }
     },
     "dbcc75dc83dd467284f05283aff79de2": {
      "model_module": "@jupyter-widgets/controls",
      "model_module_version": "1.5.0",
      "model_name": "VBoxModel",
      "state": {
       "children": [
        "IPY_MODEL_cec373f79d2c4af8a3ed590f663179c8",
        "IPY_MODEL_7bce635bf37c4146926b59541b3d6cf3"
       ],
       "layout": "IPY_MODEL_b853fcf55f0a44e7882b1d2b60f9e19e"
      }
     },
     "e970a71d7a164b2db7cc92b83cdcdca4": {
      "model_module": "@jupyter-widgets/controls",
      "model_module_version": "1.5.0",
      "model_name": "HBoxModel",
      "state": {
       "layout": "IPY_MODEL_84eb939f2faa4a409fc015f9a2966753"
      }
     },
     "f2dfed3bab0e4208b5b8002f668eb728": {
      "model_module": "bqplot",
      "model_module_version": "^0.5.0-alpha.2",
      "model_name": "FigureModel",
      "state": {
       "_dom_classes": [],
       "axes": [
        "IPY_MODEL_584813a73efd4883aa5669f1abcca41b",
        "IPY_MODEL_cbb32268bfd64dd4b80cc6545373fe63"
       ],
       "layout": "IPY_MODEL_fdda39f5bb074332b5f713964ea34a24",
       "marks": [
        "IPY_MODEL_b86ef7098d55449995b15a9f4d79243d"
       ],
       "scale_x": "IPY_MODEL_c3bdc19d5fcb4678b52d9b9ea6d2c0c0",
       "scale_y": "IPY_MODEL_fa1cccf21b9c40e7881175a324b29630",
       "theme": "classic"
      }
     },
     "fa1cccf21b9c40e7881175a324b29630": {
      "model_module": "bqplot",
      "model_module_version": "^0.5.0-alpha.2",
      "model_name": "LinearScaleModel",
      "state": {
       "allow_padding": false,
       "max": 1,
       "min": 0,
       "stabilized": false
      }
     },
     "fdda39f5bb074332b5f713964ea34a24": {
      "model_module": "@jupyter-widgets/base",
      "model_module_version": "1.2.0",
      "model_name": "LayoutModel",
      "state": {
       "min_width": "125px"
      }
     }
    },
    "version_major": 2,
    "version_minor": 0
   }
  }
 },
 "nbformat": 4,
 "nbformat_minor": 4
}
