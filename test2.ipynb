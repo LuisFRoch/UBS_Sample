{
 "cells": [
  {
   "cell_type": "markdown",
   "metadata": {
    "slideshow": {
     "slide_type": "slide"
    }
   },
   "source": [
    "# UBS - Interactive Exploratory Data Analysis"
   ]
  },
  {
   "cell_type": "markdown",
   "metadata": {},
   "source": [
    "### The following example aims to show the ability of working with:\n",
    "* Databases, Queries, Data Manipulation using:\n",
    "  * SQL\n",
    "  * Python:\n",
    "      - Pandas\n",
    "      - Interactive Visualizations\n",
    "\n",
    ">The aim of this brief exercise is to shed light on the possibilities of crunching large amounts of data from multiple sources seamlessly.\n",
    ">\n",
    ">>The notebook provides the **option to only view results** for those not interested in the looking at the code, data traceability and so on, but also the **option to view** the applied logic, syntax and methodology used for the analysis with a simple click."
   ]
  },
  {
   "cell_type": "markdown",
   "metadata": {},
   "source": [
    "<h3>Import necessary libraries</h3>\n",
    "\n",
    "The following lines provide a description of necessary libraries needed to create an exploratory data-model"
   ]
  },
  {
   "cell_type": "code",
   "execution_count": 7,
   "metadata": {},
   "outputs": [],
   "source": [
    "# Import required libraries\n",
    "import pandas as pd\n",
    "import requests\n",
    "import io\n",
    "import sqlite3\n",
    "%load_ext sql\n",
    "import sqlalchemy as sqla\n",
    "from sqlalchemy import create_engine\n",
    "from sqlite3 import Error\n",
    "import qgrid\n",
    "    \n",
    "# Download csv files from GitHub repository\n",
    "# Note: csv files can be imported from your local machine or network shared folders\n",
    "\n",
    "url = 'https://raw.githubusercontent.com/LuisFRoch/UBS_Sample/master/Credit_risk.csv'\n",
    "d0 = requests.get(url).content\n",
    "\n",
    "url1 = 'https://raw.githubusercontent.com/LuisFRoch/UBS_Sample/master/eba_List_RepInst.csv'\n",
    "d1 = requests.get(url1).content\n",
    "\n",
    "# Reading the downloaded content and turning it into a pandas dataframe\n",
    "\n",
    "df = pd.read_csv(io.StringIO(d0.decode('utf-8')))\n",
    "df1 = pd.read_csv(io.StringIO(d1.decode('utf-8')))"
   ]
  },
  {
   "cell_type": "markdown",
   "metadata": {},
   "source": [
    "<h2>SQL Database and Query Analysis<.h2>"
   ]
  },
  {
   "cell_type": "markdown",
   "metadata": {},
   "source": [
    "**We create an engine in order to be able to create a virtual database to hold our data :**"
   ]
  },
  {
   "cell_type": "code",
   "execution_count": 8,
   "metadata": {},
   "outputs": [
    {
     "data": {
      "text/plain": [
       "Engine(sqlite:///Creditrisk.db)"
      ]
     },
     "execution_count": 8,
     "metadata": {},
     "output_type": "execute_result"
    }
   ],
   "source": [
    "engine = create_engine('sqlite:///Creditrisk.db', echo=False)\n",
    "engine"
   ]
  },
  {
   "cell_type": "markdown",
   "metadata": {},
   "source": [
    "**Once the virtual database is created, we create a connection in order to be able to insert data.**"
   ]
  },
  {
   "cell_type": "code",
   "execution_count": 9,
   "metadata": {},
   "outputs": [
    {
     "name": "stdout",
     "output_type": "stream",
     "text": [
      "Connected to:  <sqlite3.Connection object at 0x7f879bc72570>\n"
     ]
    }
   ],
   "source": [
    "con = sqlite3.connect('Creditrisk.db')\n",
    "c = con.cursor()\n",
    "print('Connected to: ', con)"
   ]
  },
  {
   "cell_type": "markdown",
   "metadata": {},
   "source": [
    ">**We use the following script to be able to use SQL and Python commands in the same environment**"
   ]
  },
  {
   "cell_type": "code",
   "execution_count": 10,
   "metadata": {},
   "outputs": [
    {
     "data": {
      "text/plain": [
       "'Connected: @Creditrisk.db'"
      ]
     },
     "execution_count": 10,
     "metadata": {},
     "output_type": "execute_result"
    }
   ],
   "source": [
    "%sql sqlite:///Creditrisk.db"
   ]
  },
  {
   "cell_type": "markdown",
   "metadata": {},
   "source": [
    "**Create SQL tables to hold our downloaded data**"
   ]
  },
  {
   "cell_type": "code",
   "execution_count": 11,
   "metadata": {},
   "outputs": [],
   "source": [
    "c.execute('''CREATE TABLE IF NOT EXISTS eba_List (LEI_code TEXT, Name TEXT, Country TEXT)''')\n",
    "\n",
    "c.execute('''CREATE TABLE IF NOT EXISTS Portfolio_list (LEI_code TEXT, \n",
    "                                                        NSA TEXT,\n",
    "                                                        Periods DATE,\n",
    "                                                        Item REAL,\n",
    "                                                        Portfolio INTEGER,\n",
    "                                                        Country INTEGER,\n",
    "                                                        Country_rank INTEGER,\n",
    "                                                        Exposure REAL,\n",
    "                                                        Status INTEGER,\n",
    "                                                        Perf_Status INTEGER,\n",
    "                                                        AMOUNT REAL\n",
    "                                                        )''')\n",
    "con.commit()"
   ]
  },
  {
   "cell_type": "markdown",
   "metadata": {},
   "source": [
    "**Load data held in memory and transform SQL table format**"
   ]
  },
  {
   "cell_type": "code",
   "execution_count": 12,
   "metadata": {},
   "outputs": [],
   "source": [
    "df1 = pd.read_csv(io.StringIO(d1.decode('utf-8')))\n",
    "df1.to_sql('EBA_List', con, if_exists='append', index = False, chunksize = 1000)\n",
    "df = pd.read_csv(io.StringIO(d0.decode('utf-8')))\n",
    "df.to_sql('Portfolio_list', con=engine, if_exists='append', index = False, chunksize = 10000)"
   ]
  },
  {
   "cell_type": "markdown",
   "metadata": {},
   "source": [
    "**The following lines query the created database to review loaded tables**"
   ]
  },
  {
   "cell_type": "code",
   "execution_count": 32,
   "metadata": {
    "cell_style": "split"
   },
   "outputs": [
    {
     "name": "stdout",
     "output_type": "stream",
     "text": [
      " * sqlite:///Creditrisk.db\n",
      "Done.\n"
     ]
    },
    {
     "data": {
      "text/html": [
       "<table>\n",
       "    <tr>\n",
       "        <th>LEI_code</th>\n",
       "        <th>Name</th>\n",
       "        <th>Country</th>\n",
       "    </tr>\n",
       "    <tr>\n",
       "        <td>PQOH26KWDF7CG10L6792</td>\n",
       "        <td>Erste Group Bank AG</td>\n",
       "        <td>Austria</td>\n",
       "    </tr>\n",
       "    <tr>\n",
       "        <td>5299004SNO5GECIBWJ18</td>\n",
       "        <td>Promontoria Sacher Holding N.V.</td>\n",
       "        <td>Austria</td>\n",
       "    </tr>\n",
       "    <tr>\n",
       "        <td>529900XSTAE561178282</td>\n",
       "        <td>Raiffeisenbankengruppe OÖ Verbund eGen</td>\n",
       "        <td>Austria</td>\n",
       "    </tr>\n",
       "    <tr>\n",
       "        <td>529900SXEWPJ1MRRX537</td>\n",
       "        <td>Raiffeisen-Holding Niederösterreich-Wien Registrierte Genossenschaft Mit Beschränkter Haftung</td>\n",
       "        <td>Austria</td>\n",
       "    </tr>\n",
       "    <tr>\n",
       "        <td>EVOYOND2GGP3UHGGE885</td>\n",
       "        <td>Raiffeisen Zentralbank Österreich Aktiengesellschaft</td>\n",
       "        <td>Austria</td>\n",
       "    </tr>\n",
       "    <tr>\n",
       "        <td>529900IZ8TASAYR3A694</td>\n",
       "        <td>Sberbank Europe AG</td>\n",
       "        <td>Austria</td>\n",
       "    </tr>\n",
       "    <tr>\n",
       "        <td>D1HEB8VEU6D9M8ZUXG17</td>\n",
       "        <td>UniCredit Bank Austria AG</td>\n",
       "        <td>Austria</td>\n",
       "    </tr>\n",
       "    <tr>\n",
       "        <td>529900D4CD6DIB3CI904</td>\n",
       "        <td>Volksbanken Wien-Baden AG</td>\n",
       "        <td>Austria</td>\n",
       "    </tr>\n",
       "    <tr>\n",
       "        <td>15DYKVGPQCMYBH2DZ583</td>\n",
       "        <td>VTB Bank AG</td>\n",
       "        <td>Austria</td>\n",
       "    </tr>\n",
       "    <tr>\n",
       "        <td>LSGM84136ACA92XCN876</td>\n",
       "        <td>AXA Bank Europe SA</td>\n",
       "        <td>Belgium</td>\n",
       "    </tr>\n",
       "</table>"
      ],
      "text/plain": [
       "[('PQOH26KWDF7CG10L6792', 'Erste Group Bank AG', 'Austria'),\n",
       " ('5299004SNO5GECIBWJ18', 'Promontoria Sacher Holding N.V.', 'Austria'),\n",
       " ('529900XSTAE561178282', 'Raiffeisenbankengruppe OÖ Verbund eGen', 'Austria'),\n",
       " ('529900SXEWPJ1MRRX537', 'Raiffeisen-Holding Niederösterreich-Wien Registrierte Genossenschaft Mit Beschränkter Haftung', 'Austria'),\n",
       " ('EVOYOND2GGP3UHGGE885', 'Raiffeisen Zentralbank Österreich Aktiengesellschaft', 'Austria'),\n",
       " ('529900IZ8TASAYR3A694', 'Sberbank Europe AG', 'Austria'),\n",
       " ('D1HEB8VEU6D9M8ZUXG17', 'UniCredit Bank Austria AG', 'Austria'),\n",
       " ('529900D4CD6DIB3CI904', 'Volksbanken Wien-Baden AG', 'Austria'),\n",
       " ('15DYKVGPQCMYBH2DZ583', 'VTB Bank AG', 'Austria'),\n",
       " ('LSGM84136ACA92XCN876', 'AXA Bank Europe SA', 'Belgium')]"
      ]
     },
     "execution_count": 32,
     "metadata": {},
     "output_type": "execute_result"
    }
   ],
   "source": [
    "%%sql\n",
    "select *\n",
    "from EBA_List\n",
    "Limit 10"
   ]
  },
  {
   "cell_type": "code",
   "execution_count": null,
   "metadata": {
    "cell_style": "split"
   },
   "outputs": [],
   "source": []
  },
  {
   "cell_type": "code",
   "execution_count": 15,
   "metadata": {
    "cell_style": "split",
    "scrolled": false
   },
   "outputs": [
    {
     "name": "stdout",
     "output_type": "stream",
     "text": [
      " * sqlite:///Creditrisk.db\n",
      "Done.\n"
     ]
    },
    {
     "data": {
      "text/html": [
       "<table>\n",
       "    <tr>\n",
       "        <th>LEI_code</th>\n",
       "        <th>NSA</th>\n",
       "        <th>Periods</th>\n",
       "        <th>Item</th>\n",
       "        <th>Portfolio</th>\n",
       "        <th>Country</th>\n",
       "        <th>Country_rank</th>\n",
       "        <th>Exposure</th>\n",
       "        <th>Status</th>\n",
       "        <th>Perf_Status</th>\n",
       "        <th>AMOUNT</th>\n",
       "    </tr>\n",
       "    <tr>\n",
       "        <td>PQOH26KWDF7CG10L6792</td>\n",
       "        <td>AT</td>\n",
       "        <td>201412</td>\n",
       "        <td>150501.0</td>\n",
       "        <td>1</td>\n",
       "        <td>0</td>\n",
       "        <td>0</td>\n",
       "        <td>0.0</td>\n",
       "        <td>0</td>\n",
       "        <td>0</td>\n",
       "        <td>71177.04616499999</td>\n",
       "    </tr>\n",
       "    <tr>\n",
       "        <td>PQOH26KWDF7CG10L6792</td>\n",
       "        <td>AT</td>\n",
       "        <td>201412</td>\n",
       "        <td>150502.0</td>\n",
       "        <td>1</td>\n",
       "        <td>0</td>\n",
       "        <td>0</td>\n",
       "        <td>103.0</td>\n",
       "        <td>0</td>\n",
       "        <td>0</td>\n",
       "        <td>34204.300706</td>\n",
       "    </tr>\n",
       "    <tr>\n",
       "        <td>PQOH26KWDF7CG10L6792</td>\n",
       "        <td>AT</td>\n",
       "        <td>201412</td>\n",
       "        <td>150502.0</td>\n",
       "        <td>1</td>\n",
       "        <td>0</td>\n",
       "        <td>0</td>\n",
       "        <td>104.0</td>\n",
       "        <td>0</td>\n",
       "        <td>0</td>\n",
       "        <td>4944.8083008</td>\n",
       "    </tr>\n",
       "    <tr>\n",
       "        <td>PQOH26KWDF7CG10L6792</td>\n",
       "        <td>AT</td>\n",
       "        <td>201412</td>\n",
       "        <td>150502.0</td>\n",
       "        <td>1</td>\n",
       "        <td>0</td>\n",
       "        <td>0</td>\n",
       "        <td>105.0</td>\n",
       "        <td>0</td>\n",
       "        <td>0</td>\n",
       "        <td>3364.7812408</td>\n",
       "    </tr>\n",
       "    <tr>\n",
       "        <td>PQOH26KWDF7CG10L6792</td>\n",
       "        <td>AT</td>\n",
       "        <td>201412</td>\n",
       "        <td>150502.0</td>\n",
       "        <td>1</td>\n",
       "        <td>0</td>\n",
       "        <td>0</td>\n",
       "        <td>106.0</td>\n",
       "        <td>0</td>\n",
       "        <td>0</td>\n",
       "        <td>550.03152909</td>\n",
       "    </tr>\n",
       "    <tr>\n",
       "        <td>PQOH26KWDF7CG10L6792</td>\n",
       "        <td>AT</td>\n",
       "        <td>201412</td>\n",
       "        <td>150502.0</td>\n",
       "        <td>1</td>\n",
       "        <td>0</td>\n",
       "        <td>0</td>\n",
       "        <td>107.0</td>\n",
       "        <td>0</td>\n",
       "        <td>0</td>\n",
       "        <td>440.30131481</td>\n",
       "    </tr>\n",
       "    <tr>\n",
       "        <td>PQOH26KWDF7CG10L6792</td>\n",
       "        <td>AT</td>\n",
       "        <td>201412</td>\n",
       "        <td>150502.0</td>\n",
       "        <td>1</td>\n",
       "        <td>0</td>\n",
       "        <td>0</td>\n",
       "        <td>203.0</td>\n",
       "        <td>0</td>\n",
       "        <td>0</td>\n",
       "        <td>1897.6831549000003</td>\n",
       "    </tr>\n",
       "    <tr>\n",
       "        <td>PQOH26KWDF7CG10L6792</td>\n",
       "        <td>AT</td>\n",
       "        <td>201412</td>\n",
       "        <td>150502.0</td>\n",
       "        <td>1</td>\n",
       "        <td>0</td>\n",
       "        <td>0</td>\n",
       "        <td>303.0</td>\n",
       "        <td>0</td>\n",
       "        <td>0</td>\n",
       "        <td>10622.100938</td>\n",
       "    </tr>\n",
       "    <tr>\n",
       "        <td>PQOH26KWDF7CG10L6792</td>\n",
       "        <td>AT</td>\n",
       "        <td>201412</td>\n",
       "        <td>150502.0</td>\n",
       "        <td>1</td>\n",
       "        <td>0</td>\n",
       "        <td>0</td>\n",
       "        <td>404.0</td>\n",
       "        <td>0</td>\n",
       "        <td>0</td>\n",
       "        <td>4893.4456837</td>\n",
       "    </tr>\n",
       "    <tr>\n",
       "        <td>PQOH26KWDF7CG10L6792</td>\n",
       "        <td>AT</td>\n",
       "        <td>201412</td>\n",
       "        <td>150502.0</td>\n",
       "        <td>1</td>\n",
       "        <td>0</td>\n",
       "        <td>0</td>\n",
       "        <td>501.0</td>\n",
       "        <td>0</td>\n",
       "        <td>0</td>\n",
       "        <td>2840.9543862</td>\n",
       "    </tr>\n",
       "</table>"
      ],
      "text/plain": [
       "[('PQOH26KWDF7CG10L6792', 'AT', 201412, 150501.0, 1, 0, 0, 0.0, 0, 0, 71177.04616499999),\n",
       " ('PQOH26KWDF7CG10L6792', 'AT', 201412, 150502.0, 1, 0, 0, 103.0, 0, 0, 34204.300706),\n",
       " ('PQOH26KWDF7CG10L6792', 'AT', 201412, 150502.0, 1, 0, 0, 104.0, 0, 0, 4944.8083008),\n",
       " ('PQOH26KWDF7CG10L6792', 'AT', 201412, 150502.0, 1, 0, 0, 105.0, 0, 0, 3364.7812408),\n",
       " ('PQOH26KWDF7CG10L6792', 'AT', 201412, 150502.0, 1, 0, 0, 106.0, 0, 0, 550.03152909),\n",
       " ('PQOH26KWDF7CG10L6792', 'AT', 201412, 150502.0, 1, 0, 0, 107.0, 0, 0, 440.30131481),\n",
       " ('PQOH26KWDF7CG10L6792', 'AT', 201412, 150502.0, 1, 0, 0, 203.0, 0, 0, 1897.6831549000003),\n",
       " ('PQOH26KWDF7CG10L6792', 'AT', 201412, 150502.0, 1, 0, 0, 303.0, 0, 0, 10622.100938),\n",
       " ('PQOH26KWDF7CG10L6792', 'AT', 201412, 150502.0, 1, 0, 0, 404.0, 0, 0, 4893.4456837),\n",
       " ('PQOH26KWDF7CG10L6792', 'AT', 201412, 150502.0, 1, 0, 0, 501.0, 0, 0, 2840.9543862)]"
      ]
     },
     "execution_count": 15,
     "metadata": {},
     "output_type": "execute_result"
    }
   ],
   "source": [
    "%%sql\n",
    "select *\n",
    "from Portfolio_list\n",
    "Limit 10"
   ]
  },
  {
   "cell_type": "code",
   "execution_count": 33,
   "metadata": {
    "cell_style": "split",
    "code_folding": []
   },
   "outputs": [
    {
     "name": "stdout",
     "output_type": "stream",
     "text": [
      " * sqlite:///Creditrisk.db\n",
      "Done.\n"
     ]
    },
    {
     "data": {
      "text/html": [
       "<table>\n",
       "    <tr>\n",
       "        <th>count(*)</th>\n",
       "    </tr>\n",
       "    <tr>\n",
       "        <td>380</td>\n",
       "    </tr>\n",
       "</table>"
      ],
      "text/plain": [
       "[(380,)]"
      ]
     },
     "execution_count": 33,
     "metadata": {},
     "output_type": "execute_result"
    }
   ],
   "source": [
    "%%sql\n",
    "select count(*)\n",
    "from EBA_list"
   ]
  },
  {
   "cell_type": "code",
   "execution_count": 34,
   "metadata": {
    "cell_style": "split"
   },
   "outputs": [
    {
     "name": "stdout",
     "output_type": "stream",
     "text": [
      " * sqlite:///Creditrisk.db\n",
      "Done.\n"
     ]
    },
    {
     "data": {
      "text/html": [
       "<table>\n",
       "    <tr>\n",
       "        <th>count(*)</th>\n",
       "    </tr>\n",
       "    <tr>\n",
       "        <td>251666</td>\n",
       "    </tr>\n",
       "</table>"
      ],
      "text/plain": [
       "[(251666,)]"
      ]
     },
     "execution_count": 34,
     "metadata": {},
     "output_type": "execute_result"
    }
   ],
   "source": [
    "%%sql\n",
    "select count(*)\n",
    "from Portfolio_list"
   ]
  },
  {
   "cell_type": "markdown",
   "metadata": {},
   "source": [
    "**Create a \"View\" or virtual table joining EBA_ List and Portfolio_List tables**"
   ]
  },
  {
   "cell_type": "code",
   "execution_count": 18,
   "metadata": {},
   "outputs": [
    {
     "name": "stdout",
     "output_type": "stream",
     "text": [
      " * sqlite:///Creditrisk.db\n",
      "(sqlite3.OperationalError) table v_master already exists\n",
      "[SQL: create view v_master as\n",
      "    select pl.LEI_code,\n",
      "            ebalst.Name as Entity_Name,\n",
      "            ebalst.Country,\n",
      "            pl.NSA,\n",
      "            pl.Periods as Maturity,\n",
      "            pl.Portfolio,\n",
      "            pl.Exposure,\n",
      "            pl.Perf_Status, \n",
      "            pl.AMOUNT\n",
      "from Portfolio_list as pl\n",
      "left join EBA_List as ebalst\n",
      "on pl.LEI_code = ebalst.LEI_code]\n",
      "(Background on this error at: http://sqlalche.me/e/e3q8)\n"
     ]
    }
   ],
   "source": [
    "%%sql\n",
    "create view v_master as\n",
    "    select pl.LEI_code,\n",
    "            ebalst.Name as Entity_Name,\n",
    "            ebalst.Country,\n",
    "            pl.NSA,\n",
    "            pl.Periods as Maturity,\n",
    "            pl.Portfolio,\n",
    "            pl.Exposure,\n",
    "            pl.Perf_Status, \n",
    "            pl.AMOUNT\n",
    "from Portfolio_list as pl\n",
    "left join EBA_List as ebalst\n",
    "on pl.LEI_code = ebalst.LEI_code"
   ]
  },
  {
   "cell_type": "markdown",
   "metadata": {},
   "source": [
    "**Query created master table**"
   ]
  },
  {
   "cell_type": "code",
   "execution_count": 19,
   "metadata": {},
   "outputs": [
    {
     "name": "stdout",
     "output_type": "stream",
     "text": [
      " * sqlite:///Creditrisk.db\n",
      "Done.\n"
     ]
    },
    {
     "data": {
      "text/html": [
       "<table>\n",
       "    <tr>\n",
       "        <th>LEI_code</th>\n",
       "        <th>NSA</th>\n",
       "        <th>Maturity</th>\n",
       "        <th>Portfolio</th>\n",
       "        <th>Exposure</th>\n",
       "        <th>Perf_Status</th>\n",
       "        <th>AMOUNT</th>\n",
       "        <th>Country</th>\n",
       "        <th>Entity_Name</th>\n",
       "    </tr>\n",
       "    <tr>\n",
       "        <td>PQOH26KWDF7CG10L6792</td>\n",
       "        <td>AT</td>\n",
       "        <td>201412</td>\n",
       "        <td>1</td>\n",
       "        <td>0.0</td>\n",
       "        <td>0</td>\n",
       "        <td>71177.04616499999</td>\n",
       "        <td>Austria</td>\n",
       "        <td>Erste Group Bank AG</td>\n",
       "    </tr>\n",
       "    <tr>\n",
       "        <td>PQOH26KWDF7CG10L6792</td>\n",
       "        <td>AT</td>\n",
       "        <td>201412</td>\n",
       "        <td>1</td>\n",
       "        <td>0.0</td>\n",
       "        <td>0</td>\n",
       "        <td>71177.04616499999</td>\n",
       "        <td>Austria</td>\n",
       "        <td>Erste Group Bank AG</td>\n",
       "    </tr>\n",
       "    <tr>\n",
       "        <td>PQOH26KWDF7CG10L6792</td>\n",
       "        <td>AT</td>\n",
       "        <td>201412</td>\n",
       "        <td>1</td>\n",
       "        <td>103.0</td>\n",
       "        <td>0</td>\n",
       "        <td>34204.300706</td>\n",
       "        <td>Austria</td>\n",
       "        <td>Erste Group Bank AG</td>\n",
       "    </tr>\n",
       "    <tr>\n",
       "        <td>PQOH26KWDF7CG10L6792</td>\n",
       "        <td>AT</td>\n",
       "        <td>201412</td>\n",
       "        <td>1</td>\n",
       "        <td>103.0</td>\n",
       "        <td>0</td>\n",
       "        <td>34204.300706</td>\n",
       "        <td>Austria</td>\n",
       "        <td>Erste Group Bank AG</td>\n",
       "    </tr>\n",
       "    <tr>\n",
       "        <td>PQOH26KWDF7CG10L6792</td>\n",
       "        <td>AT</td>\n",
       "        <td>201412</td>\n",
       "        <td>1</td>\n",
       "        <td>104.0</td>\n",
       "        <td>0</td>\n",
       "        <td>4944.8083008</td>\n",
       "        <td>Austria</td>\n",
       "        <td>Erste Group Bank AG</td>\n",
       "    </tr>\n",
       "    <tr>\n",
       "        <td>PQOH26KWDF7CG10L6792</td>\n",
       "        <td>AT</td>\n",
       "        <td>201412</td>\n",
       "        <td>1</td>\n",
       "        <td>104.0</td>\n",
       "        <td>0</td>\n",
       "        <td>4944.8083008</td>\n",
       "        <td>Austria</td>\n",
       "        <td>Erste Group Bank AG</td>\n",
       "    </tr>\n",
       "    <tr>\n",
       "        <td>PQOH26KWDF7CG10L6792</td>\n",
       "        <td>AT</td>\n",
       "        <td>201412</td>\n",
       "        <td>1</td>\n",
       "        <td>105.0</td>\n",
       "        <td>0</td>\n",
       "        <td>3364.7812408</td>\n",
       "        <td>Austria</td>\n",
       "        <td>Erste Group Bank AG</td>\n",
       "    </tr>\n",
       "    <tr>\n",
       "        <td>PQOH26KWDF7CG10L6792</td>\n",
       "        <td>AT</td>\n",
       "        <td>201412</td>\n",
       "        <td>1</td>\n",
       "        <td>105.0</td>\n",
       "        <td>0</td>\n",
       "        <td>3364.7812408</td>\n",
       "        <td>Austria</td>\n",
       "        <td>Erste Group Bank AG</td>\n",
       "    </tr>\n",
       "    <tr>\n",
       "        <td>PQOH26KWDF7CG10L6792</td>\n",
       "        <td>AT</td>\n",
       "        <td>201412</td>\n",
       "        <td>1</td>\n",
       "        <td>106.0</td>\n",
       "        <td>0</td>\n",
       "        <td>550.03152909</td>\n",
       "        <td>Austria</td>\n",
       "        <td>Erste Group Bank AG</td>\n",
       "    </tr>\n",
       "    <tr>\n",
       "        <td>PQOH26KWDF7CG10L6792</td>\n",
       "        <td>AT</td>\n",
       "        <td>201412</td>\n",
       "        <td>1</td>\n",
       "        <td>106.0</td>\n",
       "        <td>0</td>\n",
       "        <td>550.03152909</td>\n",
       "        <td>Austria</td>\n",
       "        <td>Erste Group Bank AG</td>\n",
       "    </tr>\n",
       "</table>"
      ],
      "text/plain": [
       "[('PQOH26KWDF7CG10L6792', 'AT', 201412, 1, 0.0, 0, 71177.04616499999, 'Austria', 'Erste Group Bank AG'),\n",
       " ('PQOH26KWDF7CG10L6792', 'AT', 201412, 1, 0.0, 0, 71177.04616499999, 'Austria', 'Erste Group Bank AG'),\n",
       " ('PQOH26KWDF7CG10L6792', 'AT', 201412, 1, 103.0, 0, 34204.300706, 'Austria', 'Erste Group Bank AG'),\n",
       " ('PQOH26KWDF7CG10L6792', 'AT', 201412, 1, 103.0, 0, 34204.300706, 'Austria', 'Erste Group Bank AG'),\n",
       " ('PQOH26KWDF7CG10L6792', 'AT', 201412, 1, 104.0, 0, 4944.8083008, 'Austria', 'Erste Group Bank AG'),\n",
       " ('PQOH26KWDF7CG10L6792', 'AT', 201412, 1, 104.0, 0, 4944.8083008, 'Austria', 'Erste Group Bank AG'),\n",
       " ('PQOH26KWDF7CG10L6792', 'AT', 201412, 1, 105.0, 0, 3364.7812408, 'Austria', 'Erste Group Bank AG'),\n",
       " ('PQOH26KWDF7CG10L6792', 'AT', 201412, 1, 105.0, 0, 3364.7812408, 'Austria', 'Erste Group Bank AG'),\n",
       " ('PQOH26KWDF7CG10L6792', 'AT', 201412, 1, 106.0, 0, 550.03152909, 'Austria', 'Erste Group Bank AG'),\n",
       " ('PQOH26KWDF7CG10L6792', 'AT', 201412, 1, 106.0, 0, 550.03152909, 'Austria', 'Erste Group Bank AG')]"
      ]
     },
     "execution_count": 19,
     "metadata": {},
     "output_type": "execute_result"
    }
   ],
   "source": [
    "%%sql\n",
    "select *\n",
    "from v_master\n",
    "Limit 10"
   ]
  },
  {
   "cell_type": "markdown",
   "metadata": {},
   "source": [
    "**Simple sum of amount invested grouping by Maturity, Country and Enitty**"
   ]
  },
  {
   "cell_type": "code",
   "execution_count": 21,
   "metadata": {},
   "outputs": [
    {
     "name": "stdout",
     "output_type": "stream",
     "text": [
      " * sqlite:///Creditrisk.db\n",
      "Done.\n"
     ]
    },
    {
     "data": {
      "text/html": [
       "<table>\n",
       "    <tr>\n",
       "        <th>Maturity</th>\n",
       "        <th>Yr</th>\n",
       "        <th>Month</th>\n",
       "        <th>Country</th>\n",
       "        <th>NSA</th>\n",
       "        <th>Entity_Name</th>\n",
       "        <th>Portfolio</th>\n",
       "        <th>Exposure</th>\n",
       "        <th>Total_Invested</th>\n",
       "    </tr>\n",
       "    <tr>\n",
       "        <td>201412</td>\n",
       "        <td>2014</td>\n",
       "        <td>2</td>\n",
       "        <td>Denmark</td>\n",
       "        <td>DK</td>\n",
       "        <td>Sydbank A/S</td>\n",
       "        <td>1</td>\n",
       "        <td>501.0</td>\n",
       "        <td>3353.8069638653997</td>\n",
       "    </tr>\n",
       "    <tr>\n",
       "        <td>201412</td>\n",
       "        <td>2014</td>\n",
       "        <td>2</td>\n",
       "        <td>Latvia</td>\n",
       "        <td>LV</td>\n",
       "        <td>ABLV Bank</td>\n",
       "        <td>1</td>\n",
       "        <td>501.0</td>\n",
       "        <td>3862.1456887800546</td>\n",
       "    </tr>\n",
       "    <tr>\n",
       "        <td>201412</td>\n",
       "        <td>2014</td>\n",
       "        <td>2</td>\n",
       "        <td>Germany</td>\n",
       "        <td>DE</td>\n",
       "        <td>Deutsche Apotheker- und Ärztebank eG</td>\n",
       "        <td>1</td>\n",
       "        <td>501.0</td>\n",
       "        <td>4203.3306609400015</td>\n",
       "    </tr>\n",
       "    <tr>\n",
       "        <td>201412</td>\n",
       "        <td>2014</td>\n",
       "        <td>2</td>\n",
       "        <td>Ireland</td>\n",
       "        <td>IE</td>\n",
       "        <td>Permanent TSB Group Holdings Plc</td>\n",
       "        <td>1</td>\n",
       "        <td>501.0</td>\n",
       "        <td>9080.1195430132</td>\n",
       "    </tr>\n",
       "</table>"
      ],
      "text/plain": [
       "[(201412, '2014', '2', 'Denmark', 'DK', 'Sydbank A/S', 1, 501.0, 3353.8069638653997),\n",
       " (201412, '2014', '2', 'Latvia', 'LV', 'ABLV Bank', 1, 501.0, 3862.1456887800546),\n",
       " (201412, '2014', '2', 'Germany', 'DE', 'Deutsche Apotheker- und Ärztebank eG', 1, 501.0, 4203.3306609400015),\n",
       " (201412, '2014', '2', 'Ireland', 'IE', 'Permanent TSB Group Holdings Plc', 1, 501.0, 9080.1195430132)]"
      ]
     },
     "execution_count": 21,
     "metadata": {},
     "output_type": "execute_result"
    }
   ],
   "source": [
    "%%sql\n",
    "Select  Maturity,\n",
    "        substr(Maturity, 1, 4) as Yr,\n",
    "        substr(Maturity, 6, 2) as Month,\n",
    "        Country,\n",
    "        NSA,\n",
    "        Entity_Name,\n",
    "        Portfolio,\n",
    "        Exposure,\n",
    "        sum(AMOUNT) as Total_Invested\n",
    "From v_master\n",
    "Where Exposure > 500\n",
    "Group by Yr, Month, Country, Entity_Name\n",
    "Order by Yr, Total_Invested\n",
    "Limit 4"
   ]
  },
  {
   "cell_type": "markdown",
   "metadata": {},
   "source": [
    "<h2>Transform SQL data into Pythonic language for further analysis</h2>"
   ]
  },
  {
   "cell_type": "markdown",
   "metadata": {},
   "source": [
    "### Import SQL dataset into a dataframe"
   ]
  },
  {
   "cell_type": "code",
   "execution_count": 23,
   "metadata": {},
   "outputs": [
    {
     "data": {
      "text/html": [
       "<div>\n",
       "<style scoped>\n",
       "    .dataframe tbody tr th:only-of-type {\n",
       "        vertical-align: middle;\n",
       "    }\n",
       "\n",
       "    .dataframe tbody tr th {\n",
       "        vertical-align: top;\n",
       "    }\n",
       "\n",
       "    .dataframe thead th {\n",
       "        text-align: right;\n",
       "    }\n",
       "</style>\n",
       "<table border=\"1\" class=\"dataframe\">\n",
       "  <thead>\n",
       "    <tr style=\"text-align: right;\">\n",
       "      <th></th>\n",
       "      <th>LEI_code</th>\n",
       "      <th>NSA</th>\n",
       "      <th>Maturity</th>\n",
       "      <th>Portfolio</th>\n",
       "      <th>Exposure</th>\n",
       "      <th>Perf_Status</th>\n",
       "      <th>AMOUNT</th>\n",
       "      <th>Country</th>\n",
       "      <th>Entity_Name</th>\n",
       "    </tr>\n",
       "  </thead>\n",
       "  <tbody>\n",
       "    <tr>\n",
       "      <th>0</th>\n",
       "      <td>PQOH26KWDF7CG10L6792</td>\n",
       "      <td>AT</td>\n",
       "      <td>201412</td>\n",
       "      <td>1</td>\n",
       "      <td>0.0</td>\n",
       "      <td>0</td>\n",
       "      <td>71177.046165</td>\n",
       "      <td>Austria</td>\n",
       "      <td>Erste Group Bank AG</td>\n",
       "    </tr>\n",
       "    <tr>\n",
       "      <th>1</th>\n",
       "      <td>PQOH26KWDF7CG10L6792</td>\n",
       "      <td>AT</td>\n",
       "      <td>201412</td>\n",
       "      <td>1</td>\n",
       "      <td>0.0</td>\n",
       "      <td>0</td>\n",
       "      <td>71177.046165</td>\n",
       "      <td>Austria</td>\n",
       "      <td>Erste Group Bank AG</td>\n",
       "    </tr>\n",
       "    <tr>\n",
       "      <th>2</th>\n",
       "      <td>PQOH26KWDF7CG10L6792</td>\n",
       "      <td>AT</td>\n",
       "      <td>201412</td>\n",
       "      <td>1</td>\n",
       "      <td>103.0</td>\n",
       "      <td>0</td>\n",
       "      <td>34204.300706</td>\n",
       "      <td>Austria</td>\n",
       "      <td>Erste Group Bank AG</td>\n",
       "    </tr>\n",
       "    <tr>\n",
       "      <th>3</th>\n",
       "      <td>PQOH26KWDF7CG10L6792</td>\n",
       "      <td>AT</td>\n",
       "      <td>201412</td>\n",
       "      <td>1</td>\n",
       "      <td>103.0</td>\n",
       "      <td>0</td>\n",
       "      <td>34204.300706</td>\n",
       "      <td>Austria</td>\n",
       "      <td>Erste Group Bank AG</td>\n",
       "    </tr>\n",
       "    <tr>\n",
       "      <th>4</th>\n",
       "      <td>PQOH26KWDF7CG10L6792</td>\n",
       "      <td>AT</td>\n",
       "      <td>201412</td>\n",
       "      <td>1</td>\n",
       "      <td>104.0</td>\n",
       "      <td>0</td>\n",
       "      <td>4944.808301</td>\n",
       "      <td>Austria</td>\n",
       "      <td>Erste Group Bank AG</td>\n",
       "    </tr>\n",
       "  </tbody>\n",
       "</table>\n",
       "</div>"
      ],
      "text/plain": [
       "               LEI_code NSA  Maturity  Portfolio  Exposure  Perf_Status  \\\n",
       "0  PQOH26KWDF7CG10L6792  AT    201412          1       0.0            0   \n",
       "1  PQOH26KWDF7CG10L6792  AT    201412          1       0.0            0   \n",
       "2  PQOH26KWDF7CG10L6792  AT    201412          1     103.0            0   \n",
       "3  PQOH26KWDF7CG10L6792  AT    201412          1     103.0            0   \n",
       "4  PQOH26KWDF7CG10L6792  AT    201412          1     104.0            0   \n",
       "\n",
       "         AMOUNT  Country          Entity_Name  \n",
       "0  71177.046165  Austria  Erste Group Bank AG  \n",
       "1  71177.046165  Austria  Erste Group Bank AG  \n",
       "2  34204.300706  Austria  Erste Group Bank AG  \n",
       "3  34204.300706  Austria  Erste Group Bank AG  \n",
       "4   4944.808301  Austria  Erste Group Bank AG  "
      ]
     },
     "execution_count": 23,
     "metadata": {},
     "output_type": "execute_result"
    }
   ],
   "source": [
    "df = pd.read_sql('select * from v_master', con)\n",
    "df.head()"
   ]
  },
  {
   "cell_type": "markdown",
   "metadata": {},
   "source": [
    "###  View dataset number of rows, columns and missing values"
   ]
  },
  {
   "cell_type": "code",
   "execution_count": 25,
   "metadata": {},
   "outputs": [
    {
     "name": "stdout",
     "output_type": "stream",
     "text": [
      "View dataset number of rows and columns:  (476042, 9)\n"
     ]
    }
   ],
   "source": [
    "# Dataset number of rows and columns\n",
    "\n",
    "print ('View dataset number of rows and columns: ', df.shape)"
   ]
  },
  {
   "cell_type": "code",
   "execution_count": null,
   "metadata": {},
   "outputs": [],
   "source": []
  }
 ],
 "metadata": {
  "hide_input": false,
  "kernelspec": {
   "display_name": "Python 3",
   "language": "python",
   "name": "python3"
  },
  "language_info": {
   "codemirror_mode": {
    "name": "ipython",
    "version": 3
   },
   "file_extension": ".py",
   "mimetype": "text/x-python",
   "name": "python",
   "nbconvert_exporter": "python",
   "pygments_lexer": "ipython3",
   "version": "3.7.6"
  },
  "toc": {
   "base_numbering": 1,
   "nav_menu": {
    "height": "160px",
    "width": "420px"
   },
   "number_sections": false,
   "sideBar": false,
   "skip_h1_title": false,
   "title_cell": "Table of Contents",
   "title_sidebar": "Contents",
   "toc_cell": false,
   "toc_position": {},
   "toc_section_display": true,
   "toc_window_display": false
  }
 },
 "nbformat": 4,
 "nbformat_minor": 4
}
